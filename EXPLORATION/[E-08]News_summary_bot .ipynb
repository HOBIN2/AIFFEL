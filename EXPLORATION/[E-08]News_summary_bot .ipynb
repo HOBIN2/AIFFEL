{
 "cells": [
  {
   "cell_type": "markdown",
   "id": "887cb6c6",
   "metadata": {},
   "source": [
    "# [E-08] 뉴스 요약봇 만들기"
   ]
  },
  {
   "cell_type": "markdown",
   "id": "29e9a43b",
   "metadata": {},
   "source": [
    "## 라이브러리 불러오기"
   ]
  },
  {
   "cell_type": "code",
   "execution_count": 1,
   "id": "6cfc2a3b",
   "metadata": {
    "scrolled": true
   },
   "outputs": [
    {
     "name": "stderr",
     "output_type": "stream",
     "text": [
      "[nltk_data] Downloading package stopwords to /aiffel/nltk_data...\n",
      "[nltk_data]   Package stopwords is already up-to-date!\n"
     ]
    }
   ],
   "source": [
    "import nltk#nltk = Natural Language Toolkit의 축약어로 영어기호, 통계, 자연어 처리를 위한 라이브러리\n",
    "nltk.download('stopwords')# i, my, me, over,조사, 접미사와 같이 문장에는 자주 등장하지만, 의미를 분석하고 요약하는데는 거의 의미가 없는 100여개의 불용어가 정리되어있다\n",
    "\n",
    "import numpy as np\n",
    "import pandas as pd\n",
    "import os\n",
    "import re\n",
    "import matplotlib.pyplot as plt\n",
    "from nltk.corpus import stopwords\n",
    "from bs4 import BeautifulSoup \n",
    "from tensorflow.keras.preprocessing.text import Tokenizer \n",
    "from tensorflow.keras.preprocessing.sequence import pad_sequences\n",
    "import urllib.request\n",
    "import warnings\n",
    "warnings.filterwarnings(\"ignore\", category=UserWarning, module='bs4')"
   ]
  },
  {
   "cell_type": "markdown",
   "id": "4bf6df19",
   "metadata": {},
   "source": [
    "## 1) 데이터 수집하기"
   ]
  },
  {
   "cell_type": "code",
   "execution_count": 2,
   "id": "85dcbe2f",
   "metadata": {},
   "outputs": [],
   "source": [
    "urllib.request.urlretrieve(\"https://raw.githubusercontent.com/sunnysai12345/News_Summary/master/news_summary_more.csv\", filename=\"news_summary_more.csv\")\n",
    "data = pd.read_csv('news_summary_more.csv', encoding='iso-8859-1')"
   ]
  },
  {
   "cell_type": "markdown",
   "id": "f347a38b",
   "metadata": {},
   "source": [
    "- headlines열을 요약으로 보고 text열을 본문으로 본다"
   ]
  },
  {
   "cell_type": "code",
   "execution_count": 3,
   "id": "66fd59e3",
   "metadata": {
    "scrolled": true
   },
   "outputs": [
    {
     "data": {
      "text/html": [
       "<div>\n",
       "<style scoped>\n",
       "    .dataframe tbody tr th:only-of-type {\n",
       "        vertical-align: middle;\n",
       "    }\n",
       "\n",
       "    .dataframe tbody tr th {\n",
       "        vertical-align: top;\n",
       "    }\n",
       "\n",
       "    .dataframe thead th {\n",
       "        text-align: right;\n",
       "    }\n",
       "</style>\n",
       "<table border=\"1\" class=\"dataframe\">\n",
       "  <thead>\n",
       "    <tr style=\"text-align: right;\">\n",
       "      <th></th>\n",
       "      <th>headlines</th>\n",
       "      <th>text</th>\n",
       "    </tr>\n",
       "  </thead>\n",
       "  <tbody>\n",
       "    <tr>\n",
       "      <th>1662</th>\n",
       "      <td>Give security to 2 women who entered Sabarimal...</td>\n",
       "      <td>The Supreme Court on Friday directed the Keral...</td>\n",
       "    </tr>\n",
       "    <tr>\n",
       "      <th>80392</th>\n",
       "      <td>Veteran tennis players play 61-shot rally at W...</td>\n",
       "      <td>Veteran tennis players including Mansour Bahra...</td>\n",
       "    </tr>\n",
       "    <tr>\n",
       "      <th>92785</th>\n",
       "      <td>US mulls shooting down North Korean missile te...</td>\n",
       "      <td>The US is considering shooting down future Nor...</td>\n",
       "    </tr>\n",
       "    <tr>\n",
       "      <th>22798</th>\n",
       "      <td>24 girls rescued from UP shelter home after 1 ...</td>\n",
       "      <td>At least 24 girls were rescued, while 18 are m...</td>\n",
       "    </tr>\n",
       "    <tr>\n",
       "      <th>79267</th>\n",
       "      <td>India wins 2 high jump medals at World Para At...</td>\n",
       "      <td>India's para athletes Sharad Kumar and Varun S...</td>\n",
       "    </tr>\n",
       "    <tr>\n",
       "      <th>63273</th>\n",
       "      <td>Ranaut's pics as Rani Laxmibai from film sets ...</td>\n",
       "      <td>Actress Kangana Ranaut's pictures as Rani Laxm...</td>\n",
       "    </tr>\n",
       "    <tr>\n",
       "      <th>89144</th>\n",
       "      <td>Why is India not attending China's Belt and Ro...</td>\n",
       "      <td>India is set to skip China's two-day Belt and ...</td>\n",
       "    </tr>\n",
       "    <tr>\n",
       "      <th>81767</th>\n",
       "      <td>Julianne Moore becomes face of lingerie brand ...</td>\n",
       "      <td>Oscar-winning actress Julianne Moore has becom...</td>\n",
       "    </tr>\n",
       "    <tr>\n",
       "      <th>24363</th>\n",
       "      <td>Pak's Imran Khan listens to 1992 WC song in ca...</td>\n",
       "      <td>Pakistani cricketer-turned-politician Imran Kh...</td>\n",
       "    </tr>\n",
       "    <tr>\n",
       "      <th>43251</th>\n",
       "      <td>Microsoft offers Ã¢ÂÂ¹1.6 crore to identify c...</td>\n",
       "      <td>Technology giant Microsoft has offered about Ã...</td>\n",
       "    </tr>\n",
       "  </tbody>\n",
       "</table>\n",
       "</div>"
      ],
      "text/plain": [
       "                                               headlines  \\\n",
       "1662   Give security to 2 women who entered Sabarimal...   \n",
       "80392  Veteran tennis players play 61-shot rally at W...   \n",
       "92785  US mulls shooting down North Korean missile te...   \n",
       "22798  24 girls rescued from UP shelter home after 1 ...   \n",
       "79267  India wins 2 high jump medals at World Para At...   \n",
       "63273  Ranaut's pics as Rani Laxmibai from film sets ...   \n",
       "89144  Why is India not attending China's Belt and Ro...   \n",
       "81767  Julianne Moore becomes face of lingerie brand ...   \n",
       "24363  Pak's Imran Khan listens to 1992 WC song in ca...   \n",
       "43251  Microsoft offers Ã¢ÂÂ¹1.6 crore to identify c...   \n",
       "\n",
       "                                                    text  \n",
       "1662   The Supreme Court on Friday directed the Keral...  \n",
       "80392  Veteran tennis players including Mansour Bahra...  \n",
       "92785  The US is considering shooting down future Nor...  \n",
       "22798  At least 24 girls were rescued, while 18 are m...  \n",
       "79267  India's para athletes Sharad Kumar and Varun S...  \n",
       "63273  Actress Kangana Ranaut's pictures as Rani Laxm...  \n",
       "89144  India is set to skip China's two-day Belt and ...  \n",
       "81767  Oscar-winning actress Julianne Moore has becom...  \n",
       "24363  Pakistani cricketer-turned-politician Imran Kh...  \n",
       "43251  Technology giant Microsoft has offered about Ã...  "
      ]
     },
     "execution_count": 3,
     "metadata": {},
     "output_type": "execute_result"
    }
   ],
   "source": [
    "data.sample(10)"
   ]
  },
  {
   "cell_type": "code",
   "execution_count": 4,
   "id": "b93bcdde",
   "metadata": {
    "scrolled": true
   },
   "outputs": [
    {
     "name": "stdout",
     "output_type": "stream",
     "text": [
      "문장 전체 수 : 98401\n"
     ]
    }
   ],
   "source": [
    "print(\"문장 전체 수 :\", len(data))"
   ]
  },
  {
   "cell_type": "markdown",
   "id": "7b23e605",
   "metadata": {},
   "source": [
    "## 2) 데이터 전처리하기(추상적 요약)"
   ]
  },
  {
   "cell_type": "markdown",
   "id": "83a60cd1",
   "metadata": {},
   "source": [
    "### 중복 문장과 NULL 값이 존재하는 문장 제거"
   ]
  },
  {
   "cell_type": "code",
   "execution_count": 5,
   "id": "bf38a106",
   "metadata": {
    "scrolled": false
   },
   "outputs": [
    {
     "name": "stdout",
     "output_type": "stream",
     "text": [
      "text 열에서 중복을 배제한 유일한 샘플의 수 : 98360\n",
      "headlines 열에서 중복을 배제한 유일한 샘플의 수 : 98280\n"
     ]
    }
   ],
   "source": [
    "print('text 열에서 중복을 배제한 유일한 샘플의 수 :', data['text'].nunique())\n",
    "print('headlines 열에서 중복을 배제한 유일한 샘플의 수 :', data['headlines'].nunique())"
   ]
  },
  {
   "cell_type": "markdown",
   "id": "d489b5c3",
   "metadata": {},
   "source": [
    "문장은 총 98401개였지만 중복을 배제한 수는 98360개로 41개가 중복인 것을 알 수 있다."
   ]
  },
  {
   "cell_type": "code",
   "execution_count": 6,
   "id": "d303189c",
   "metadata": {
    "scrolled": true
   },
   "outputs": [
    {
     "name": "stdout",
     "output_type": "stream",
     "text": [
      "중복을 제거한 문장 전체 수 : 98360\n"
     ]
    }
   ],
   "source": [
    "# inplace=True 를 설정하면 DataFrame 타입 값을 return 하지 않고 data 내부를 직접적으로 바꿉니다\n",
    "data.drop_duplicates(subset = ['text'], inplace=True)\n",
    "print('중복을 제거한 문장 전체 수 :', (len(data)))"
   ]
  },
  {
   "cell_type": "code",
   "execution_count": 7,
   "id": "27e65eb3",
   "metadata": {
    "scrolled": false
   },
   "outputs": [
    {
     "name": "stdout",
     "output_type": "stream",
     "text": [
      "headlines    0\n",
      "text         0\n",
      "dtype: int64\n"
     ]
    }
   ],
   "source": [
    "print(data.isnull().sum())"
   ]
  },
  {
   "cell_type": "code",
   "execution_count": 8,
   "id": "baa20aae",
   "metadata": {},
   "outputs": [
    {
     "name": "stdout",
     "output_type": "stream",
     "text": [
      "전체 문장수 : 98360\n"
     ]
    }
   ],
   "source": [
    "data.dropna(axis=0, inplace=True)\n",
    "print('전체 문장수 :', (len(data)))"
   ]
  },
  {
   "cell_type": "markdown",
   "id": "01ca61d0",
   "metadata": {},
   "source": [
    "### 텍스트 정규화와 불용어 제거"
   ]
  },
  {
   "cell_type": "markdown",
   "id": "a437db6f",
   "metadata": {},
   "source": [
    "정규화 사전 (출처: https://stackoverflow.com/questions/19790188/expanding-english-language-contractions-in-python)"
   ]
  },
  {
   "cell_type": "code",
   "execution_count": 9,
   "id": "0d9c0ebb",
   "metadata": {},
   "outputs": [
    {
     "name": "stdout",
     "output_type": "stream",
     "text": [
      "정규화 사전의 수:  120\n"
     ]
    }
   ],
   "source": [
    "contractions = {\"ain't\": \"is not\", \"aren't\": \"are not\",\"can't\": \"cannot\", \"'cause\": \"because\", \"could've\": \"could have\", \"couldn't\": \"could not\",\n",
    "                           \"didn't\": \"did not\",  \"doesn't\": \"does not\", \"don't\": \"do not\", \"hadn't\": \"had not\", \"hasn't\": \"has not\", \"haven't\": \"have not\",\n",
    "                           \"he'd\": \"he would\",\"he'll\": \"he will\", \"he's\": \"he is\", \"how'd\": \"how did\", \"how'd'y\": \"how do you\", \"how'll\": \"how will\", \"how's\": \"how is\",\n",
    "                           \"I'd\": \"I would\", \"I'd've\": \"I would have\", \"I'll\": \"I will\", \"I'll've\": \"I will have\",\"I'm\": \"I am\", \"I've\": \"I have\", \"i'd\": \"i would\",\n",
    "                           \"i'd've\": \"i would have\", \"i'll\": \"i will\",  \"i'll've\": \"i will have\",\"i'm\": \"i am\", \"i've\": \"i have\", \"isn't\": \"is not\", \"it'd\": \"it would\",\n",
    "                           \"it'd've\": \"it would have\", \"it'll\": \"it will\", \"it'll've\": \"it will have\",\"it's\": \"it is\", \"let's\": \"let us\", \"ma'am\": \"madam\",\n",
    "                           \"mayn't\": \"may not\", \"might've\": \"might have\",\"mightn't\": \"might not\",\"mightn't've\": \"might not have\", \"must've\": \"must have\",\n",
    "                           \"mustn't\": \"must not\", \"mustn't've\": \"must not have\", \"needn't\": \"need not\", \"needn't've\": \"need not have\",\"o'clock\": \"of the clock\",\n",
    "                           \"oughtn't\": \"ought not\", \"oughtn't've\": \"ought not have\", \"shan't\": \"shall not\", \"sha'n't\": \"shall not\", \"shan't've\": \"shall not have\",\n",
    "                           \"she'd\": \"she would\", \"she'd've\": \"she would have\", \"she'll\": \"she will\", \"she'll've\": \"she will have\", \"she's\": \"she is\",\n",
    "                           \"should've\": \"should have\", \"shouldn't\": \"should not\", \"shouldn't've\": \"should not have\", \"so've\": \"so have\",\"so's\": \"so as\",\n",
    "                           \"this's\": \"this is\",\"that'd\": \"that would\", \"that'd've\": \"that would have\", \"that's\": \"that is\", \"there'd\": \"there would\",\n",
    "                           \"there'd've\": \"there would have\", \"there's\": \"there is\", \"here's\": \"here is\",\"they'd\": \"they would\", \"they'd've\": \"they would have\",\n",
    "                           \"they'll\": \"they will\", \"they'll've\": \"they will have\", \"they're\": \"they are\", \"they've\": \"they have\", \"to've\": \"to have\",\n",
    "                           \"wasn't\": \"was not\", \"we'd\": \"we would\", \"we'd've\": \"we would have\", \"we'll\": \"we will\", \"we'll've\": \"we will have\", \"we're\": \"we are\",\n",
    "                           \"we've\": \"we have\", \"weren't\": \"were not\", \"what'll\": \"what will\", \"what'll've\": \"what will have\", \"what're\": \"what are\",\n",
    "                           \"what's\": \"what is\", \"what've\": \"what have\", \"when's\": \"when is\", \"when've\": \"when have\", \"where'd\": \"where did\", \"where's\": \"where is\",\n",
    "                           \"where've\": \"where have\", \"who'll\": \"who will\", \"who'll've\": \"who will have\", \"who's\": \"who is\", \"who've\": \"who have\",\n",
    "                           \"why's\": \"why is\", \"why've\": \"why have\", \"will've\": \"will have\", \"won't\": \"will not\", \"won't've\": \"will not have\",\n",
    "                           \"would've\": \"would have\", \"wouldn't\": \"would not\", \"wouldn't've\": \"would not have\", \"y'all\": \"you all\",\n",
    "                           \"y'all'd\": \"you all would\",\"y'all'd've\": \"you all would have\",\"y'all're\": \"you all are\",\"y'all've\": \"you all have\",\n",
    "                           \"you'd\": \"you would\", \"you'd've\": \"you would have\", \"you'll\": \"you will\", \"you'll've\": \"you will have\",\n",
    "                           \"you're\": \"you are\", \"you've\": \"you have\"}\n",
    "\n",
    "print(\"정규화 사전의 수: \", len(contractions))"
   ]
  },
  {
   "cell_type": "code",
   "execution_count": 10,
   "id": "eb78cbaf",
   "metadata": {
    "scrolled": true
   },
   "outputs": [
    {
     "name": "stdout",
     "output_type": "stream",
     "text": [
      "불용어 개수 : 179\n",
      "['i', 'me', 'my', 'myself', 'we', 'our', 'ours', 'ourselves', 'you', \"you're\", \"you've\", \"you'll\", \"you'd\", 'your', 'yours', 'yourself', 'yourselves', 'he', 'him', 'his', 'himself', 'she', \"she's\", 'her', 'hers', 'herself', 'it', \"it's\", 'its', 'itself', 'they', 'them', 'their', 'theirs', 'themselves', 'what', 'which', 'who', 'whom', 'this', 'that', \"that'll\", 'these', 'those', 'am', 'is', 'are', 'was', 'were', 'be', 'been', 'being', 'have', 'has', 'had', 'having', 'do', 'does', 'did', 'doing', 'a', 'an', 'the', 'and', 'but', 'if', 'or', 'because', 'as', 'until', 'while', 'of', 'at', 'by', 'for', 'with', 'about', 'against', 'between', 'into', 'through', 'during', 'before', 'after', 'above', 'below', 'to', 'from', 'up', 'down', 'in', 'out', 'on', 'off', 'over', 'under', 'again', 'further', 'then', 'once', 'here', 'there', 'when', 'where', 'why', 'how', 'all', 'any', 'both', 'each', 'few', 'more', 'most', 'other', 'some', 'such', 'no', 'nor', 'not', 'only', 'own', 'same', 'so', 'than', 'too', 'very', 's', 't', 'can', 'will', 'just', 'don', \"don't\", 'should', \"should've\", 'now', 'd', 'll', 'm', 'o', 're', 've', 'y', 'ain', 'aren', \"aren't\", 'couldn', \"couldn't\", 'didn', \"didn't\", 'doesn', \"doesn't\", 'hadn', \"hadn't\", 'hasn', \"hasn't\", 'haven', \"haven't\", 'isn', \"isn't\", 'ma', 'mightn', \"mightn't\", 'mustn', \"mustn't\", 'needn', \"needn't\", 'shan', \"shan't\", 'shouldn', \"shouldn't\", 'wasn', \"wasn't\", 'weren', \"weren't\", 'won', \"won't\", 'wouldn', \"wouldn't\"]\n"
     ]
    }
   ],
   "source": [
    "print('불용어 개수 :', len(stopwords.words('english') ))\n",
    "print(stopwords.words('english'))"
   ]
  },
  {
   "cell_type": "code",
   "execution_count": 11,
   "id": "8159b9d7",
   "metadata": {},
   "outputs": [],
   "source": [
    "# 데이터 전처리 함수\n",
    "def preprocess_sentence(sentence, remove_stopwords=True):\n",
    "    sentence = sentence.lower() # 텍스트 소문자화\n",
    "    sentence = BeautifulSoup(sentence, \"lxml\").text # <br />, <a href = ...> 등의 html 태그 제거\n",
    "    sentence = re.sub(r'\\([^)]*\\)', '', sentence) # 괄호로 닫힌 문자열 (...) 제거 Ex) my husband (and myself!) for => my husband for\n",
    "    sentence = re.sub('\"','', sentence) # 쌍따옴표 \" 제거\n",
    "    sentence = ' '.join([contractions[t] if t in contractions else t for t in sentence.split(\" \")]) # 약어 정규화\n",
    "    sentence = re.sub(r\"'s\\b\",\"\", sentence) # 소유격 제거. Ex) roland's -> roland\n",
    "    sentence = re.sub(\"[^a-zA-Z]\", \" \", sentence) # 영어 외 문자(숫자, 특수문자 등) 공백으로 변환\n",
    "    sentence = re.sub('[m]{2,}', 'mm', sentence) # m이 3개 이상이면 2개로 변경. Ex) ummmmmmm yeah -> umm yeah\n",
    "    \n",
    "    # 불용어 제거 (Text)\n",
    "    if remove_stopwords:\n",
    "        tokens = ' '.join(word for word in sentence.split() if not word in stopwords.words('english') if len(word) > 1)\n",
    "    # 불용어 미제거 (Summary)\n",
    "    else:\n",
    "        tokens = ' '.join(word for word in sentence.split() if len(word) > 1)\n",
    "    return tokens"
   ]
  },
  {
   "cell_type": "markdown",
   "id": "46a84b1b",
   "metadata": {},
   "source": [
    "EX)"
   ]
  },
  {
   "cell_type": "code",
   "execution_count": 12,
   "id": "ba7d409b",
   "metadata": {},
   "outputs": [
    {
     "name": "stdout",
     "output_type": "stream",
     "text": [
      "text:  everything bought great infact ordered twice third ordered wasfor mother father\n",
      "summary: great way to start the day\n"
     ]
    }
   ],
   "source": [
    "temp_text = 'Everything I bought was great, infact I ordered twice and the third ordered was<br />for my mother and father.'\n",
    "temp_summary = 'Great way to start (or finish) the day!!!'\n",
    "\n",
    "print(\"text: \", preprocess_sentence(temp_text))\n",
    "print(\"summary:\", preprocess_sentence(temp_summary, False))  # 불용어를 제거하지 않습니다."
   ]
  },
  {
   "cell_type": "code",
   "execution_count": 13,
   "id": "e36a2a53",
   "metadata": {
    "scrolled": true
   },
   "outputs": [
    {
     "name": "stdout",
     "output_type": "stream",
     "text": [
      "text 전처리 후 결과:  ['saurav kant alumnus upgrad iiit pg program machine learning artificial intelligence sr systems engineer infosys almost years work experience program upgrad degree career support helped transition data scientist tech mahindra salary hike upgrad online power learning powered lakh careers', 'kunal shah credit card bill payment platform cred gave users chance win free food swiggy one year pranav kaushik delhi techie bagged reward spending cred coins users get one cred coin per rupee bill paid used avail rewards brands like ixigo bookmyshow ubereats cult fit', 'new zealand defeated india wickets fourth odi hamilton thursday win first match five match odi series india lost international match rohit sharma captaincy consecutive victories dating back march match witnessed india getting seventh lowest total odi cricket history', 'aegon life iterm insurance plan customers enjoy tax benefits premiums paid save taxes plan provides life cover age years also customers options insure critical illnesses disability accidental death benefit rider life cover age years', 'speaking sexual harassment allegations rajkumar hirani sonam kapoor said known hirani many years true metoo movement get derailed metoo movement always believe woman case need reserve judgment added hirani accused assistant worked sanju']\n"
     ]
    }
   ],
   "source": [
    "clean_text = []\n",
    "# 전체 Text 데이터에 대한 전처리 : 10분 이상 시간이 걸릴 수 있습니다. \n",
    "for s in data['text']:\n",
    "    clean_text.append(preprocess_sentence(s))\n",
    "\n",
    "# 전처리 후 출력\n",
    "print(\"text 전처리 후 결과: \", clean_text[:5])"
   ]
  },
  {
   "cell_type": "code",
   "execution_count": 14,
   "id": "517b9a9d",
   "metadata": {
    "scrolled": true
   },
   "outputs": [
    {
     "name": "stdout",
     "output_type": "stream",
     "text": [
      "headlines 전처리 후 결과:  ['upgrad learner switches to career in ml al with salary hike', 'delhi techie wins free food from swiggy for one year on cred', 'new zealand end rohit sharma led india match winning streak', 'aegon life iterm insurance plan helps customers save tax', 'have known hirani for yrs what if metoo claims are not true sonam']\n"
     ]
    }
   ],
   "source": [
    "clean_headlines = []\n",
    "# 전체 Summary 데이터에 대한 전처리 : 5분 이상 시간이 걸릴 수 있습니다. \n",
    "for s in data['headlines']:\n",
    "    clean_headlines.append(preprocess_sentence(s, False))\n",
    "\n",
    "print(\"headlines 전처리 후 결과: \", clean_headlines[:5])"
   ]
  },
  {
   "cell_type": "markdown",
   "id": "4e06e97f",
   "metadata": {},
   "source": [
    "원래 값에서 전처리 한 결과 값으로 빈 값들을 NULL값으로 대체 "
   ]
  },
  {
   "cell_type": "code",
   "execution_count": 15,
   "id": "1056b9f2",
   "metadata": {},
   "outputs": [],
   "source": [
    "data['text'] = clean_text\n",
    "data['headlines'] = clean_headlines\n",
    "\n",
    "# 빈 값을 Null 값으로 변환\n",
    "data.replace('', np.nan, inplace=True)"
   ]
  },
  {
   "cell_type": "markdown",
   "id": "7e034fc1",
   "metadata": {},
   "source": [
    "현재 NULL값은 없지만 있는 경우에 대비하여 Null값 제거"
   ]
  },
  {
   "cell_type": "code",
   "execution_count": 16,
   "id": "444ab249",
   "metadata": {
    "scrolled": true
   },
   "outputs": [
    {
     "data": {
      "text/plain": [
       "headlines    0\n",
       "text         0\n",
       "dtype: int64"
      ]
     },
     "execution_count": 16,
     "metadata": {},
     "output_type": "execute_result"
    }
   ],
   "source": [
    "data.isnull().sum()"
   ]
  },
  {
   "cell_type": "code",
   "execution_count": 17,
   "id": "10a1730a",
   "metadata": {
    "scrolled": false
   },
   "outputs": [
    {
     "name": "stdout",
     "output_type": "stream",
     "text": [
      "전체 샘플수 : 98360\n"
     ]
    }
   ],
   "source": [
    "data.dropna(axis=0, inplace=True)\n",
    "print('전체 샘플수 :', (len(data)))"
   ]
  },
  {
   "cell_type": "markdown",
   "id": "237f1f87",
   "metadata": {},
   "source": [
    "### 문장의 최대 길이 정하기"
   ]
  },
  {
   "cell_type": "code",
   "execution_count": 18,
   "id": "f999ae4c",
   "metadata": {
    "scrolled": false
   },
   "outputs": [
    {
     "name": "stdout",
     "output_type": "stream",
     "text": [
      "텍스트의 최소 길이 : 1\n",
      "텍스트의 최대 길이 : 60\n",
      "텍스트의 평균 길이 : 35.09968483123221\n",
      "요약의 최소 길이 : 1\n",
      "요약의 최대 길이 : 16\n",
      "요약의 평균 길이 : 9.299532330215534\n"
     ]
    },
    {
     "data": {
      "image/png": "[encoded data removed]",
      "text/plain": [
       "<Figure size 432x288 with 2 Axes>"
      ]
     },
     "metadata": {
      "needs_background": "light"
     },
     "output_type": "display_data"
    },
    {
     "data": {
      "image/png": "[encoded data removed]",
      "text/plain": [
       "<Figure size 432x288 with 1 Axes>"
      ]
     },
     "metadata": {
      "needs_background": "light"
     },
     "output_type": "display_data"
    },
    {
     "data": {
      "image/png": "[encoded data removed]",
      "text/plain": [
       "<Figure size 432x288 with 1 Axes>"
      ]
     },
     "metadata": {
      "needs_background": "light"
     },
     "output_type": "display_data"
    }
   ],
   "source": [
    "# 길이 분포 출력\n",
    "import matplotlib.pyplot as plt\n",
    "\n",
    "text_len = [len(s.split()) for s in data['text']]\n",
    "headlines_len = [len(s.split()) for s in data['headlines']]\n",
    "\n",
    "print('텍스트의 최소 길이 : {}'.format(np.min(text_len)))\n",
    "print('텍스트의 최대 길이 : {}'.format(np.max(text_len)))\n",
    "print('텍스트의 평균 길이 : {}'.format(np.mean(text_len)))\n",
    "print('요약의 최소 길이 : {}'.format(np.min(headlines_len)))\n",
    "print('요약의 최대 길이 : {}'.format(np.max(headlines_len)))\n",
    "print('요약의 평균 길이 : {}'.format(np.mean(headlines_len)))\n",
    "\n",
    "plt.subplot(1,2,1)\n",
    "plt.boxplot(text_len)\n",
    "plt.title('text')\n",
    "plt.subplot(1,2,2)\n",
    "plt.boxplot(headlines_len)\n",
    "plt.title('headlines')\n",
    "plt.tight_layout()\n",
    "plt.show()\n",
    "\n",
    "plt.title('text')\n",
    "plt.hist(text_len, bins = 40)\n",
    "plt.xlabel('length of samples')\n",
    "plt.ylabel('number of samples')\n",
    "plt.show()\n",
    "\n",
    "plt.title('headlines')\n",
    "plt.hist(headlines_len, bins = 40)\n",
    "plt.xlabel('length of samples')\n",
    "plt.ylabel('number of samples')\n",
    "plt.show()"
   ]
  },
  {
   "cell_type": "markdown",
   "id": "6b3a92c4",
   "metadata": {},
   "source": [
    "- text의 경우 최소 길이: 1, 최대 길이: 60, 평균 길이: 35\n",
    "- headlines은 최소 길이: 1, 최대 길이: 16, 평균 길이: 9\n",
    "- text는 길이가 30-40에서 많은 분포를 이루고, headlines은 8-10에서 많은 분포를 이룬다"
   ]
  },
  {
   "cell_type": "markdown",
   "id": "3eab5456",
   "metadata": {},
   "source": [
    "### 길이의 차이들이 심하게 나지 않아 이 각 최대길이로 가는 것으로 결정"
   ]
  },
  {
   "cell_type": "code",
   "execution_count": 19,
   "id": "ef9785c7",
   "metadata": {},
   "outputs": [],
   "source": [
    "text_max_len = 60\n",
    "headlines_max_len = 16"
   ]
  },
  {
   "cell_type": "code",
   "execution_count": 20,
   "id": "4d2bce41",
   "metadata": {},
   "outputs": [],
   "source": [
    "def below_threshold_len(max_len, nested_list):\n",
    "  cnt = 0\n",
    "  for s in nested_list:\n",
    "    if(len(s.split()) <= max_len):\n",
    "        cnt = cnt + 1\n",
    "  print('전체 샘플 중 길이가 %s 이하인 샘플의 비율: %s'%(max_len, (cnt / len(nested_list))))"
   ]
  },
  {
   "cell_type": "code",
   "execution_count": 21,
   "id": "d2f0018e",
   "metadata": {
    "scrolled": true
   },
   "outputs": [
    {
     "name": "stdout",
     "output_type": "stream",
     "text": [
      "전체 샘플 중 길이가 60 이하인 샘플의 비율: 1.0\n",
      "전체 샘플 중 길이가 16 이하인 샘플의 비율: 1.0\n"
     ]
    }
   ],
   "source": [
    "below_threshold_len(text_max_len, data['text'])\n",
    "below_threshold_len(headlines_max_len,  data['headlines'])"
   ]
  },
  {
   "cell_type": "code",
   "execution_count": 22,
   "id": "9b8f77c7",
   "metadata": {},
   "outputs": [
    {
     "name": "stdout",
     "output_type": "stream",
     "text": [
      "전체 샘플수 : 98360\n"
     ]
    }
   ],
   "source": [
    "data = data[data['text'].apply(lambda x: len(x.split()) <= text_max_len)]\n",
    "data = data[data['headlines'].apply(lambda x: len(x.split()) <= headlines_max_len)]\n",
    "print('전체 샘플수 :', (len(data)))"
   ]
  },
  {
   "cell_type": "markdown",
   "id": "b8d3e522",
   "metadata": {},
   "source": [
    "### 시작 토큰과 종료 토큰 추가하기"
   ]
  },
  {
   "cell_type": "markdown",
   "id": "6a9c4821",
   "metadata": {},
   "source": [
    "- 시작 토큰은 sostoken\n",
    "- 종료 토큰은 eostoken"
   ]
  },
  {
   "cell_type": "code",
   "execution_count": 23,
   "id": "9bfb1a87",
   "metadata": {
    "scrolled": true
   },
   "outputs": [
    {
     "data": {
      "text/html": [
       "<div>\n",
       "<style scoped>\n",
       "    .dataframe tbody tr th:only-of-type {\n",
       "        vertical-align: middle;\n",
       "    }\n",
       "\n",
       "    .dataframe tbody tr th {\n",
       "        vertical-align: top;\n",
       "    }\n",
       "\n",
       "    .dataframe thead th {\n",
       "        text-align: right;\n",
       "    }\n",
       "</style>\n",
       "<table border=\"1\" class=\"dataframe\">\n",
       "  <thead>\n",
       "    <tr style=\"text-align: right;\">\n",
       "      <th></th>\n",
       "      <th>headlines</th>\n",
       "      <th>text</th>\n",
       "      <th>decoder_input</th>\n",
       "      <th>decoder_target</th>\n",
       "    </tr>\n",
       "  </thead>\n",
       "  <tbody>\n",
       "    <tr>\n",
       "      <th>0</th>\n",
       "      <td>upgrad learner switches to career in ml al wit...</td>\n",
       "      <td>saurav kant alumnus upgrad iiit pg program mac...</td>\n",
       "      <td>sostoken upgrad learner switches to career in ...</td>\n",
       "      <td>upgrad learner switches to career in ml al wit...</td>\n",
       "    </tr>\n",
       "    <tr>\n",
       "      <th>1</th>\n",
       "      <td>delhi techie wins free food from swiggy for on...</td>\n",
       "      <td>kunal shah credit card bill payment platform c...</td>\n",
       "      <td>sostoken delhi techie wins free food from swig...</td>\n",
       "      <td>delhi techie wins free food from swiggy for on...</td>\n",
       "    </tr>\n",
       "    <tr>\n",
       "      <th>2</th>\n",
       "      <td>new zealand end rohit sharma led india match w...</td>\n",
       "      <td>new zealand defeated india wickets fourth odi ...</td>\n",
       "      <td>sostoken new zealand end rohit sharma led indi...</td>\n",
       "      <td>new zealand end rohit sharma led india match w...</td>\n",
       "    </tr>\n",
       "    <tr>\n",
       "      <th>3</th>\n",
       "      <td>aegon life iterm insurance plan helps customer...</td>\n",
       "      <td>aegon life iterm insurance plan customers enjo...</td>\n",
       "      <td>sostoken aegon life iterm insurance plan helps...</td>\n",
       "      <td>aegon life iterm insurance plan helps customer...</td>\n",
       "    </tr>\n",
       "    <tr>\n",
       "      <th>4</th>\n",
       "      <td>have known hirani for yrs what if metoo claims...</td>\n",
       "      <td>speaking sexual harassment allegations rajkuma...</td>\n",
       "      <td>sostoken have known hirani for yrs what if met...</td>\n",
       "      <td>have known hirani for yrs what if metoo claims...</td>\n",
       "    </tr>\n",
       "  </tbody>\n",
       "</table>\n",
       "</div>"
      ],
      "text/plain": [
       "                                           headlines  \\\n",
       "0  upgrad learner switches to career in ml al wit...   \n",
       "1  delhi techie wins free food from swiggy for on...   \n",
       "2  new zealand end rohit sharma led india match w...   \n",
       "3  aegon life iterm insurance plan helps customer...   \n",
       "4  have known hirani for yrs what if metoo claims...   \n",
       "\n",
       "                                                text  \\\n",
       "0  saurav kant alumnus upgrad iiit pg program mac...   \n",
       "1  kunal shah credit card bill payment platform c...   \n",
       "2  new zealand defeated india wickets fourth odi ...   \n",
       "3  aegon life iterm insurance plan customers enjo...   \n",
       "4  speaking sexual harassment allegations rajkuma...   \n",
       "\n",
       "                                       decoder_input  \\\n",
       "0  sostoken upgrad learner switches to career in ...   \n",
       "1  sostoken delhi techie wins free food from swig...   \n",
       "2  sostoken new zealand end rohit sharma led indi...   \n",
       "3  sostoken aegon life iterm insurance plan helps...   \n",
       "4  sostoken have known hirani for yrs what if met...   \n",
       "\n",
       "                                      decoder_target  \n",
       "0  upgrad learner switches to career in ml al wit...  \n",
       "1  delhi techie wins free food from swiggy for on...  \n",
       "2  new zealand end rohit sharma led india match w...  \n",
       "3  aegon life iterm insurance plan helps customer...  \n",
       "4  have known hirani for yrs what if metoo claims...  "
      ]
     },
     "execution_count": 23,
     "metadata": {},
     "output_type": "execute_result"
    }
   ],
   "source": [
    "# 요약 데이터에는 시작 토큰과 종료 토큰을 추가한다.\n",
    "data['decoder_input'] = data['headlines'].apply(lambda x : 'sostoken '+ x)\n",
    "data['decoder_target'] = data['headlines'].apply(lambda x : x + ' eostoken')\n",
    "data.head()"
   ]
  },
  {
   "cell_type": "code",
   "execution_count": 24,
   "id": "5a8095fb",
   "metadata": {},
   "outputs": [],
   "source": [
    "encoder_input = np.array(data['text']) # 인코더의 입력\n",
    "decoder_input = np.array(data['decoder_input']) # 디코더의 입력\n",
    "decoder_target = np.array(data['decoder_target']) # 디코더의 레이블"
   ]
  },
  {
   "cell_type": "markdown",
   "id": "26130194",
   "metadata": {},
   "source": [
    "### 훈련 데이터와 테스트 데이터 분리"
   ]
  },
  {
   "cell_type": "code",
   "execution_count": 25,
   "id": "bfce12d3",
   "metadata": {},
   "outputs": [
    {
     "name": "stdout",
     "output_type": "stream",
     "text": [
      "[25384 67772 15592 ... 26181 55186  3183]\n"
     ]
    }
   ],
   "source": [
    "indices = np.arange(encoder_input.shape[0])\n",
    "np.random.shuffle(indices)\n",
    "print(indices)"
   ]
  },
  {
   "cell_type": "code",
   "execution_count": 26,
   "id": "2d376350",
   "metadata": {},
   "outputs": [],
   "source": [
    "encoder_input = encoder_input[indices]\n",
    "decoder_input = decoder_input[indices]\n",
    "decoder_target = decoder_target[indices]"
   ]
  },
  {
   "cell_type": "code",
   "execution_count": 27,
   "id": "52869658",
   "metadata": {},
   "outputs": [
    {
     "name": "stdout",
     "output_type": "stream",
     "text": [
      "테스트 데이터의 수 : 19672\n"
     ]
    }
   ],
   "source": [
    "n_of_val = int(len(encoder_input)*0.2)\n",
    "print('테스트 데이터의 수 :', n_of_val)"
   ]
  },
  {
   "cell_type": "code",
   "execution_count": 28,
   "id": "7ac43844",
   "metadata": {
    "scrolled": true
   },
   "outputs": [
    {
     "name": "stdout",
     "output_type": "stream",
     "text": [
      "훈련 데이터의 개수 : 78688\n",
      "훈련 레이블의 개수 : 78688\n",
      "테스트 데이터의 개수 : 19672\n",
      "테스트 레이블의 개수 : 19672\n"
     ]
    }
   ],
   "source": [
    "encoder_input_train = encoder_input[:-n_of_val]\n",
    "decoder_input_train = decoder_input[:-n_of_val]\n",
    "decoder_target_train = decoder_target[:-n_of_val]\n",
    "\n",
    "encoder_input_test = encoder_input[-n_of_val:]\n",
    "decoder_input_test = decoder_input[-n_of_val:]\n",
    "decoder_target_test = decoder_target[-n_of_val:]\n",
    "\n",
    "print('훈련 데이터의 개수 :', len(encoder_input_train))\n",
    "print('훈련 레이블의 개수 :', len(decoder_input_train))\n",
    "print('테스트 데이터의 개수 :', len(encoder_input_test))\n",
    "print('테스트 레이블의 개수 :', len(decoder_input_test))"
   ]
  },
  {
   "cell_type": "markdown",
   "id": "60039dae",
   "metadata": {},
   "source": [
    "### 단어 집합 만들기 및 정수 인코딩"
   ]
  },
  {
   "cell_type": "code",
   "execution_count": 29,
   "id": "6bcf7cc5",
   "metadata": {},
   "outputs": [],
   "source": [
    "src_tokenizer = Tokenizer() # 토크나이저 정의\n",
    "src_tokenizer.fit_on_texts(encoder_input_train) # 입력된 데이터로부터 단어 집합 생성"
   ]
  },
  {
   "cell_type": "code",
   "execution_count": 30,
   "id": "8832922f",
   "metadata": {
    "scrolled": false
   },
   "outputs": [
    {
     "name": "stdout",
     "output_type": "stream",
     "text": [
      "단어 집합(vocabulary)의 크기 : 69667\n",
      "등장 빈도가 6번 이하인 희귀 단어의 수: 47510\n",
      "단어 집합에서 희귀 단어를 제외시킬 경우의 단어 집합의 크기 22157\n",
      "단어 집합에서 희귀 단어의 비율: 68.19584595289018\n",
      "전체 등장 빈도에서 희귀 단어 등장 빈도 비율: 3.489832621424328\n"
     ]
    }
   ],
   "source": [
    "threshold = 7\n",
    "total_cnt = len(src_tokenizer.word_index) # 단어의 수\n",
    "rare_cnt = 0 # 등장 빈도수가 threshold보다 작은 단어의 개수를 카운트\n",
    "total_freq = 0 # 훈련 데이터의 전체 단어 빈도수 총 합\n",
    "rare_freq = 0 # 등장 빈도수가 threshold보다 작은 단어의 등장 빈도수의 총 합\n",
    "\n",
    "# 단어와 빈도수의 쌍(pair)을 key와 value로 받는다.\n",
    "for key, value in src_tokenizer.word_counts.items():\n",
    "    total_freq = total_freq + value\n",
    "\n",
    "    # 단어의 등장 빈도수가 threshold보다 작으면\n",
    "    if(value < threshold):\n",
    "        rare_cnt = rare_cnt + 1\n",
    "        rare_freq = rare_freq + value\n",
    "\n",
    "print('단어 집합(vocabulary)의 크기 :', total_cnt)\n",
    "print('등장 빈도가 %s번 이하인 희귀 단어의 수: %s'%(threshold - 1, rare_cnt))\n",
    "print('단어 집합에서 희귀 단어를 제외시킬 경우의 단어 집합의 크기 %s'%(total_cnt - rare_cnt))\n",
    "print(\"단어 집합에서 희귀 단어의 비율:\", (rare_cnt / total_cnt)*100)\n",
    "print(\"전체 등장 빈도에서 희귀 단어 등장 빈도 비율:\", (rare_freq / total_freq)*100)"
   ]
  },
  {
   "cell_type": "markdown",
   "id": "d0b88097",
   "metadata": {},
   "source": [
    "- 등장 빈도가 6이하인 단어들은 정수 인코딩 과정에서 빼고 훈련 데이터에서 제거\n",
    "- 이를 제외한 단어 집합의 크기는 22,159 이와 비슷한 값으로 어림잡아 단어 집합 크기를 20,000으로 설정"
   ]
  },
  {
   "cell_type": "code",
   "execution_count": 31,
   "id": "5bdc8c36",
   "metadata": {},
   "outputs": [],
   "source": [
    "src_vocab = 20000\n",
    "src_tokenizer = Tokenizer(num_words=src_vocab) # 단어 집합의 크기를 20,000으로 제한\n",
    "src_tokenizer.fit_on_texts(encoder_input_train) # 단어 집합 재생성"
   ]
  },
  {
   "cell_type": "code",
   "execution_count": 32,
   "id": "bfa1aa92",
   "metadata": {
    "scrolled": true
   },
   "outputs": [
    {
     "name": "stdout",
     "output_type": "stream",
     "text": [
      "[[419, 159, 163, 56, 52, 10721, 1772, 43, 3527, 193, 57, 4889, 450, 112, 630, 2038, 1876, 1678, 85, 159, 13790, 957, 9140, 2909, 456, 5691, 9, 743, 193, 1396, 159, 289], [2, 857, 46, 913, 632, 9313, 404, 12, 1444, 314, 3986, 2116, 1088, 1061, 9682, 193, 212, 17527, 4754, 46, 365, 14, 774, 260, 812, 360, 2347, 80, 130, 3913, 98, 363, 2347, 10276, 332, 393, 2827, 46, 530], [3180, 1282, 156, 15983, 1282, 3394, 358, 780, 1411, 127, 2828, 698, 2711, 2602, 15983, 1, 2043, 3180, 780, 1411, 153, 915, 12220, 1665, 223, 502, 4520, 34, 12220, 34, 6976, 15983, 1]]\n"
     ]
    }
   ],
   "source": [
    "# 텍스트 시퀀스를 정수 시퀀스로 변환\n",
    "encoder_input_train = src_tokenizer.texts_to_sequences(encoder_input_train) \n",
    "encoder_input_test = src_tokenizer.texts_to_sequences(encoder_input_test)\n",
    "\n",
    "# 잘 진행되었는지 샘플 출력\n",
    "print(encoder_input_train[:3])"
   ]
  },
  {
   "cell_type": "code",
   "execution_count": 33,
   "id": "c564347c",
   "metadata": {},
   "outputs": [],
   "source": [
    "tar_tokenizer = Tokenizer()\n",
    "tar_tokenizer.fit_on_texts(decoder_input_train)"
   ]
  },
  {
   "cell_type": "code",
   "execution_count": 34,
   "id": "a4d7804b",
   "metadata": {
    "scrolled": true
   },
   "outputs": [
    {
     "name": "stdout",
     "output_type": "stream",
     "text": [
      "단어 집합(vocabulary)의 크기 : 30084\n",
      "등장 빈도가 5번 이하인 희귀 단어의 수: 19658\n",
      "단어 집합에서 희귀 단어를 제외시킬 경우의 단어 집합의 크기 10426\n",
      "단어 집합에서 희귀 단어의 비율: 65.34370429464167\n",
      "전체 등장 빈도에서 희귀 단어 등장 빈도 비율: 4.643595474572843\n"
     ]
    }
   ],
   "source": [
    "threshold = 6\n",
    "total_cnt = len(tar_tokenizer.word_index) # 단어의 수\n",
    "rare_cnt = 0 # 등장 빈도수가 threshold보다 작은 단어의 개수를 카운트\n",
    "total_freq = 0 # 훈련 데이터의 전체 단어 빈도수 총 합\n",
    "rare_freq = 0 # 등장 빈도수가 threshold보다 작은 단어의 등장 빈도수의 총 합\n",
    "\n",
    "# 단어와 빈도수의 쌍(pair)을 key와 value로 받는다.\n",
    "for key, value in tar_tokenizer.word_counts.items():\n",
    "    total_freq = total_freq + value\n",
    "\n",
    "    # 단어의 등장 빈도수가 threshold보다 작으면\n",
    "    if(value < threshold):\n",
    "        rare_cnt = rare_cnt + 1\n",
    "        rare_freq = rare_freq + value\n",
    "\n",
    "print('단어 집합(vocabulary)의 크기 :', total_cnt)\n",
    "print('등장 빈도가 %s번 이하인 희귀 단어의 수: %s'%(threshold - 1, rare_cnt))\n",
    "print('단어 집합에서 희귀 단어를 제외시킬 경우의 단어 집합의 크기 %s'%(total_cnt - rare_cnt))\n",
    "print(\"단어 집합에서 희귀 단어의 비율:\", (rare_cnt / total_cnt)*100)\n",
    "print(\"전체 등장 빈도에서 희귀 단어 등장 빈도 비율:\", (rare_freq / total_freq)*100)"
   ]
  },
  {
   "cell_type": "markdown",
   "id": "56db046f",
   "metadata": {},
   "source": [
    "- 등장 빈도가 5이하인 단어들은 정수 인코딩 과정에서 빼고 훈련 데이터에서 제거\n",
    "- 이를 제외한 단어 집합의 크기는 10,407 이와 비슷한 값으로 어림잡아 단어 집합 크기를 10,000으로 설정"
   ]
  },
  {
   "cell_type": "code",
   "execution_count": 35,
   "id": "34b55896",
   "metadata": {
    "scrolled": true
   },
   "outputs": [
    {
     "name": "stdout",
     "output_type": "stream",
     "text": [
      "input\n",
      "input  [[1, 357, 130, 9483, 1139, 51, 2232, 3, 7230, 540, 102], [1, 55, 601, 6, 5188, 716, 7, 1355, 145, 3412, 8], [1, 5189, 787, 826, 1979, 11, 3251, 729, 6, 72], [1, 20, 910, 2209, 3, 121, 3111, 717], [1, 5899, 9, 18, 457, 4, 50, 2862, 18, 1036, 378, 46, 2804]]\n",
      "target\n",
      "decoder  [[357, 130, 9483, 1139, 51, 2232, 3, 7230, 540, 102, 2], [55, 601, 6, 5188, 716, 7, 1355, 145, 3412, 8, 2], [5189, 787, 826, 1979, 11, 3251, 729, 6, 72, 2], [20, 910, 2209, 3, 121, 3111, 717, 2], [5899, 9, 18, 457, 4, 50, 2862, 18, 1036, 378, 46, 2804, 2]]\n"
     ]
    }
   ],
   "source": [
    "tar_vocab = 10000\n",
    "tar_tokenizer = Tokenizer(num_words=tar_vocab) \n",
    "tar_tokenizer.fit_on_texts(decoder_input_train)\n",
    "tar_tokenizer.fit_on_texts(decoder_target_train)\n",
    "\n",
    "# 텍스트 시퀀스를 정수 시퀀스로 변환\n",
    "decoder_input_train = tar_tokenizer.texts_to_sequences(decoder_input_train) \n",
    "decoder_target_train = tar_tokenizer.texts_to_sequences(decoder_target_train)\n",
    "decoder_input_test = tar_tokenizer.texts_to_sequences(decoder_input_test)\n",
    "decoder_target_test = tar_tokenizer.texts_to_sequences(decoder_target_test)\n",
    "\n",
    "# 잘 변환되었는지 확인\n",
    "print('input')\n",
    "print('input ',decoder_input_train[:5])\n",
    "print('target')\n",
    "print('decoder ',decoder_target_train[:5])"
   ]
  },
  {
   "cell_type": "markdown",
   "id": "a0005b5e",
   "metadata": {},
   "source": [
    "### 훈련 데이터와 테스트 데이터에 대해서 길이가 1인 문장 삭제 \n",
    "- 길이가 1인 이유는 sostoken과 eostoken이 남아 있기 때문"
   ]
  },
  {
   "cell_type": "code",
   "execution_count": 36,
   "id": "c2cc2044",
   "metadata": {
    "scrolled": false
   },
   "outputs": [
    {
     "name": "stdout",
     "output_type": "stream",
     "text": [
      "삭제할 훈련 데이터의 개수 : 0\n",
      "삭제할 테스트 데이터의 개수 : 0\n",
      "훈련 데이터의 개수 : 78688\n",
      "훈련 레이블의 개수 : 78688\n",
      "테스트 데이터의 개수 : 19672\n",
      "테스트 레이블의 개수 : 19672\n"
     ]
    }
   ],
   "source": [
    "drop_train = [index for index, sentence in enumerate(decoder_input_train) if len(sentence) == 1]\n",
    "drop_test = [index for index, sentence in enumerate(decoder_input_test) if len(sentence) == 1]\n",
    "\n",
    "print('삭제할 훈련 데이터의 개수 :', len(drop_train))\n",
    "print('삭제할 테스트 데이터의 개수 :', len(drop_test))\n",
    "\n",
    "encoder_input_train = [sentence for index, sentence in enumerate(encoder_input_train) if index not in drop_train]\n",
    "decoder_input_train = [sentence for index, sentence in enumerate(decoder_input_train) if index not in drop_train]\n",
    "decoder_target_train = [sentence for index, sentence in enumerate(decoder_target_train) if index not in drop_train]\n",
    "\n",
    "encoder_input_test = [sentence for index, sentence in enumerate(encoder_input_test) if index not in drop_test]\n",
    "decoder_input_test = [sentence for index, sentence in enumerate(decoder_input_test) if index not in drop_test]\n",
    "decoder_target_test = [sentence for index, sentence in enumerate(decoder_target_test) if index not in drop_test]\n",
    "\n",
    "print('훈련 데이터의 개수 :', len(encoder_input_train))\n",
    "print('훈련 레이블의 개수 :', len(decoder_input_train))\n",
    "print('테스트 데이터의 개수 :', len(encoder_input_test))\n",
    "print('테스트 레이블의 개수 :', len(decoder_input_test))"
   ]
  },
  {
   "cell_type": "markdown",
   "id": "1311e0fe",
   "metadata": {},
   "source": [
    "### 패딩하기"
   ]
  },
  {
   "cell_type": "code",
   "execution_count": 37,
   "id": "2ea2bf6e",
   "metadata": {},
   "outputs": [],
   "source": [
    "encoder_input_train = pad_sequences(encoder_input_train, maxlen=text_max_len, padding='post')\n",
    "encoder_input_test = pad_sequences(encoder_input_test, maxlen=text_max_len, padding='post')\n",
    "decoder_input_train = pad_sequences(decoder_input_train, maxlen=headlines_max_len, padding='post')\n",
    "decoder_target_train = pad_sequences(decoder_target_train, maxlen=headlines_max_len, padding='post')\n",
    "decoder_input_test = pad_sequences(decoder_input_test, maxlen=headlines_max_len, padding='post')\n",
    "decoder_target_test = pad_sequences(decoder_target_test, maxlen=headlines_max_len, padding='post')"
   ]
  },
  {
   "cell_type": "markdown",
   "id": "1ca1dcd5",
   "metadata": {},
   "source": [
    "## 3) 어텐션 메커니즘 사용하기(추상적 요약)"
   ]
  },
  {
   "cell_type": "markdown",
   "id": "3dc0e4b0",
   "metadata": {},
   "source": [
    "## 모델 설계"
   ]
  },
  {
   "cell_type": "markdown",
   "id": "35149431",
   "metadata": {},
   "source": [
    "### 함수형 API 이용하여 인코더 설계"
   ]
  },
  {
   "cell_type": "code",
   "execution_count": 38,
   "id": "f06fb5fa",
   "metadata": {
    "scrolled": true
   },
   "outputs": [
    {
     "name": "stdout",
     "output_type": "stream",
     "text": [
      "WARNING:tensorflow:Layer lstm will not use cuDNN kernels since it doesn't meet the criteria. It will use a generic GPU kernel as fallback when running on GPU.\n",
      "WARNING:tensorflow:Layer lstm_1 will not use cuDNN kernels since it doesn't meet the criteria. It will use a generic GPU kernel as fallback when running on GPU.\n",
      "WARNING:tensorflow:Layer lstm_2 will not use cuDNN kernels since it doesn't meet the criteria. It will use a generic GPU kernel as fallback when running on GPU.\n"
     ]
    }
   ],
   "source": [
    "from tensorflow.keras.layers import Input, LSTM, Embedding, Dense, Concatenate, TimeDistributed\n",
    "from tensorflow.keras.models import Model\n",
    "from tensorflow.keras.callbacks import EarlyStopping, ModelCheckpoint\n",
    "\n",
    "\n",
    "# 인코더 설계 시작\n",
    "embedding_dim = 128\n",
    "hidden_size = 256\n",
    "\n",
    "# 인코더\n",
    "encoder_inputs = Input(shape=(text_max_len,))\n",
    "\n",
    "# 인코더의 임베딩 층\n",
    "enc_emb = Embedding(src_vocab, embedding_dim)(encoder_inputs)\n",
    "\n",
    "# 인코더의 LSTM 1\n",
    "encoder_lstm1 = LSTM(hidden_size, return_sequences=True, return_state=True ,dropout = 0.4, recurrent_dropout = 0.4)\n",
    "encoder_output1, state_h1, state_c1 = encoder_lstm1(enc_emb)\n",
    "\n",
    "# 인코더의 LSTM 2\n",
    "encoder_lstm2 = LSTM(hidden_size, return_sequences=True, return_state=True, dropout=0.4, recurrent_dropout=0.4)\n",
    "encoder_output2, state_h2, state_c2 = encoder_lstm2(encoder_output1)\n",
    "\n",
    "# 인코더의 LSTM 3\n",
    "encoder_lstm3 = LSTM(hidden_size, return_state=True, return_sequences=True, dropout=0.4, recurrent_dropout=0.4)\n",
    "encoder_outputs, state_h, state_c= encoder_lstm3(encoder_output2)"
   ]
  },
  {
   "cell_type": "markdown",
   "id": "61e39bb8",
   "metadata": {},
   "source": [
    "recurrent dropout을 사용할 시 cuDNN을 사용할 수 없어서 recurrent dropout을 사용하지 않을 때보다 학습 시간이 오래 걸린다."
   ]
  },
  {
   "cell_type": "markdown",
   "id": "f43b83cb",
   "metadata": {},
   "source": [
    "- hidden state는 LSTM에서 얼만큼의 수용력을 가질지를 정하는 파라미터(무조건 용량을 많이준다고 성능이 올라가는 것은 아니다)\n",
    "- 일반적인 dropout은 레이어의 weight를 랜덤으로 생략하여 모델의 과적합을 해결해주는 방법\n",
    "- recurrent dropout은 dropout을 레이어가 아닌 time stem 마다 해주는 방식 time step의 입력을 랜덤으로 생략\n",
    "- recurrent dropout은 일반적인 dropout과 같이 regularization을 해주는 효과와 과적합을 방지해준다."
   ]
  },
  {
   "cell_type": "markdown",
   "id": "f72709a9",
   "metadata": {},
   "source": [
    "### 디코더 설계"
   ]
  },
  {
   "cell_type": "code",
   "execution_count": 39,
   "id": "ac2a7d73",
   "metadata": {},
   "outputs": [
    {
     "name": "stdout",
     "output_type": "stream",
     "text": [
      "WARNING:tensorflow:Layer lstm_3 will not use cuDNN kernels since it doesn't meet the criteria. It will use a generic GPU kernel as fallback when running on GPU.\n"
     ]
    }
   ],
   "source": [
    "# 디코더 설계\n",
    "decoder_inputs = Input(shape=(None,))\n",
    "\n",
    "# 디코더의 임베딩 층\n",
    "dec_emb_layer = Embedding(tar_vocab, embedding_dim)\n",
    "dec_emb = dec_emb_layer(decoder_inputs)\n",
    "\n",
    "# 디코더의 LSTM\n",
    "decoder_lstm = LSTM(hidden_size, return_sequences=True, return_state=True, dropout=0.4, recurrent_dropout=0.2)\n",
    "decoder_outputs, _, _ = decoder_lstm(dec_emb, initial_state=[state_h, state_c])"
   ]
  },
  {
   "cell_type": "markdown",
   "id": "fbae5c1c",
   "metadata": {},
   "source": [
    "### 어텐션 메커니즘"
   ]
  },
  {
   "cell_type": "code",
   "execution_count": 40,
   "id": "f46f6183",
   "metadata": {
    "scrolled": true
   },
   "outputs": [
    {
     "name": "stdout",
     "output_type": "stream",
     "text": [
      "Model: \"model\"\n",
      "__________________________________________________________________________________________________\n",
      "Layer (type)                    Output Shape         Param #     Connected to                     \n",
      "==================================================================================================\n",
      "input_1 (InputLayer)            [(None, 60)]         0                                            \n",
      "__________________________________________________________________________________________________\n",
      "embedding (Embedding)           (None, 60, 128)      2560000     input_1[0][0]                    \n",
      "__________________________________________________________________________________________________\n",
      "lstm (LSTM)                     [(None, 60, 256), (N 394240      embedding[0][0]                  \n",
      "__________________________________________________________________________________________________\n",
      "input_2 (InputLayer)            [(None, None)]       0                                            \n",
      "__________________________________________________________________________________________________\n",
      "lstm_1 (LSTM)                   [(None, 60, 256), (N 525312      lstm[0][0]                       \n",
      "__________________________________________________________________________________________________\n",
      "embedding_1 (Embedding)         (None, None, 128)    1280000     input_2[0][0]                    \n",
      "__________________________________________________________________________________________________\n",
      "lstm_2 (LSTM)                   [(None, 60, 256), (N 525312      lstm_1[0][0]                     \n",
      "__________________________________________________________________________________________________\n",
      "lstm_3 (LSTM)                   [(None, None, 256),  394240      embedding_1[0][0]                \n",
      "                                                                 lstm_2[0][1]                     \n",
      "                                                                 lstm_2[0][2]                     \n",
      "__________________________________________________________________________________________________\n",
      "attention_layer (AdditiveAttent (None, None, 256)    256         lstm_3[0][0]                     \n",
      "                                                                 lstm_2[0][0]                     \n",
      "__________________________________________________________________________________________________\n",
      "concat_layer (Concatenate)      (None, None, 512)    0           lstm_3[0][0]                     \n",
      "                                                                 attention_layer[0][0]            \n",
      "__________________________________________________________________________________________________\n",
      "dense (Dense)                   (None, None, 10000)  5130000     concat_layer[0][0]               \n",
      "==================================================================================================\n",
      "Total params: 10,809,360\n",
      "Trainable params: 10,809,360\n",
      "Non-trainable params: 0\n",
      "__________________________________________________________________________________________________\n"
     ]
    }
   ],
   "source": [
    "from tensorflow.keras.layers import AdditiveAttention\n",
    "\n",
    "# 어텐션 층(어텐션 함수)\n",
    "attn_layer = AdditiveAttention(name='attention_layer')\n",
    "\n",
    "# 인코더와 디코더의 모든 time step의 hidden state를 어텐션 층에 전달하고 결과를 리턴\n",
    "attn_out = attn_layer([decoder_outputs, encoder_outputs])\n",
    "\n",
    "\n",
    "# 어텐션의 결과와 디코더의 hidden state들을 연결\n",
    "decoder_concat_input = Concatenate(axis=-1, name='concat_layer')([decoder_outputs, attn_out])\n",
    "\n",
    "# 디코더의 출력층\n",
    "decoder_softmax_layer = Dense(tar_vocab, activation='softmax')\n",
    "decoder_softmax_outputs = decoder_softmax_layer(decoder_concat_input)\n",
    "\n",
    "# 모델 정의\n",
    "model = Model([encoder_inputs, decoder_inputs], decoder_softmax_outputs)\n",
    "model.summary()"
   ]
  },
  {
   "cell_type": "markdown",
   "id": "789e2184",
   "metadata": {},
   "source": [
    "## 모델 훈련"
   ]
  },
  {
   "cell_type": "code",
   "execution_count": 41,
   "id": "6b88dee0",
   "metadata": {
    "scrolled": true
   },
   "outputs": [
    {
     "name": "stdout",
     "output_type": "stream",
     "text": [
      "Epoch 1/50\n",
      "308/308 [==============================] - 272s 852ms/step - loss: 4.2820 - val_loss: 3.8985\n",
      "Epoch 2/50\n",
      "308/308 [==============================] - 260s 845ms/step - loss: 3.7925 - val_loss: 3.6272\n",
      "Epoch 3/50\n",
      "308/308 [==============================] - 259s 841ms/step - loss: 3.5447 - val_loss: 3.4298\n",
      "Epoch 4/50\n",
      "308/308 [==============================] - 256s 830ms/step - loss: 3.3477 - val_loss: 3.2888\n",
      "Epoch 5/50\n",
      "308/308 [==============================] - 257s 834ms/step - loss: 3.1924 - val_loss: 3.1934\n",
      "Epoch 6/50\n",
      "308/308 [==============================] - 250s 812ms/step - loss: 3.0622 - val_loss: 3.0954\n",
      "Epoch 7/50\n",
      "308/308 [==============================] - 259s 842ms/step - loss: 2.9541 - val_loss: 3.0246\n",
      "Epoch 8/50\n",
      "308/308 [==============================] - 257s 836ms/step - loss: 2.8622 - val_loss: 2.9803\n",
      "Epoch 9/50\n",
      "308/308 [==============================] - 250s 811ms/step - loss: 2.7812 - val_loss: 2.9358\n",
      "Epoch 10/50\n",
      "308/308 [==============================] - 253s 822ms/step - loss: 2.7117 - val_loss: 2.8947\n",
      "Epoch 11/50\n",
      "308/308 [==============================] - 257s 835ms/step - loss: 2.6465 - val_loss: 2.8680\n",
      "Epoch 12/50\n",
      "308/308 [==============================] - 254s 823ms/step - loss: 2.5888 - val_loss: 2.8426\n",
      "Epoch 13/50\n",
      "308/308 [==============================] - 257s 834ms/step - loss: 2.5360 - val_loss: 2.8223\n",
      "Epoch 14/50\n",
      "308/308 [==============================] - 256s 830ms/step - loss: 2.4876 - val_loss: 2.8019\n",
      "Epoch 15/50\n",
      "308/308 [==============================] - 254s 824ms/step - loss: 2.4434 - val_loss: 2.7944\n",
      "Epoch 16/50\n",
      "308/308 [==============================] - 256s 832ms/step - loss: 2.4061 - val_loss: 2.7818\n",
      "Epoch 17/50\n",
      "308/308 [==============================] - 254s 826ms/step - loss: 2.3686 - val_loss: 2.7663\n",
      "Epoch 18/50\n",
      "308/308 [==============================] - 256s 832ms/step - loss: 2.3328 - val_loss: 2.7566\n",
      "Epoch 19/50\n",
      "308/308 [==============================] - 257s 835ms/step - loss: 2.3001 - val_loss: 2.7574\n",
      "Epoch 20/50\n",
      "308/308 [==============================] - 257s 834ms/step - loss: 2.2689 - val_loss: 2.7445\n",
      "Epoch 21/50\n",
      "308/308 [==============================] - 257s 834ms/step - loss: 2.2372 - val_loss: 2.7373\n",
      "Epoch 22/50\n",
      "308/308 [==============================] - 257s 833ms/step - loss: 2.2089 - val_loss: 2.7397\n",
      "Epoch 23/50\n",
      "308/308 [==============================] - 250s 813ms/step - loss: 2.1821 - val_loss: 2.7238\n",
      "Epoch 24/50\n",
      "308/308 [==============================] - 257s 834ms/step - loss: 2.1574 - val_loss: 2.7293\n",
      "Epoch 25/50\n",
      "308/308 [==============================] - 258s 836ms/step - loss: 2.1345 - val_loss: 2.7220\n",
      "Epoch 26/50\n",
      "308/308 [==============================] - 257s 833ms/step - loss: 2.1116 - val_loss: 2.7203\n",
      "Epoch 27/50\n",
      "308/308 [==============================] - 256s 830ms/step - loss: 2.0887 - val_loss: 2.7202\n",
      "Epoch 28/50\n",
      "308/308 [==============================] - 249s 807ms/step - loss: 2.0672 - val_loss: 2.7194\n",
      "Epoch 29/50\n",
      "308/308 [==============================] - 249s 808ms/step - loss: 2.0473 - val_loss: 2.7207\n",
      "Epoch 30/50\n",
      "308/308 [==============================] - 255s 827ms/step - loss: 2.0287 - val_loss: 2.7184\n",
      "Epoch 31/50\n",
      "308/308 [==============================] - 257s 833ms/step - loss: 2.0106 - val_loss: 2.7189\n",
      "Epoch 32/50\n",
      "308/308 [==============================] - 257s 834ms/step - loss: 1.9910 - val_loss: 2.7176\n",
      "Epoch 33/50\n",
      "308/308 [==============================] - 252s 818ms/step - loss: 1.9719 - val_loss: 2.7184\n",
      "Epoch 34/50\n",
      "308/308 [==============================] - 258s 838ms/step - loss: 1.9530 - val_loss: 2.7126\n",
      "Epoch 35/50\n",
      "308/308 [==============================] - 257s 834ms/step - loss: 1.9358 - val_loss: 2.7165\n",
      "Epoch 36/50\n",
      "308/308 [==============================] - 255s 827ms/step - loss: 1.9203 - val_loss: 2.7255\n",
      "Epoch 00036: early stopping\n"
     ]
    }
   ],
   "source": [
    "model.compile(optimizer='rmsprop', loss='sparse_categorical_crossentropy')\n",
    "es = EarlyStopping(monitor='val_loss', patience=2, verbose=1)# EarlyStopping특정 조건이 충족되면 훈련을 멈추는 역할 \n",
    "history = model.fit(x=[encoder_input_train, decoder_input_train], y=decoder_target_train, \\\n",
    "          validation_data=([encoder_input_test, decoder_input_test], decoder_target_test), \\\n",
    "          batch_size=256, callbacks=[es], epochs=50)"
   ]
  },
  {
   "cell_type": "markdown",
   "id": "30c897e2",
   "metadata": {},
   "source": [
    "- EarlyStopping(monitor='val_loss', patience=2, verbose=1)\n",
    "- val_loss(검증 데이터의 손실)을 관찰하다가, 검증 데이터의 손실이 줄어들지 않고 증가하는 현상이 2회(patience=2)관측되면 학습 stop"
   ]
  },
  {
   "cell_type": "code",
   "execution_count": 42,
   "id": "1c422eee",
   "metadata": {
    "scrolled": false
   },
   "outputs": [
    {
     "data": {
      "image/png": "[encoded data removed]",
      "text/plain": [
       "<Figure size 432x288 with 1 Axes>"
      ]
     },
     "metadata": {
      "needs_background": "light"
     },
     "output_type": "display_data"
    }
   ],
   "source": [
    "plt.plot(history.history['loss'], label='train')\n",
    "plt.plot(history.history['val_loss'], label='test')\n",
    "plt.legend()\n",
    "plt.show()"
   ]
  },
  {
   "cell_type": "markdown",
   "id": "a41ae34a",
   "metadata": {},
   "source": [
    "- val_loss 값이 감소하는 중에 높아진 적이 있지만, 이 현상은 카운트 하지 않고 연속으로 증가하는 현상이 일어나면은 stop하는 것 같다.\n",
    "- train loss 값은 계속 감소하는 추세를 보이지만 test loss 값은 감소하는 와중 2.7에서 증가 감소가 계속 이루어진 것을 볼 수 있었다."
   ]
  },
  {
   "cell_type": "markdown",
   "id": "b2484b7c",
   "metadata": {},
   "source": [
    "## 인퍼런스 모델 구현하기"
   ]
  },
  {
   "cell_type": "markdown",
   "id": "5c18646d",
   "metadata": {},
   "source": [
    "- 테스트 단계에서는 정수 인덱스 행렬로 존재하던 텍스트 데이터를 실제 데이터로 복원해야함"
   ]
  },
  {
   "cell_type": "code",
   "execution_count": 43,
   "id": "fbe161c9",
   "metadata": {},
   "outputs": [],
   "source": [
    "src_index_to_word = src_tokenizer.index_word # 원문 단어 집합에서 정수 -> 단어를 얻음\n",
    "tar_word_to_index = tar_tokenizer.word_index # 요약 단어 집합에서 단어 -> 정수를 얻음\n",
    "tar_index_to_word = tar_tokenizer.index_word # 요약 단어 집합에서 정수 -> 단어를 얻음"
   ]
  },
  {
   "cell_type": "markdown",
   "id": "d3e3d382",
   "metadata": {},
   "source": [
    "- 인코더와 디코더 모델을 분리해서 설계"
   ]
  },
  {
   "cell_type": "code",
   "execution_count": 45,
   "id": "9e019f1e",
   "metadata": {},
   "outputs": [],
   "source": [
    "# 인코더 설계\n",
    "encoder_model = Model(inputs=encoder_inputs, outputs=[encoder_outputs, state_h, state_c])\n",
    "\n",
    "# 이전 시점의 상태들을 저장하는 텐서\n",
    "decoder_state_input_h = Input(shape=(hidden_size,))\n",
    "decoder_state_input_c = Input(shape=(hidden_size,))\n",
    "\n",
    "dec_emb2 = dec_emb_layer(decoder_inputs)\n",
    "\n",
    "# 문장의 다음 단어를 예측하기 위해서 초기 상태(initial_state)를 이전 시점의 상태로 사용. 이는 뒤의 함수 decode_sequence()에 구현\n",
    "# 훈련 과정에서와 달리 LSTM의 리턴하는 은닉 상태와 셀 상태인 state_h와 state_c를 버리지 않음.\n",
    "decoder_outputs2, state_h2, state_c2 = decoder_lstm(dec_emb2, initial_state=[decoder_state_input_h, decoder_state_input_c])"
   ]
  },
  {
   "cell_type": "markdown",
   "id": "2f789029",
   "metadata": {},
   "source": [
    "- 어텐션 메커니즘을 사용하는 출력층 설계"
   ]
  },
  {
   "cell_type": "code",
   "execution_count": 46,
   "id": "1cb79e33",
   "metadata": {},
   "outputs": [],
   "source": [
    "# 어텐션 함수\n",
    "decoder_hidden_state_input = Input(shape=(text_max_len, hidden_size))\n",
    "attn_out_inf = attn_layer([decoder_outputs2, decoder_hidden_state_input])\n",
    "decoder_inf_concat = Concatenate(axis=-1, name='concat')([decoder_outputs2, attn_out_inf])\n",
    "\n",
    "# 디코더의 출력층\n",
    "decoder_outputs2 = decoder_softmax_layer(decoder_inf_concat) \n",
    "\n",
    "# 최종 디코더 모델\n",
    "decoder_model = Model(\n",
    "    [decoder_inputs] + [decoder_hidden_state_input,decoder_state_input_h, decoder_state_input_c],\n",
    "    [decoder_outputs2] + [state_h2, state_c2])"
   ]
  },
  {
   "cell_type": "markdown",
   "id": "5b216118",
   "metadata": {},
   "source": [
    "- 인퍼런스 단계에서 단어 시퀀스를 완성하는 함수"
   ]
  },
  {
   "cell_type": "code",
   "execution_count": 52,
   "id": "977582d5",
   "metadata": {},
   "outputs": [],
   "source": [
    "def decode_sequence(input_seq):\n",
    "    # 입력으로부터 인코더의 상태를 얻음\n",
    "    e_out, e_h, e_c = encoder_model.predict(input_seq)\n",
    "\n",
    "     # <SOS>에 해당하는 토큰 생성\n",
    "    target_seq = np.zeros((1,1))\n",
    "    target_seq[0, 0] = tar_word_to_index['sostoken']\n",
    "\n",
    "    stop_condition = False\n",
    "    decoded_sentence = ''\n",
    "    while not stop_condition: # stop_condition이 True가 될 때까지 루프 반복\n",
    "\n",
    "        output_tokens, h, c = decoder_model.predict([target_seq] + [e_out, e_h, e_c])\n",
    "        sampled_token_index = np.argmax(output_tokens[0, -1, :])\n",
    "        sampled_token = tar_index_to_word[sampled_token_index]\n",
    "\n",
    "        if (sampled_token!='eostoken'):\n",
    "            decoded_sentence += ' '+sampled_token\n",
    "\n",
    "        #  <eos>에 도달하거나 최대 길이를 넘으면 중단.\n",
    "        if (sampled_token == 'eostoken'  or len(decoded_sentence.split()) >= (headlines_max_len-1)):\n",
    "            stop_condition = True\n",
    "\n",
    "        # 길이가 1인 타겟 시퀀스를 업데이트\n",
    "        target_seq = np.zeros((1,1))\n",
    "        target_seq[0, 0] = sampled_token_index\n",
    "\n",
    "        # 상태를 업데이트 합니다.\n",
    "        e_h, e_c = h, c\n",
    "\n",
    "    return decoded_sentence"
   ]
  },
  {
   "cell_type": "markdown",
   "id": "fee970c5",
   "metadata": {},
   "source": [
    "## 4) 실제 결과와 요약문 비교하기 (추상적 요약)"
   ]
  },
  {
   "cell_type": "markdown",
   "id": "8497e4df",
   "metadata": {},
   "source": [
    "## 모델테스트"
   ]
  },
  {
   "cell_type": "code",
   "execution_count": 53,
   "id": "74688223",
   "metadata": {},
   "outputs": [],
   "source": [
    "# 원문의 정수 시퀀스를 텍스트 시퀀스로 변환\n",
    "def seq2text(input_seq):\n",
    "    temp=''\n",
    "    for i in input_seq:\n",
    "        if (i!=0):\n",
    "            temp = temp + src_index_to_word[i]+' '\n",
    "    return temp\n",
    "\n",
    "# 요약문의 정수 시퀀스를 텍스트 시퀀스로 변환\n",
    "def seq2summary(input_seq):\n",
    "    temp=''\n",
    "    for i in input_seq:\n",
    "        if ((i!=0 and i!=tar_word_to_index['sostoken']) and i!=tar_word_to_index['eostoken']):\n",
    "            temp = temp + tar_index_to_word[i] + ' '\n",
    "    return temp"
   ]
  },
  {
   "cell_type": "markdown",
   "id": "a3fa9214",
   "metadata": {},
   "source": [
    "### 약 50개의 샘플에 대한 실제 요약과 예측 요약"
   ]
  },
  {
   "cell_type": "code",
   "execution_count": 54,
   "id": "d6c5c69f",
   "metadata": {},
   "outputs": [
    {
     "name": "stdout",
     "output_type": "stream",
     "text": [
      "원문 : punjab cm captain amarinder singh announced free education girls government schools colleges state nursery phd fulfilling poll promise cm also announced five new colleges state current fiscal year free textbooks provided government schools besides free nursery classes next academic session onwards \n",
      "실제 요약 : free education for girls up to phd in punjab govt colleges \n",
      "예측 요약 :  punjab cm to take school education without students\n",
      "\n",
      "\n",
      "원문 : paris based historian claimed found french secret service report december suggests netaji subhash chandra bose alive time report claimed bose whereabouts unknown time refuting indian government claim passed away two years ago august \n",
      "실제 요약 : netaji was alive in french secret service report \n",
      "예측 요약 :  japan to launch digital tag for killing\n",
      "\n",
      "\n",
      "원문 : pakistan supreme court verdict panama papers scandal thursday began quote mario novel godfather behind every great fortune crime court said noting novel violent tale mafia family court called probe allegations pm nawaz sharif family \n",
      "실제 요약 : pak sc quotes the in its panama papers verdict \n",
      "예측 요약 :  pak sc allows hackers to remove hafiz saeed\n",
      "\n",
      "\n",
      "원문 : google self driving car spinoff company waymo started testing autonomous truck technology comes nearly year uber acquired trucking startup otto begin self driving truck venture notably otto co founder anthony levandowski former google employee accused stealing confidential documents self driving car technology waymo \n",
      "실제 요약 : google spinoff company waymo testing self driving trucks \n",
      "예측 요약 :  waymo self driving car catches self driving cars in us\n",
      "\n",
      "\n",
      "원문 : boys football coach found alive nine days trapped thai cave boys aged year old coach gone explore non cave june heavy rains flooded key trapped team members affected search \n",
      "실제 요약 : football team of trapped in cave found alive after days \n",
      "예측 요약 :  thai cave boys trapped in thai cave after death of boys\n",
      "\n",
      "\n",
      "원문 : fox news named scott first ever female ceo roger ousted ceo amid sexual harassment allegations scott lead fox news fox business network scott worked fox news since inception nearly years ago recently president programming fox news fox business \n",
      "실제 요약 : fox news names first female ceo after sexual harassment row \n",
      "예측 요약 :  fox news host founder amid sexual harassment scandal\n",
      "\n",
      "\n",
      "원문 : actress katrina kaif revealed shooting song feet began bleed dancing barefoot stones revealed co star sanjay dutt known since years old felt shy could look eye song shooting \n",
      "실제 요약 : my feet were bleeding while shooting katrina \n",
      "예측 요약 :  katrina to star in ranveer dance for her shoot\n",
      "\n",
      "\n",
      "원문 : virat kohli became highest scoring indian batsman calendar year third test sri lanka saturday kohli scored runs across formats surpassed rahul dravid record runs set ex sri lankan captain kumar sangakkara holds record runs calendar year \n",
      "실제 요약 : kohli beats dravid record of most runs for india in year \n",
      "예측 요약 :  kohli becomes highest scoring captain in cricket history\n",
      "\n",
      "\n",
      "원문 : reacting increasing level pollution delhi ncr tweet read feeling lucky get experience bhopal gas tragedy without going user tweeted rip everyone delhi bought iphone high definition photos another wrote delhi crush one thing common leave \n",
      "실제 요약 : tu hai mera baap hai twitter user on delhi smog \n",
      "예측 요약 :  delhi air pollution tweets user on drug tweet\n",
      "\n",
      "\n",
      "원문 : rebel congress leader shehzad poonawalla released facebook data leak accused firm cambridge analytica proposal party prepare lok sabha elections page report titled data driven campaign path lok sabha allegedly developed august proposal said whenever somebody registered website details recorded target ads \n",
      "실제 요약 : cong leader leaks fb scandal firm poll pitch to cong \n",
      "예측 요약 :  congress leader shows facebook data scandal\n",
      "\n",
      "\n",
      "원문 : technology giant apple filed patent shaped charging increased water resistance creating tight vacuum seal apple also proposed use software interface smartphone break vacuum seal according filings however filings reveal company would change current lightning port used charging apple devices \n",
      "실제 요약 : apple patents new charging with water \n",
      "예측 요약 :  apple files patent for selling iphone device\n",
      "\n",
      "\n",
      "원문 : pakistan occupied kashmir pm raja farooq haider khan sunday said civilian helicopter violated indian airspace along line control fired upon indian army indian army fired show pakistan violated airspace khan office said adding chopper within airspace firing took place \n",
      "실제 요약 : pok pm says indian army shot at his chopper that violated airspace \n",
      "예측 요약 :  pak pm sharif to shut down border with pak report\n",
      "\n",
      "\n",
      "원문 : playing first odi ireland women year old leg spinner murray friday conceded runs overs new zealand women bowler odi four ireland women bowlers gave away plus runs innings former australian men team fast bowler mick lewis conceded previous runs \n",
      "실제 요약 : yr old player concedes runs the most ever in an odi \n",
      "예측 요약 :  england st odi ton helps take wickets in odi cricket\n",
      "\n",
      "\n",
      "원문 : supreme court refused stay new health ministry rules directing manufacturers put graphic warning images packets cigarettes tobacco products comes tobacco firms moved court new rules tobacco products also national toll free number printed help users quit smoking per new rules \n",
      "실제 요약 : no harm in health warning on cigarette packs sc rules \n",
      "예측 요약 :  sc refuses to use rules to use of cigarettes\n",
      "\n",
      "\n",
      "원문 : james bond producer barbara said never female adding bond male character written male think probably stay male barbara said turn male characters women let us create female characters make story fit female characters \n",
      "실제 요약 : there will never be female james bond producer \n",
      "예측 요약 :  male director reveals he was sexually harassed\n",
      "\n",
      "\n",
      "원문 : least two people killed four others injured wednesday grenade thrown mosque philippines authorities said unidentified assailant reportedly threw grenade people sleeping comes days explosions roman catholic cathedral left people dead injured philippines \n",
      "실제 요약 : grenade thrown into mosque in philippines killed \n",
      "예측 요약 :  killed injured in explosion at mosque in us\n",
      "\n",
      "\n",
      "원문 : cbi alleged tax auditor nirav modi group sanjay aware crore worth unsecured loans availed three firms raise red flag lawyer however said reported transactions tax authorities instead made accused could best witness lawyer added \n",
      "실제 요약 : nirav modi was aware of the fraud cbi \n",
      "예측 요약 :  nirav modi crore cbi to buy farmers assets in pnb\n",
      "\n",
      "\n",
      "원문 : croatia midfielder luka modri led country first ever fifa world cup final year best fifa men player award monday finishing ahead cristiano ronaldo mo salah year old named fifa world cup best player also helped real madrid win champions league fifa club world cup last season \n",
      "실제 요약 : who led croatia to wc final named best fifa men player \n",
      "예측 요약 :  st time in yrs to fifa world cup group\n",
      "\n",
      "\n",
      "원문 : priyanka chopra mother madhu chopra said priyanka meeting pm narendra modi berlin impromptu going baywatch promotions pm priyanka trolled wearing knee length dress met pm madhu added taught done wrong nothing fear \n",
      "실제 요약 : she was going for film promo into pm priyanka mom \n",
      "예측 요약 :  priyanka chopra is like pm modi on priyanka\n",
      "\n",
      "\n",
      "원문 : bali mount agung volcano erupted friday morning forcing cancellation nearly flights indonesian island closure rai airport affected passengers said national disaster agency airport closed temporarily pilot flying overhead detected traces volcanic ash high metres \n",
      "실제 요약 : bali volcano erupts again flights cancelled \n",
      "예측 요약 :  bali airport declares emergency landing due to heavy rains\n",
      "\n",
      "\n",
      "원문 : first address nation eve independence day president kovind said government make implement strengthen laws everyone duty abide indebted laid lives independence time must take inspiration move forward kovind added \n",
      "실제 요약 : govt can make laws but it is everyone duty to follow prez \n",
      "예측 요약 :  new independence day celebrated in parliament\n",
      "\n",
      "\n",
      "원문 : kerala office censor board denied certification film months hell fiction based torture methods used police emergency india film director said told film contains violence indira gandhi mahatma gandhi national flag \n",
      "실제 요약 : censor board refuses to film on emergency \n",
      "예측 요약 :  cbfc director arrested for maharashtra censor board\n",
      "\n",
      "\n",
      "원문 : rbi said banks conduct government banking remain open till pm march greater convenience taxpayers central bank allowed electronic transactions done till midnight day beyond routine business hours however centralised payments services remain closed april \n",
      "실제 요약 : banks to remain open till pm on march rbi \n"
     ]
    },
    {
     "name": "stdout",
     "output_type": "stream",
     "text": [
      "예측 요약 :  rbi asks banks to remain rbi on bank of fy\n",
      "\n",
      "\n",
      "원문 : residents us city maine witnessing ice disk phenomenon measuring metres across freezing river water flows slowly main current likely freeze creating disc spin melt melting water spins scientists said \n",
      "실제 요약 : metre wide ice surfaces in us river \n",
      "예측 요약 :  us researchers find water bottle of the beach\n",
      "\n",
      "\n",
      "원문 : hospital australia pays poop donors year delivering poop five times week donors must healthy weight need take blood test determine eligibility poop transplants used help treat medical conditions like autism chronic diarrhoea \n",
      "실제 요약 : australian hospital pays over lakh year for poop \n",
      "예측 요약 :  aus restaurant turns showstopper for stomach\n",
      "\n",
      "\n",
      "원문 : us based startup offers cancer diagnosis using full body mri raised million seed round led vc firm accomplice round saw participation investors including founders future ventures number angel investors founded uses artificial intelligence assist doctors detecting cancer mri scans \n",
      "실제 요약 : us startup raises million to cancer using mri \n",
      "예측 요약 :  startup makes smart cancer startup raises crore\n",
      "\n",
      "\n",
      "원문 : government wednesday said expatriates would required apply aadhaar card staying india days required pay domestic income tax finance act provides mandatory quoting aadhaar submitting income tax returns making application allotment pan effective july \n",
      "실제 요약 : expats in india for over days need aadhaar for \n",
      "예측 요약 :  aadhaar mandatory for aadhaar mandatory for govt\n",
      "\n",
      "\n",
      "원문 : bjp mp bharat singh saturday said conspiracies hatched christian missionaries threat unity country singh also claimed congress party controlled christian missionaries former congress president sonia gandhi works directions singh added missionaries weakened democracy northeast \n",
      "실제 요약 : christian threat to unity of country bjp mp \n",
      "예측 요약 :  bjp mp says he is like to make people from\n",
      "\n",
      "\n",
      "원문 : sex city star vocal critic us president donald trump nixon monday took twitter announce launching bid new york governor leaders letting us state sick politicians said video posted twitter \n",
      "실제 요약 : sex and the city star to run for new york governor \n",
      "예측 요약 :  trump billion bid for planning sex with female\n",
      "\n",
      "\n",
      "원문 : indian captain virat kohli released video message eight time olympic gold winning sprinter usain bolt retiring month video captioned matter last competitive race always track kohli adds bolt ever wants play cricket knows find \n",
      "실제 요약 : you will be forever fastest on and off track kohli to bolt \n",
      "예측 요약 :  kohli names his third in his third match in australia\n",
      "\n",
      "\n",
      "원문 : italian government offered help pakistan asia bibi christian woman acquitted blasphemy charges leave country bibi acquittal sparked protests across pakistan islamists demanding execution bibi husband pleaded asylum several western countries including us uk \n",
      "실제 요약 : italy offers to help freed christian woman leave pakistan \n",
      "예측 요약 :  pakistan suspends pakistan over blasphemy death\n",
      "\n",
      "\n",
      "원문 : video shows actress priyanka chopra dancing mother madhu chopra future mother law jonas guests bridal shower held us party thrown priyanka friends sharing pictures party instagram priyanka wrote bridal shower broke rules \n",
      "실제 요약 : priyanka dances with mom future mom in law at her bridal shower \n",
      "예측 요약 :  priyanka nick mom welcome dj at their wedding party\n",
      "\n",
      "\n",
      "원문 : supreme court thursday rejected petition reliance communications seeking extend december deadline repay crore dues ericsson company argued received objection certificate telecom department proceed spectrum sale reliance jio rcom earlier said proceeds spectrum deal used clear ericsson dues \n",
      "실제 요약 : sc rejects rcom plea seeking more time to pay ericsson \n",
      "예측 요약 :  sc stays crore proceedings against rcom over cr dispute\n",
      "\n",
      "\n",
      "원문 : passengers flight jakarta melbourne warned watch symptoms toddler contracted disease may caught plane three year old boy admitted hospital one week flying passengers asked remain alert disease incubation period days \n",
      "실제 요약 : flight passengers face scare as toddler gets disease \n",
      "예측 요약 :  flight turns back into german airport after flight\n",
      "\n",
      "\n",
      "원문 : people caught saturday drunken driving span hours special operation carried kochi police case would registered violators police said last month people caught surprise operation called operation little star drunken driving among school bus drivers kochi \n",
      "실제 요약 : over booked for drunken driving in hrs in kochi \n",
      "예측 요약 :  cops set up traffic in traffic police to run driving\n",
      "\n",
      "\n",
      "원문 : delhi government set launch spoken english course government school students june students appeared class board exam cleared pre board exams subjects english subject eligible course step towards making government schools viable high quality alternative expensive private schools officials claimed \n",
      "실제 요약 : delhi to start spoken english course for govt school kids \n",
      "예측 요약 :  delhi govt launches school exams for students\n",
      "\n",
      "\n",
      "원문 : cbi registered case several persons allegedly trafficking three girls kenya pretext offering employment two accused identified kala aryan residents punjab delhi girls allegedly forced prostitution later rescued kenya police india \n",
      "실제 요약 : cbi books several people for trafficking girls to kenya \n",
      "예측 요약 :  cbi arrests girls for shelter home in bihar shelter home\n",
      "\n",
      "\n",
      "원문 : first karnataka government prepared draft policy welfare rehabilitation burn victims state policy likely tabled state legislature next session includes measures insurance compensation housing employment victims karnataka reportedly two burn units equipped deal third degree burns \n",
      "실제 요약 : karnataka to get welfare policy for burn victims \n",
      "예측 요약 :  karnataka to shut down after anti violence\n",
      "\n",
      "\n",
      "원문 : snow avalanche study establishment tuesday issued avalanche warning several jammu kashmir districts hours magnitude earthquake afghanistan caused tremors north india government agency warned medium low danger avalanches shopian kargil baramulla among others residents advised avoid movement areas next hours \n",
      "실제 요약 : avalanche warning issued across districts after quake \n",
      "예측 요약 :  bsf personnel killed in ceasefire violation by bangladesh\n",
      "\n",
      "\n",
      "원문 : according reports actor hrithik roshan purchased house minutes away residence ex wife sussanne khan according source flat also close houses sussanne hrithik parents notably hrithik sussanne officially divorced nearly year long marriage \n",
      "실제 요약 : hrithik buys house for his ex wife sussanne reports \n",
      "예측 요약 :  hrithik denies reports of copying his family house\n",
      "\n",
      "\n",
      "원문 : german cyclist year tour de france stage seven third stage win year photo finish norwegian cyclist margin victory decided help special camera taking images second found seconds millimetres \n",
      "실제 요약 : tour de france stage ends in photo finish with margin \n",
      "예측 요약 :  boxer wins race title at world ship\n",
      "\n",
      "\n",
      "원문 : police rescued year old film actress mumbai prostitution racket raid hyderabad hotel man named rao tagged brothel organiser customer arrested police added actresses paid lakh week rao collected customer \n",
      "실제 요약 : year old actress rescued as cops bust prostitution racket \n",
      "예측 요약 :  mumbai police arrest mumbai police for arrest\n",
      "\n",
      "\n",
      "원문 : south korea prime minister lee said cryptocurrencies could lead teenagers get involved pyramid schemes drug crimes said students jumping market make money leading get fraudulent crime let things continue feel serious could occur added \n",
      "실제 요약 : cryptocurrency could lead teens into drug crimes korea pm \n",
      "예측 요약 :  pak to issue blood of blood in south korea\n",
      "\n",
      "\n",
      "원문 : former indian cricketer virender sehwag indirectly called cheteshwar pujara inclusion team india second test tweeting pope likely play england india play pujara second test lords pujara dropped first test kl rahul batting number three rahul runs first test \n",
      "실제 요약 : pope to play for england should india play pujara sehwag \n",
      "예측 요약 :  rahul urges bcci to play india in cricket cricket\n",
      "\n",
      "\n",
      "원문 : automaker tesla disclosed billionaire ceo elon musk paid least million income tax last year payment included taxes billion musk gained stock options set expire end paid tax selling shares got options \n",
      "실제 요약 : elon musk paid over crore income tax in \n",
      "예측 요약 :  tesla ceo musk gets mn tax pay for tax pay\n",
      "\n",
      "\n",
      "원문 : west bengal government decided give tickets regional cinema including bengali nepali upcoming goods services tax state cabinet decided give cinema tickets less keep tax rate par existing entertainment tax \n",
      "실제 요약 : west bengal govt to give on regional cinema tickets \n"
     ]
    },
    {
     "name": "stdout",
     "output_type": "stream",
     "text": [
      "예측 요약 :  west bengal govt to give sanitary napkins to west bengal\n",
      "\n",
      "\n",
      "원문 : first us based researchers created mimicking material may allow surgeons print knee replacement parts based material matching human strength tested stability plastic model knee custom implants based models patient obtained ct mri scans scientists said \n",
      "실제 요약 : like made for knee implants \n",
      "예측 요약 :  scientists create first ever human hair\n",
      "\n",
      "\n",
      "원문 : trailer indian upcoming documentary nobel laureate amartya sen released comes censor board stalled film release use words cow gujarat hindutva view india hindu india among others documentary directed suman ghosh \n",
      "실제 요약 : trailer of film on nobel laureate sen released \n",
      "예측 요약 :  trailer of indian film released on the released\n",
      "\n",
      "\n",
      "원문 : external affairs minister sushma swaraj granted medical visas ailing pakistani man requiring liver transplant three year old girl country needs open heart surgery august year swaraj tweeted auspicious occasion india independence day grant medical visa cases pending us \n",
      "실제 요약 : sushma swaraj grants medical visas to two pakistanis \n",
      "예측 요약 :  sushma swaraj assures medical visa to pakistani visa\n",
      "\n",
      "\n",
      "원문 : external affairs minister sushma swaraj thursday asserted indian companies generating jobs stealing jobs americans far indian companies given direct employment lakh americans supportive jobs lakh americans said indian companies paid taxes worth billion us swaraj added \n",
      "실제 요약 : indian it firms creating not stealing jobs in us swaraj \n",
      "예측 요약 :  india visa holders to get lakh visas sushma swaraj\n",
      "\n",
      "\n"
     ]
    }
   ],
   "source": [
    "for i in range(50, 100):\n",
    "    print(\"원문 :\", seq2text(encoder_input_test[i]))\n",
    "    print(\"실제 요약 :\", seq2summary(decoder_input_test[i]))\n",
    "    print(\"예측 요약 :\", decode_sequence(encoder_input_test[i].reshape(1, text_max_len)))\n",
    "    print(\"\\n\")"
   ]
  },
  {
   "cell_type": "markdown",
   "id": "62b4a5fa",
   "metadata": {},
   "source": [
    "## 5) Summa을 이용해서 추출적 요약해보기"
   ]
  },
  {
   "cell_type": "markdown",
   "id": "a82a1340",
   "metadata": {},
   "source": [
    "#### Summa 설치\n",
    "$ pip list | grep summa"
   ]
  },
  {
   "cell_type": "markdown",
   "id": "0a8d10f3",
   "metadata": {},
   "source": [
    "## 데이터 다운로드"
   ]
  },
  {
   "cell_type": "code",
   "execution_count": 55,
   "id": "b3f077a9",
   "metadata": {},
   "outputs": [],
   "source": [
    "import requests\n",
    "from summa.summarizer import summarize"
   ]
  },
  {
   "cell_type": "code",
   "execution_count": 58,
   "id": "369a0596",
   "metadata": {},
   "outputs": [],
   "source": [
    "urllib.request.urlretrieve(\"https://raw.githubusercontent.com/sunnysai12345/News_Summary/master/news_summary_more.csv\", filename=\"news_summary_more.csv\")\n",
    "Edata = pd.read_csv('news_summary_more.csv', encoding='iso-8859-1')"
   ]
  },
  {
   "cell_type": "code",
   "execution_count": 61,
   "id": "ece1ab77",
   "metadata": {},
   "outputs": [
    {
     "data": {
      "text/html": [
       "<div>\n",
       "<style scoped>\n",
       "    .dataframe tbody tr th:only-of-type {\n",
       "        vertical-align: middle;\n",
       "    }\n",
       "\n",
       "    .dataframe tbody tr th {\n",
       "        vertical-align: top;\n",
       "    }\n",
       "\n",
       "    .dataframe thead th {\n",
       "        text-align: right;\n",
       "    }\n",
       "</style>\n",
       "<table border=\"1\" class=\"dataframe\">\n",
       "  <thead>\n",
       "    <tr style=\"text-align: right;\">\n",
       "      <th></th>\n",
       "      <th>headlines</th>\n",
       "      <th>text</th>\n",
       "    </tr>\n",
       "  </thead>\n",
       "  <tbody>\n",
       "    <tr>\n",
       "      <th>0</th>\n",
       "      <td>upGrad learner switches to career in ML &amp; Al w...</td>\n",
       "      <td>Saurav Kant, an alumnus of upGrad and IIIT-B's...</td>\n",
       "    </tr>\n",
       "    <tr>\n",
       "      <th>1</th>\n",
       "      <td>Delhi techie wins free food from Swiggy for on...</td>\n",
       "      <td>Kunal Shah's credit card bill payment platform...</td>\n",
       "    </tr>\n",
       "    <tr>\n",
       "      <th>2</th>\n",
       "      <td>New Zealand end Rohit Sharma-led India's 12-ma...</td>\n",
       "      <td>New Zealand defeated India by 8 wickets in the...</td>\n",
       "    </tr>\n",
       "    <tr>\n",
       "      <th>3</th>\n",
       "      <td>Aegon life iTerm insurance plan helps customer...</td>\n",
       "      <td>With Aegon Life iTerm Insurance plan, customer...</td>\n",
       "    </tr>\n",
       "    <tr>\n",
       "      <th>4</th>\n",
       "      <td>Have known Hirani for yrs, what if MeToo claim...</td>\n",
       "      <td>Speaking about the sexual harassment allegatio...</td>\n",
       "    </tr>\n",
       "  </tbody>\n",
       "</table>\n",
       "</div>"
      ],
      "text/plain": [
       "                                           headlines  \\\n",
       "0  upGrad learner switches to career in ML & Al w...   \n",
       "1  Delhi techie wins free food from Swiggy for on...   \n",
       "2  New Zealand end Rohit Sharma-led India's 12-ma...   \n",
       "3  Aegon life iTerm insurance plan helps customer...   \n",
       "4  Have known Hirani for yrs, what if MeToo claim...   \n",
       "\n",
       "                                                text  \n",
       "0  Saurav Kant, an alumnus of upGrad and IIIT-B's...  \n",
       "1  Kunal Shah's credit card bill payment platform...  \n",
       "2  New Zealand defeated India by 8 wickets in the...  \n",
       "3  With Aegon Life iTerm Insurance plan, customer...  \n",
       "4  Speaking about the sexual harassment allegatio...  "
      ]
     },
     "execution_count": 61,
     "metadata": {},
     "output_type": "execute_result"
    }
   ],
   "source": [
    "Edata.head()"
   ]
  },
  {
   "cell_type": "code",
   "execution_count": 68,
   "id": "e26040da",
   "metadata": {
    "scrolled": false
   },
   "outputs": [
    {
     "data": {
      "text/plain": [
       "\"Kunal Shah's credit card bill payment platform, CRED, gave users a chance to win free food from Swiggy for one year. Pranav Kaushik, a Delhi techie, bagged this reward after spending 2000 CRED coins. Users get one CRED coin per rupee of bill paid, which can be used to avail rewards from brands like Ixigo, BookMyShow, UberEats, Cult.Fit and more.\""
      ]
     },
     "execution_count": 68,
     "metadata": {},
     "output_type": "execute_result"
    }
   ],
   "source": [
    "Edata['text'].iloc[1]"
   ]
  },
  {
   "cell_type": "markdown",
   "id": "a0f9ddfa",
   "metadata": {},
   "source": [
    "#### summarize() 인자:\n",
    "- text (str) : 요약할 테스트.\n",
    "- ratio (float, optional) – 요약문에서 원본에서 선택되는 문장 비율. 0~1 사이값\n",
    "- words (int or None, optional) – 출력에 포함할 단어 수.\n",
    "- 만약, ratio와 함께 두 파라미터가 모두 제공되는 경우 ratio는 무시한다.\n",
    "- split (bool, optional) – True면 문장 list / False는 조인(join)된 문자열을 반환"
   ]
  },
  {
   "cell_type": "code",
   "execution_count": 79,
   "id": "7ca62195",
   "metadata": {
    "scrolled": true
   },
   "outputs": [
    {
     "name": "stdout",
     "output_type": "stream",
     "text": [
      "Summary:\n",
      "\n"
     ]
    }
   ],
   "source": [
    "print('Summary:')\n",
    "print(summarize(Edata['text'].apply(str).iloc[1], ratio=0.3))"
   ]
  },
  {
   "cell_type": "code",
   "execution_count": 82,
   "id": "95894bff",
   "metadata": {
    "scrolled": true
   },
   "outputs": [
    {
     "name": "stdout",
     "output_type": "stream",
     "text": [
      "Summary:\n",
      "Pranav Kaushik, a Delhi techie, bagged this reward after spending 2000 CRED coins.\n",
      "Users get one CRED coin per rupee of bill paid, which can be used to avail rewards from brands like Ixigo, BookMyShow, UberEats, Cult.Fit and more.\n"
     ]
    }
   ],
   "source": [
    "print('Summary:')\n",
    "print(summarize(Edata['text'].apply(str).iloc[1], ratio=0.7))"
   ]
  },
  {
   "cell_type": "markdown",
   "id": "f10aadf3",
   "metadata": {},
   "source": [
    "- ratio 값이 0.4미만으로는 요약이 나오질 않는다 값이 나온는 0.4로 ratio 값을 설정"
   ]
  },
  {
   "cell_type": "code",
   "execution_count": 80,
   "id": "d6deab34",
   "metadata": {},
   "outputs": [
    {
     "name": "stdout",
     "output_type": "stream",
     "text": [
      "Summary:\n",
      "Users get one CRED coin per rupee of bill paid, which can be used to avail rewards from brands like Ixigo, BookMyShow, UberEats, Cult.Fit and more.\n"
     ]
    }
   ],
   "source": [
    "print('Summary:')\n",
    "print(summarize(Edata['text'].apply(str).iloc[1], ratio=0.4))"
   ]
  },
  {
   "cell_type": "code",
   "execution_count": 87,
   "id": "aaf7c87a",
   "metadata": {},
   "outputs": [],
   "source": [
    "def Extractive():\n",
    "    for i in range(50, 100):\n",
    "        print(\"원문 :\",Edata['text'].apply(str).iloc[i], '\\n' )\n",
    "        print(\"예측 요약 :\", summarize(Edata['text'].apply(str).iloc[i], ratio=0.4))\n",
    "        print(\"\\n\")"
   ]
  },
  {
   "cell_type": "code",
   "execution_count": 88,
   "id": "8f61572f",
   "metadata": {},
   "outputs": [
    {
     "name": "stdout",
     "output_type": "stream",
     "text": [
      "원문 : Former Finance Minister Yashwant Sinha on Tuesday demanded a probe into the alleged diversion of loans worth Ã¢ÂÂ¹31,000 crore by Dewan Housing Finance (DHFL). All agencies including regulators of the government have failed to track nefarious deals, he said. This comes after a media report on Tuesday accused DHFL's controlling shareholders of diverting funds to shell companies to buy assets. \n",
      "\n",
      "예측 요약 : Former Finance Minister Yashwant Sinha on Tuesday demanded a probe into the alleged diversion of loans worth Ã¢ÂÂ¹31,000 crore by Dewan Housing Finance (DHFL).\n",
      "\n",
      "\n",
      "원문 : US-based Boeing on Wednesday reported annual sales worth $101.12 billion in 2018, the first time the planemaker's sales crossed the $100-billion mark in its 102-year history. The company said it expects to deliver between 895 and 905 commercial aircraft in 2019. Boeing retained its position as the world's largest planemaker for the seventh straight year, delivering 806 aircraft in 2018.  \n",
      "\n",
      "예측 요약 : Boeing retained its position as the world's largest planemaker for the seventh straight year, delivering 806 aircraft in 2018.\n",
      "\n",
      "\n",
      "원문 : text \n",
      "\n",
      "예측 요약 : \n",
      "\n",
      "\n",
      "원문 : OnePlus has emerged as India's best-selling premium smartphone brand of 2018, as per a report by Counterpoint. It captured 36% of the market share in the premium segment, in Q4 2018. Further, its OnePlus 6 emerged as the highest selling premium smartphone of 2018 followed by OnePlus 6T. \n",
      "\n",
      "예측 요약 : Further, its OnePlus 6 emerged as the highest selling premium smartphone of 2018 followed by OnePlus 6T.\n",
      "\n",
      "\n",
      "원문 : Filmmaker Pooja Bhatt, while talking about the presentation of women in her films, said, \"I can never look at a female body, even if it's naked, in a vulgar manner.\" \"Our audience can say...the women in my films are bold or sensual, but never ever vulgar,\" she added. Pooja further said her censor board is her \"own heart and mind\". \n",
      "\n",
      "예측 요약 : \n",
      "\n",
      "\n",
      "원문 : Actress Mishti, who has featured in 'Manikarnika: The Queen of Jhansi', has said the film's co-director Kangana Ranaut made false promises to the cast. \"Kangana had said, 'I want dates because all characters look jumbled up...I'm trying my best to give everybody a prominent space on screen.' After watching the movie, there is no scope for other characters,\" Mishti added.  \n",
      "\n",
      "예측 요약 : \n",
      "\n",
      "\n",
      "원문 : The high-powered committee led by PM Narendra Modi to select the next CBI Director will meet again on February 1, Congress leader Mallikarjun Kharge has said. The panel consisting of Kharge and Chief Justice of India Ranjan Gogoi met on January 24, but the meeting ended \"inconclusively\" after Kharge cited lack of details in the list of 80 IPS officers.  \n",
      "\n",
      "예측 요약 : \n",
      "\n",
      "\n",
      "원문 : Nevada State Athletic Commission has banned MMA fighters Conor McGregor and Khabib Nurmagomedov for six months and nine months respectively over their roles in the mass brawl that occurred after their fight at UFC 229 last October. McGregor and Khabib have been fined $50,000 (Ã¢ÂÂ¹35 lakh) and $500,000 (Ã¢ÂÂ¹3.5 crore) respectively. The brawl occurred after Nurmagomedov confronted McGregor's teammate. \n",
      "\n",
      "예측 요약 : Nevada State Athletic Commission has banned MMA fighters Conor McGregor and Khabib Nurmagomedov for six months and nine months respectively over their roles in the mass brawl that occurred after their fight at UFC 229 last October.\n",
      "\n",
      "\n",
      "원문 : Pakistan captain Sarfaraz Ahmed, who has been banned for four matches over racist remarks, took an apparent dig at his critics by sharing a video of a child reciting 'log hai na' poem on Twitter. \"Pyaar karna hai to khud se kar...dushmani karne ke liye log hai na,\" the poem read. \"This is how the world is,\" Sarfaraz wrote. \n",
      "\n",
      "예측 요약 : Pakistan captain Sarfaraz Ahmed, who has been banned for four matches over racist remarks, took an apparent dig at his critics by sharing a video of a child reciting 'log hai na' poem on Twitter.\n",
      "\n",
      "\n",
      "원문 : Banned cricketer Sreesanth has told Supreme Court he initially confessed to Delhi Police about his alleged involvement in 2013 IPL spot-fixing scandal to escape continuous police torture. Sreesanth further said the bookie tried dragging him into spot-fixing but he didn't fall for it. Citing Sreesanth not informing BCCI about fixing approach, the apex court said Sreesanth's conduct \"wasn't good\". \n",
      "\n",
      "예측 요약 : Sreesanth further said the bookie tried dragging him into spot-fixing but he didn't fall for it.\n",
      "\n",
      "\n",
      "원문 : The Finance Ministry on Wednesday said the government will present an Interim Budget on February 1. The clarification came amid speculations that a full Budget may be presented during the session. The government recently assigned Piyush Goyal temporary additional charge of the Finance and Corporate Affairs ministries in the absence of Arun Jaitley, who is in the US for treatment. \n",
      "\n",
      "예측 요약 : The Finance Ministry on Wednesday said the government will present an Interim Budget on February 1.\n",
      "\n",
      "\n",
      "원문 : US President Donald Trump on Wednesday called his country's top intelligence chiefs \"naive\" and \"wrong\" on Iran and added that they should perhaps \"go back to school\". Trump claimed Iran is testing rockets, calling the country \"a source of potential danger and conflict\". Top US intelligence officials on Tuesday said that Iran isn't currently taking steps towards building nuclear weapons. \n",
      "\n",
      "예측 요약 : US President Donald Trump on Wednesday called his country's top intelligence chiefs \"naive\" and \"wrong\" on Iran and added that they should perhaps \"go back to school\".\n",
      "\n",
      "\n",
      "원문 : A senior priest at the Vatican who handled cases of sexual abuse has quit after being accused of sexual abuse by a former nun. The accused priest claimed he is innocent and said he would consider taking legal action. The Vatican said in a statement that a Church investigation of the case was underway. \n",
      "\n",
      "예측 요약 : A senior priest at the Vatican who handled cases of sexual abuse has quit after being accused of sexual abuse by a former nun.\n",
      "\n",
      "\n",
      "원문 : A 22-year-old writer turned down a job offer, claiming she was bullied to the point of tears during her two-hour interview by a UK company's CEO. Olivia Bland added the \"brutal\" interview brought back painful memories of her abusive relationship. \"I am so sorry that anyone has been hurt, it is never my intent,\" Web Applications CEO Craig Dean replied.  \n",
      "\n",
      "예측 요약 : A 22-year-old writer turned down a job offer, claiming she was bullied to the point of tears during her two-hour interview by a UK company's CEO.\n",
      "\n",
      "\n",
      "원문 : Noida Police has arrested Sector 20 station in-charge Manoj Pant and three journalists for allegedly extorting money from a call centre owner for removing his name from an FIR. The four were caught while taking bribe money of Ã¢ÂÂ¹8 lakh, police said. Pant was the lead investigator in the Paytm extortion case involving Founder Vijay Shekhar Sharma's secretary Sonia Dhawan. \n",
      "\n",
      "예측 요약 : Noida Police has arrested Sector 20 station in-charge Manoj Pant and three journalists for allegedly extorting money from a call centre owner for removing his name from an FIR.\n",
      "\n",
      "\n",
      "원문 : Airtel on Wednesday said that Qatar's sovereign wealth fund Qatar Investment Authority will invest $200 million through a primary equity issuance in Airtel Africa. India's second-largest telecom operator's Africa unit recently raised $1.25 billion from six investors. Airtel Africa, the holding company for Airtel's operations in 14 African countries, is preparing for an initial public offering. \n",
      "\n",
      "예측 요약 : Airtel Africa, the holding company for Airtel's operations in 14 African countries, is preparing for an initial public offering.\n",
      "\n",
      "\n",
      "원문 : Actor Shreyas Talpade said that 'Golmaal' filmmaker Rohit Shetty is still working on the script for the fifth instalment of the 'Golmaal' film franchise. \"He was telling us the other day that he...cracked some story. Once he's done with the...scripting, he'll take a call,Ã¢ÂÂ the actor added. The series features Shreyas along with Ajay Devgn, Arshad Warsi and Tusshar Kapoor. \n",
      "\n",
      "예측 요약 : Actor Shreyas Talpade said that 'Golmaal' filmmaker Rohit Shetty is still working on the script for the fifth instalment of the 'Golmaal' film franchise.\n",
      "\n",
      "\n",
      "원문 : A 72-year-old man named Terry Sanderson has sued 'Avengers' actress Gwyneth Paltrow for allegedly crashing into him while skiing, and is seeking $3.1 million (over Ã¢ÂÂ¹22 crore) in damages. The lawsuit states the actress got up and skied away after knocking the man down, leaving him with broken ribs. The incident reportedly took place in 2016 in Utah, US.  \n",
      "\n",
      "예측 요약 : A 72-year-old man named Terry Sanderson has sued 'Avengers' actress Gwyneth Paltrow for allegedly crashing into him while skiing, and is seeking $3.1 million (over Ã¢ÂÂ¹22 crore) in damages.\n",
      "\n",
      "\n",
      "원문 : Yami Gautam was felicitated by Border Security Force (BSF) in Amritsar for her performance in 'Uri: The Surgical Strike'. \"BSF is the first line of defence of our country and it gives me...pride to have met them,\" Yami said. The film, which also stars Vicky Kaushal, is based on the Indian Army's surgical strike operation which took place in 2016. \n",
      "\n"
     ]
    },
    {
     "name": "stdout",
     "output_type": "stream",
     "text": [
      "예측 요약 : Yami Gautam was felicitated by Border Security Force (BSF) in Amritsar for her performance in 'Uri: The Surgical Strike'.\n",
      "\n",
      "\n",
      "원문 : Social media giant Facebook has hired privacy critic Nate Cardozo, formerly the top legal counsel for US privacy watchdog EFF, as a privacy policy manager for WhatsApp. Cardozo had called Facebook a \"faceless corporation\" whose business model depends on user's confusion and indifference about privacy, in October 2015. Facebook has also hired attorney Robyn Greene as its privacy policy manager. \n",
      "\n",
      "예측 요약 : \n",
      "\n",
      "\n",
      "원문 : Apple CEO Tim Cook said the company plans to lower some iPhones' prices in markets with currencies that weakened against the US dollar in the past year. \"WeÃ¢ÂÂve decided to go back to (iPhone prices) more commensurate with...local prices...a year ago,\" Cook added. The price cuts, in hopes of increasing sales, are reportedly occurring for second time in 12 years. \n",
      "\n",
      "예측 요약 : \"WeÃ¢ÂÂve decided to go back to (iPhone prices) more commensurate with...local prices...a year ago,\" Cook added.\n",
      "\n",
      "\n",
      "원문 : Scientists in Australia's Flinders University are testing a wetsuit prototype that could protect its wearer after a shark attack. The suit, made of synthetic material similar to the material used in bulletproof vests, could help reduce blood loss after a shark attack. \"The majority of fatalities from shark bites is due to blood loss...shock from blood loss,\" a scientist said. \n",
      "\n",
      "예측 요약 : \"The majority of fatalities from shark bites is due to blood loss...shock from blood loss,\" a scientist said.\n",
      "\n",
      "\n",
      "원문 : BJP National Secretary Rahul Sinha on Wednesday asked the party workers in West Bengal to come armed with sticks to PM Narendra Modi's rally in the state on February 2. His statement came a day after clashes broke out following BJP chief Amit Shah's WB rally. Sinha added the TMC is indulged in violence as they're afraid of BJP's strength. \n",
      "\n",
      "예측 요약 : BJP National Secretary Rahul Sinha on Wednesday asked the party workers in West Bengal to come armed with sticks to PM Narendra Modi's rally in the state on February 2.\n",
      "\n",
      "\n",
      "원문 : BJP President Amit Shah on Wednesday took a dig at the Opposition parties saying that the 'mahagathbandhan' for the Opposition is 4B - \"Bua-Bhatija-Bhai-Behen\". He added that 4B for the BJP meant \"Badhta Bharat, Banta Bharat\". He said Opposition's government cannot take the country ahead and \"only Modiji can provide a 'mazboot' (strong) government\". \n",
      "\n",
      "예측 요약 : BJP President Amit Shah on Wednesday took a dig at the Opposition parties saying that the 'mahagathbandhan' for the Opposition is 4B - \"Bua-Bhatija-Bhai-Behen\".\n",
      "\n",
      "\n",
      "원문 : German automaker Volkswagen Group has retained the car industry's top spot in global sales, beating its Japanese rival Toyota. Volkswagen's sales, including its MAN and Scania heavy trucks and buses, rose 0.9% to 10.83 million in 2018, the company had said. Toyota came second with around 10.6 million deliveries, including its affiliated brands Daihatsu and Hino, in 2018. \n",
      "\n",
      "예측 요약 : Volkswagen's sales, including its MAN and Scania heavy trucks and buses, rose 0.9% to 10.83 million in 2018, the company had said.\n",
      "\n",
      "\n",
      "원문 : Ousted Nissan Chairman Carlos Ghosn has said his arrest over alleged financial misconduct was led by \"plot and treason\" by the Japanese carmaker's executives who opposed its deeper integration with Renault and Mitsubishi. Ghosn added he had discussed the integration plans with Nissan's CEO in September, a month before his arrest. He further said he wouldn't flee if granted bail. \n",
      "\n",
      "예측 요약 : Ousted Nissan Chairman Carlos Ghosn has said his arrest over alleged financial misconduct was led by \"plot and treason\" by the Japanese carmaker's executives who opposed its deeper integration with Renault and Mitsubishi.\n",
      "\n",
      "\n",
      "원문 : The government has cut down customs duty on import of parts and components for electric vehicles to 10-15%, down from the previous 15-30%. The Central Board of Indirect Taxes and Customs said disassembled parts will attract 10% duty, whereas 15% will be levied on pre-assembled packs. However, fully built electric vehicles will continue to attract 25% import duty. \n",
      "\n",
      "예측 요약 : The government has cut down customs duty on import of parts and components for electric vehicles to 10-15%, down from the previous 15-30%.\n",
      "\n",
      "\n",
      "원문 : Government officials on Wednesday said that a swine flu outbreak has killed 76 people this year in Rajasthan. Colder weather has worsened the seasonal outbreak of the H1N1 virus in the country, officials added. Rajasthan recorded more than a third of all swine flu deaths in India with Jodhpur being the worst affected area in the state, officials said. \n",
      "\n",
      "예측 요약 : Government officials on Wednesday said that a swine flu outbreak has killed 76 people this year in Rajasthan.\n",
      "\n",
      "\n",
      "원문 : North Korea is \"unlikely to completely give up its nuclear weapons and production capabilities\", Director of US' National Intelligence, Daniel Coats, said. \"North Korean leaders view nuclear arms as critical to regime survival,\" he added. His statements come despite North Korea's agreement with the US at the Singapore summit last year to denuclearise the Korean Peninsula.  \n",
      "\n",
      "예측 요약 : \"North Korean leaders view nuclear arms as critical to regime survival,\" he added.\n",
      "\n",
      "\n",
      "원문 : Jet Airways on Wednesday denied it was directed by GE Capital Aviation Services to ground its aircraft due to non-payment of dues. The airline said it's in the process of delivering three aircraft to lessors due to the expiry of lease terms. Further, three aircraft have been temporarily grounded to carry out an engine normalisation exercise, it added. \n",
      "\n",
      "예측 요약 : Further, three aircraft have been temporarily grounded to carry out an engine normalisation exercise, it added.\n",
      "\n",
      "\n",
      "원문 : Retired Justice Srikrishna's enquiry panel has found that ex-CEO Chanda Kochhar violated ICICI Bank's code of conduct. The bank said it'll treat Kochhar's exit as termination and will take back all bonuses paid to her from April 2009 until March 2018. The CBI recently filed a case against Kochhar, her husband, and Videocon MD in the ICICI-Videocon loan case. \n",
      "\n",
      "예측 요약 : Retired Justice Srikrishna's enquiry panel has found that ex-CEO Chanda Kochhar violated ICICI Bank's code of conduct.\n",
      "\n",
      "\n",
      "원문 : Ex-India cricketer Jacob Martin has been shifted to general ward from the ICU after being on a ventilator for nearly a month following a road accident, wherein he severely injured his lungs. Martin's wife Khyati mentioned there are chances that Jacob will be in hospital for two more months. BCCI, CSK and various cricketers provided financial assistance for Martin's treatment. \n",
      "\n",
      "예측 요약 : Ex-India cricketer Jacob Martin has been shifted to general ward from the ICU after being on a ventilator for nearly a month following a road accident, wherein he severely injured his lungs.\n",
      "\n",
      "\n",
      "원문 : Sri Lanka all-rounder Thisara Perera has written to Sri Lanka Cricket CEO Ashley de Silva, asking the board to intervene after ODI captain Lasith Malinga's wife Tanya targeted him on Facebook. Tanya accused Perera of meeting country's Sports Minister to secure his place in the team. \"We've become laughing stock of whole country...because of one person's personal vendetta,\" Perera wrote. \n",
      "\n",
      "예측 요약 : Tanya accused Perera of meeting country's Sports Minister to secure his place in the team.\n",
      "\n",
      "\n",
      "원문 : Goa CM and ex-Defence Minister Manohar Parrikar has written a letter to Congress President Rahul Gandhi over his claim that Parrikar told him he has nothing to do with new Rafale deal. Parrikar wrote, \"Kindly do not use your visit to an ailing person to feed political opportunism.\" In their five-minute meeting, they didn't discuss anything about Rafale, he added. \n",
      "\n",
      "예측 요약 : \n",
      "\n",
      "\n",
      "원문 : Prime Minister Narendra Modi stopped his speech at the inauguration of the new terminal building at Surat airport after observing that a cameraman had fainted. PM Modi then asked his officers to urgently arrange for an ambulance for the cameraman. \"It's good that PM was paying attention to his surroundings during his speech,\" the cameraman later said from a hospital.  \n",
      "\n",
      "예측 요약 : PM Modi then asked his officers to urgently arrange for an ambulance for the cameraman.\n",
      "\n",
      "\n",
      "원문 : A couple got divorced minutes after their wedding ceremony got over in Gujarat's Gondal as a disagreement broke out and relatives from both sides started throwing dishes at each other during lunch. The advocates representing both sides arrived at the marriage hall and got the couple divorced within minutes. The couple even reportedly returned the gifts exchanged during the ceremony. \n",
      "\n",
      "예측 요약 : A couple got divorced minutes after their wedding ceremony got over in Gujarat's Gondal as a disagreement broke out and relatives from both sides started throwing dishes at each other during lunch.\n",
      "\n",
      "\n",
      "원문 : Gujarat Education Minister Bhupendrasinh Chudasma has written a congratulatory message to a yoga ashram run by rape-convict Asaram's organisation for observing February 14 as \"Matru-Pitru Pujan Divas\" (Mother-Father worship day). After the Congress termed the letter as \"unfortunate\", saying it \"shows the nexus between BJP and godman\", Chudasma clarified, \"All I have done is sent best wishes.\"  \n",
      "\n",
      "예측 요약 : \n",
      "\n",
      "\n"
     ]
    },
    {
     "name": "stdout",
     "output_type": "stream",
     "text": [
      "원문 : Venezuelan President NicolÃÂ¡s Maduro has claimed that his American counterpart Donald Trump ordered the Colombian government and the Colombian mafia to kill him. \"If something happens to me, Trump and Colombian President IvÃÂ¡n MÃÂ¡rquez will bear responsibility,\" he added. The US has blamed Maduro for the economic crisis in Venezuela and recognised opposition leader Juan GuaidÃÂ³ as interim President. \n",
      "\n",
      "예측 요약 : Venezuelan President NicolÃÂ¡s Maduro has claimed that his American counterpart Donald Trump ordered the Colombian government and the Colombian mafia to kill him.\n",
      "\n",
      "\n",
      "원문 : Eight Asian billionaires aged 90 or above on the Bloomberg Billionaires Index of world's 500 richest people have a combined net worth of $125 billion. The richest among them is Hong Kong's Li Ka Shing with a net worth of $30.5 billion. India's 90-year-old Pallonji Mistry, who controls 18.3% of Tata Sons through Shapoorji Pallonji Group, is worth $20.1 billion. \n",
      "\n",
      "예측 요약 : The richest among them is Hong Kong's Li Ka Shing with a net worth of $30.5 billion.\n",
      "\n",
      "\n",
      "원문 : Tamil Nadu food safety officials on Wednesday raided and seized 1,000 kgs of banned plastic items from Hotel Saravana Bhavan in Chennai's Vadapalani. Officials began a surprise check in the branch at 8 am. The state government had banned single-use plastics from January 1 and said the banned items should be handed over at the offices of the city corporation. \n",
      "\n",
      "예측 요약 : Tamil Nadu food safety officials on Wednesday raided and seized 1,000 kgs of banned plastic items from Hotel Saravana Bhavan in Chennai's Vadapalani.\n",
      "\n",
      "\n",
      "원문 : Actress Shamita Shetty was verbally abused and her driver was slapped in an incident of road rage in Mumbai on Tuesday, as per reports. The incident reportedly took place after a motorist who was accompanied by two friends, rammed his vehicle into Shamita's car. The men allegedly manhandled and threatened Shamita's driver when he stepped out to inspect the damage.  \n",
      "\n",
      "예측 요약 : Actress Shamita Shetty was verbally abused and her driver was slapped in an incident of road rage in Mumbai on Tuesday, as per reports.\n",
      "\n",
      "\n",
      "원문 : Actress Vaani Kapoor said that trolling has become a norm on social media, adding, \"There's no one who hasn't got trolled on social media.\" \"Everybody is out there to pull the other person down but it'll only bother [you] if you let it bother you,\" Vaani added. She further said, social media offers a platform \"where people enjoy belittling everybody\".  \n",
      "\n",
      "예측 요약 : \n",
      "\n",
      "\n",
      "원문 : Actress Sushmita Sen took to Instagram to share a joke on the subject of marriage. \"Whoever invented marriage was creepy as hell. Like I love you so much IÃ¢ÂÂm gonna get the government involved so you canÃ¢ÂÂt leave,\" Sushmita's post read. \"This is an insult to [the] beauty of marriage,\" an Instagram user commented on her post. \n",
      "\n",
      "예측 요약 : \"This is an insult to [the] beauty of marriage,\" an Instagram user commented on her post.\n",
      "\n",
      "\n",
      "원문 : Television actor Karanvir Bohra, who flew to Russia on Tuesday to attend a film festival, has been detained in Moscow due to passport damage. \"They [are] contemplating to deport me back to India,\" the actor wrote on Twitter. The Indian embassy in Russia's capital responded to his tweet and said that they were looking into the issue.  \n",
      "\n",
      "예측 요약 : Television actor Karanvir Bohra, who flew to Russia on Tuesday to attend a film festival, has been detained in Moscow due to passport damage.\n",
      "\n",
      "\n",
      "원문 : While speaking about winning awards for his films, Shah Rukh Khan said, \"If I don't get an award, that award is at a loss.\" \"Sometimes, the prestige of an award increases when I receive it,\" the actor jokingly added. Shah Rukh further said that he was \"extremely ambitious\" but in a \"fair manner\".  \n",
      "\n",
      "예측 요약 : \n",
      "\n",
      "\n",
      "원문 : Actress Patralekhaa will make her debut in the Kannada film industry with the action-comedy film 'Where is my Kannadaka?' \"I can definitely say that itÃ¢ÂÂs a kind of role that I havenÃ¢ÂÂt portrayed on screen so far and that makes it special for me,\" the actress said in a statement. Shooting for the film will reportedly begin in April. \n",
      "\n",
      "예측 요약 : \n",
      "\n",
      "\n",
      "원문 : Gmail on Tuesday faced a global outage, which also affected India, wherein certain users complained they faced a '404 error' message while trying to sign-in to their accounts. The error message read: \"The requested URL was not found on this server. That's all we know.\" Google responded saying \"problem with Gmail should be resolved (now). We apologise for the inconvenience\". \n",
      "\n",
      "예측 요약 : Gmail on Tuesday faced a global outage, which also affected India, wherein certain users complained they faced a '404 error' message while trying to sign-in to their accounts.\n",
      "\n",
      "\n",
      "원문 : Shiv Sena chief Uddhav Thackeray has asked the BJP to decide about the alliance with the Sena within 15 days and said the BJP should make a concrete proposal on the alliance. Thackeray added that only if the BJP agrees to Sena's terms and conditions, the party will agree for an alliance. Sena is free to fight independently, he said.  \n",
      "\n",
      "예측 요약 : Shiv Sena chief Uddhav Thackeray has asked the BJP to decide about the alliance with the Sena within 15 days and said the BJP should make a concrete proposal on the alliance.\n",
      "\n",
      "\n",
      "원문 : BJP President Amit Shah on Wednesday took a dig at the Opposition's proposed grand alliance saying if the \"mahagathbandhan comes to power, each opposition leader will be a Prime Minister every day of the week\". He added, \"[The] country will go on...holiday on Sunday\". He said the Opposition is thinking about leading the country but does not have a leader. \n",
      "\n",
      "예측 요약 : He said the Opposition is thinking about leading the country but does not have a leader.\n",
      "\n",
      "\n",
      "원문 : Prime Minister Narendra Modi on Wednesday said his government's demonetisation decision made houses affordable for the aspiring youth. He added decisions like demonetisation and RERA have put a check on black money that used to be \"parked in the real estate sector\". He said 'UDAN' (Ude Desh ka Aam Nagrik) scheme has boosted the development of the country's aviation sector. \n",
      "\n",
      "예측 요약 : He added decisions like demonetisation and RERA have put a check on black money that used to be \"parked in the real estate sector\".\n",
      "\n",
      "\n"
     ]
    }
   ],
   "source": [
    "Extractive()"
   ]
  },
  {
   "cell_type": "markdown",
   "id": "6e0eb041",
   "metadata": {},
   "source": [
    "## 회고"
   ]
  },
  {
   "cell_type": "markdown",
   "id": "1868d5ae",
   "metadata": {},
   "source": [
    "#### 추상적 요약 문제점\n",
    "- 실제 요약과 내가 예측한 요약을 비교했을 때 비슷한 것도 있었지만 다른 내용을 가진 것도 있었다. \n",
    "- 단어하나를 아예 줄인 경우도 있었다 (ex: pakistan을 pak으로) 이런 경우라면 요약을 한 것을 읽었을 때 의미 해석이 어려울 것 같다\n",
    "- 모델을 학습하는데에 너무 많은 시간이 걸렸다. EarlyStopping을 썻지만 언제 멈출줄 모르는 기다림이 있었다."
   ]
  },
  {
   "cell_type": "markdown",
   "id": "16a75d91",
   "metadata": {},
   "source": [
    "#### 추출적 요약 문제점\n",
    "- 추상적 요약에 비해 핵심단어나 문장 내용이 많이 담겨있지만, 문장길이가 길어 가독성이 힘든 것 같다.\n",
    "- ratio의 값이 0.4 밑으로는 출력이 안되는 이유를 찾지 못했다.\n",
    "- 특수문자나 가로 같은 경우도 같이 포함되어 요약의 정체성이 부족하다."
   ]
  }
 ],
 "metadata": {
  "kernelspec": {
   "display_name": "Python 3 (ipykernel)",
   "language": "python",
   "name": "python3"
  },
  "language_info": {
   "codemirror_mode": {
    "name": "ipython",
    "version": 3
   },
   "file_extension": ".py",
   "mimetype": "text/x-python",
   "name": "python",
   "nbconvert_exporter": "python",
   "pygments_lexer": "ipython3",
   "version": "3.9.7"
  }
 },
 "nbformat": 4,
 "nbformat_minor": 5
}
