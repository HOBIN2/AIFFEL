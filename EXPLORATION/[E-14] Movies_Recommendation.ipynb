{
 "cells": [
  {
   "cell_type": "markdown",
   "id": "ec528d45",
   "metadata": {},
   "source": [
    "# [E - 14] Movielens 영화 추천 실습"
   ]
  },
  {
   "cell_type": "markdown",
   "id": "c9330257",
   "metadata": {},
   "source": [
    "이번에 활용할 데이터셋은 추천 시스템의 MNIST라고 부를만한 Movielens 데이터입니다.\n",
    "- 유저가 영화에 대해 평점을 매긴 데이터가 데이터 크기 별로 있습니다. MovieLens 1M Dataset 사용을 권장합니다.\n",
    "- 별점 데이터는 대표적인 explicit 데이터입니다. 하지만 implicit 데이터로 간주하고 테스트해 볼 수 있습니다\n",
    "- 별점을 시청횟수로 해석해서 생각하겠습니다.\n",
    "- 또한 유저가 3점 미만으로 준 데이터는 선호하지 않는다고 가정하고 제외하겠습니다."
   ]
  },
  {
   "cell_type": "raw",
   "id": "08aa98a8",
   "metadata": {},
   "source": [
    "Cloud shell 명령어\n",
    "$ mkdir -p ~/aiffel/recommendata_iu/data/ml-1m  \n",
    "$ ln -s ~/data/ml-1m/* ~/aiffel/recommendata_iu/data/ml-1m"
   ]
  },
  {
   "cell_type": "markdown",
   "id": "992be5de",
   "metadata": {},
   "source": [
    "## 1) 라이브러리와 데이터 준비"
   ]
  },
  {
   "cell_type": "code",
   "execution_count": 1,
   "id": "f3438a2a",
   "metadata": {},
   "outputs": [
    {
     "data": {
      "text/html": [
       "<div>\n",
       "<style scoped>\n",
       "    .dataframe tbody tr th:only-of-type {\n",
       "        vertical-align: middle;\n",
       "    }\n",
       "\n",
       "    .dataframe tbody tr th {\n",
       "        vertical-align: top;\n",
       "    }\n",
       "\n",
       "    .dataframe thead th {\n",
       "        text-align: right;\n",
       "    }\n",
       "</style>\n",
       "<table border=\"1\" class=\"dataframe\">\n",
       "  <thead>\n",
       "    <tr style=\"text-align: right;\">\n",
       "      <th></th>\n",
       "      <th>user_id</th>\n",
       "      <th>movie_id</th>\n",
       "      <th>ratings</th>\n",
       "      <th>timestamp</th>\n",
       "    </tr>\n",
       "  </thead>\n",
       "  <tbody>\n",
       "    <tr>\n",
       "      <th>0</th>\n",
       "      <td>1</td>\n",
       "      <td>1193</td>\n",
       "      <td>5</td>\n",
       "      <td>978300760</td>\n",
       "    </tr>\n",
       "    <tr>\n",
       "      <th>1</th>\n",
       "      <td>1</td>\n",
       "      <td>661</td>\n",
       "      <td>3</td>\n",
       "      <td>978302109</td>\n",
       "    </tr>\n",
       "    <tr>\n",
       "      <th>2</th>\n",
       "      <td>1</td>\n",
       "      <td>914</td>\n",
       "      <td>3</td>\n",
       "      <td>978301968</td>\n",
       "    </tr>\n",
       "    <tr>\n",
       "      <th>3</th>\n",
       "      <td>1</td>\n",
       "      <td>3408</td>\n",
       "      <td>4</td>\n",
       "      <td>978300275</td>\n",
       "    </tr>\n",
       "    <tr>\n",
       "      <th>4</th>\n",
       "      <td>1</td>\n",
       "      <td>2355</td>\n",
       "      <td>5</td>\n",
       "      <td>978824291</td>\n",
       "    </tr>\n",
       "  </tbody>\n",
       "</table>\n",
       "</div>"
      ],
      "text/plain": [
       "   user_id  movie_id  ratings  timestamp\n",
       "0        1      1193        5  978300760\n",
       "1        1       661        3  978302109\n",
       "2        1       914        3  978301968\n",
       "3        1      3408        4  978300275\n",
       "4        1      2355        5  978824291"
      ]
     },
     "execution_count": 1,
     "metadata": {},
     "output_type": "execute_result"
    }
   ],
   "source": [
    "import pandas as pd\n",
    "import os\n",
    "rating_file_path=os.getenv('HOME') + '/aiffel/recommendata_iu/data/ml-1m/ratings.dat'\n",
    "ratings_cols = ['user_id', 'movie_id', 'ratings', 'timestamp']\n",
    "ratings = pd.read_csv(rating_file_path, sep='::', names=ratings_cols, engine='python', encoding = \"ISO-8859-1\")\n",
    "orginal_data_size = len(ratings)\n",
    "ratings.head()"
   ]
  },
  {
   "cell_type": "markdown",
   "id": "5f7169f1",
   "metadata": {},
   "source": [
    "## 2) 데이터 전처리"
   ]
  },
  {
   "cell_type": "markdown",
   "id": "e318c9f2",
   "metadata": {},
   "source": [
    "유저가 3점 미만으로 준 데이터는 선호하지 않는다고 가정하므로 3점 이상만 남긴다."
   ]
  },
  {
   "cell_type": "code",
   "execution_count": 2,
   "id": "22c47d6c",
   "metadata": {},
   "outputs": [
    {
     "name": "stdout",
     "output_type": "stream",
     "text": [
      "orginal_data_size: 1000209, filtered_data_size: 836478\n",
      "Ratio of Remaining Data is 83.63%\n"
     ]
    }
   ],
   "source": [
    "# 3점 이상만 남깁니다.\n",
    "ratings = ratings[ratings['ratings']>=3]\n",
    "filtered_data_size = len(ratings)\n",
    "\n",
    "print(f'orginal_data_size: {orginal_data_size}, filtered_data_size: {filtered_data_size}')\n",
    "print(f'Ratio of Remaining Data is {filtered_data_size / orginal_data_size:.2%}')"
   ]
  },
  {
   "cell_type": "markdown",
   "id": "31798c83",
   "metadata": {},
   "source": [
    "ratings 즉 별점을 시청횟수로 생각하기 때문에 counts로 변환"
   ]
  },
  {
   "cell_type": "code",
   "execution_count": 3,
   "id": "77f99113",
   "metadata": {},
   "outputs": [],
   "source": [
    "# ratings 컬럼의 이름을 counts로 바꿉니다.\n",
    "ratings.rename(columns={'ratings':'counts'}, inplace=True)"
   ]
  },
  {
   "cell_type": "code",
   "execution_count": 4,
   "id": "c71fe5ee",
   "metadata": {},
   "outputs": [
    {
     "data": {
      "text/plain": [
       "0          5\n",
       "1          3\n",
       "2          3\n",
       "3          4\n",
       "4          5\n",
       "          ..\n",
       "1000203    3\n",
       "1000205    5\n",
       "1000206    5\n",
       "1000207    4\n",
       "1000208    4\n",
       "Name: counts, Length: 836478, dtype: int64"
      ]
     },
     "execution_count": 4,
     "metadata": {},
     "output_type": "execute_result"
    }
   ],
   "source": [
    "ratings['counts']"
   ]
  },
  {
   "cell_type": "code",
   "execution_count": 5,
   "id": "3f06fb5e",
   "metadata": {
    "scrolled": false
   },
   "outputs": [
    {
     "data": {
      "text/html": [
       "<div>\n",
       "<style scoped>\n",
       "    .dataframe tbody tr th:only-of-type {\n",
       "        vertical-align: middle;\n",
       "    }\n",
       "\n",
       "    .dataframe tbody tr th {\n",
       "        vertical-align: top;\n",
       "    }\n",
       "\n",
       "    .dataframe thead th {\n",
       "        text-align: right;\n",
       "    }\n",
       "</style>\n",
       "<table border=\"1\" class=\"dataframe\">\n",
       "  <thead>\n",
       "    <tr style=\"text-align: right;\">\n",
       "      <th></th>\n",
       "      <th>movie_id</th>\n",
       "      <th>title</th>\n",
       "      <th>genre</th>\n",
       "    </tr>\n",
       "  </thead>\n",
       "  <tbody>\n",
       "    <tr>\n",
       "      <th>0</th>\n",
       "      <td>1</td>\n",
       "      <td>Toy Story (1995)</td>\n",
       "      <td>Animation|Children's|Comedy</td>\n",
       "    </tr>\n",
       "    <tr>\n",
       "      <th>1</th>\n",
       "      <td>2</td>\n",
       "      <td>Jumanji (1995)</td>\n",
       "      <td>Adventure|Children's|Fantasy</td>\n",
       "    </tr>\n",
       "    <tr>\n",
       "      <th>2</th>\n",
       "      <td>3</td>\n",
       "      <td>Grumpier Old Men (1995)</td>\n",
       "      <td>Comedy|Romance</td>\n",
       "    </tr>\n",
       "    <tr>\n",
       "      <th>3</th>\n",
       "      <td>4</td>\n",
       "      <td>Waiting to Exhale (1995)</td>\n",
       "      <td>Comedy|Drama</td>\n",
       "    </tr>\n",
       "    <tr>\n",
       "      <th>4</th>\n",
       "      <td>5</td>\n",
       "      <td>Father of the Bride Part II (1995)</td>\n",
       "      <td>Comedy</td>\n",
       "    </tr>\n",
       "  </tbody>\n",
       "</table>\n",
       "</div>"
      ],
      "text/plain": [
       "   movie_id                               title                         genre\n",
       "0         1                    Toy Story (1995)   Animation|Children's|Comedy\n",
       "1         2                      Jumanji (1995)  Adventure|Children's|Fantasy\n",
       "2         3             Grumpier Old Men (1995)                Comedy|Romance\n",
       "3         4            Waiting to Exhale (1995)                  Comedy|Drama\n",
       "4         5  Father of the Bride Part II (1995)                        Comedy"
      ]
     },
     "execution_count": 5,
     "metadata": {},
     "output_type": "execute_result"
    }
   ],
   "source": [
    "# 영화 제목을 보기 위해 메타 데이터를 읽어옵니다.\n",
    "movie_file_path=os.getenv('HOME') + '/aiffel/recommendata_iu/data/ml-1m/movies.dat'\n",
    "cols = ['movie_id', 'title', 'genre'] \n",
    "movies = pd.read_csv(movie_file_path, sep='::', names=cols, engine='python', encoding='ISO-8859-1')\n",
    "movies.head()"
   ]
  },
  {
   "cell_type": "markdown",
   "id": "88196d2d",
   "metadata": {},
   "source": [
    "### ratings 데이터프레임과 movies 데이터프레임 합치기"
   ]
  },
  {
   "cell_type": "code",
   "execution_count": 6,
   "id": "2e986ade",
   "metadata": {
    "scrolled": true
   },
   "outputs": [
    {
     "data": {
      "text/html": [
       "<div>\n",
       "<style scoped>\n",
       "    .dataframe tbody tr th:only-of-type {\n",
       "        vertical-align: middle;\n",
       "    }\n",
       "\n",
       "    .dataframe tbody tr th {\n",
       "        vertical-align: top;\n",
       "    }\n",
       "\n",
       "    .dataframe thead th {\n",
       "        text-align: right;\n",
       "    }\n",
       "</style>\n",
       "<table border=\"1\" class=\"dataframe\">\n",
       "  <thead>\n",
       "    <tr style=\"text-align: right;\">\n",
       "      <th></th>\n",
       "      <th>user_id</th>\n",
       "      <th>movie_id</th>\n",
       "      <th>counts</th>\n",
       "      <th>timestamp</th>\n",
       "      <th>title</th>\n",
       "      <th>genre</th>\n",
       "    </tr>\n",
       "  </thead>\n",
       "  <tbody>\n",
       "    <tr>\n",
       "      <th>0</th>\n",
       "      <td>1</td>\n",
       "      <td>1193</td>\n",
       "      <td>5</td>\n",
       "      <td>978300760</td>\n",
       "      <td>One Flew Over the Cuckoo's Nest (1975)</td>\n",
       "      <td>Drama</td>\n",
       "    </tr>\n",
       "    <tr>\n",
       "      <th>1</th>\n",
       "      <td>1</td>\n",
       "      <td>661</td>\n",
       "      <td>3</td>\n",
       "      <td>978302109</td>\n",
       "      <td>James and the Giant Peach (1996)</td>\n",
       "      <td>Animation|Children's|Musical</td>\n",
       "    </tr>\n",
       "    <tr>\n",
       "      <th>2</th>\n",
       "      <td>1</td>\n",
       "      <td>914</td>\n",
       "      <td>3</td>\n",
       "      <td>978301968</td>\n",
       "      <td>My Fair Lady (1964)</td>\n",
       "      <td>Musical|Romance</td>\n",
       "    </tr>\n",
       "    <tr>\n",
       "      <th>3</th>\n",
       "      <td>1</td>\n",
       "      <td>3408</td>\n",
       "      <td>4</td>\n",
       "      <td>978300275</td>\n",
       "      <td>Erin Brockovich (2000)</td>\n",
       "      <td>Drama</td>\n",
       "    </tr>\n",
       "    <tr>\n",
       "      <th>4</th>\n",
       "      <td>1</td>\n",
       "      <td>2355</td>\n",
       "      <td>5</td>\n",
       "      <td>978824291</td>\n",
       "      <td>Bug's Life, A (1998)</td>\n",
       "      <td>Animation|Children's|Comedy</td>\n",
       "    </tr>\n",
       "  </tbody>\n",
       "</table>\n",
       "</div>"
      ],
      "text/plain": [
       "   user_id  movie_id  counts  timestamp  \\\n",
       "0        1      1193       5  978300760   \n",
       "1        1       661       3  978302109   \n",
       "2        1       914       3  978301968   \n",
       "3        1      3408       4  978300275   \n",
       "4        1      2355       5  978824291   \n",
       "\n",
       "                                    title                         genre  \n",
       "0  One Flew Over the Cuckoo's Nest (1975)                         Drama  \n",
       "1        James and the Giant Peach (1996)  Animation|Children's|Musical  \n",
       "2                     My Fair Lady (1964)               Musical|Romance  \n",
       "3                  Erin Brockovich (2000)                         Drama  \n",
       "4                    Bug's Life, A (1998)   Animation|Children's|Comedy  "
      ]
     },
     "execution_count": 6,
     "metadata": {},
     "output_type": "execute_result"
    }
   ],
   "source": [
    "ratings = ratings.join(movies.set_index('movie_id'), on='movie_id')\n",
    "ratings.head()"
   ]
  },
  {
   "cell_type": "markdown",
   "id": "18245bdd",
   "metadata": {},
   "source": [
    "### 필요없는 열 timestamp와 genre 삭제"
   ]
  },
  {
   "cell_type": "code",
   "execution_count": 7,
   "id": "c7ecb464",
   "metadata": {},
   "outputs": [
    {
     "data": {
      "text/html": [
       "<div>\n",
       "<style scoped>\n",
       "    .dataframe tbody tr th:only-of-type {\n",
       "        vertical-align: middle;\n",
       "    }\n",
       "\n",
       "    .dataframe tbody tr th {\n",
       "        vertical-align: top;\n",
       "    }\n",
       "\n",
       "    .dataframe thead th {\n",
       "        text-align: right;\n",
       "    }\n",
       "</style>\n",
       "<table border=\"1\" class=\"dataframe\">\n",
       "  <thead>\n",
       "    <tr style=\"text-align: right;\">\n",
       "      <th></th>\n",
       "      <th>user_id</th>\n",
       "      <th>movie_id</th>\n",
       "      <th>counts</th>\n",
       "      <th>title</th>\n",
       "    </tr>\n",
       "  </thead>\n",
       "  <tbody>\n",
       "    <tr>\n",
       "      <th>0</th>\n",
       "      <td>1</td>\n",
       "      <td>1193</td>\n",
       "      <td>5</td>\n",
       "      <td>One Flew Over the Cuckoo's Nest (1975)</td>\n",
       "    </tr>\n",
       "    <tr>\n",
       "      <th>1</th>\n",
       "      <td>1</td>\n",
       "      <td>661</td>\n",
       "      <td>3</td>\n",
       "      <td>James and the Giant Peach (1996)</td>\n",
       "    </tr>\n",
       "    <tr>\n",
       "      <th>2</th>\n",
       "      <td>1</td>\n",
       "      <td>914</td>\n",
       "      <td>3</td>\n",
       "      <td>My Fair Lady (1964)</td>\n",
       "    </tr>\n",
       "    <tr>\n",
       "      <th>3</th>\n",
       "      <td>1</td>\n",
       "      <td>3408</td>\n",
       "      <td>4</td>\n",
       "      <td>Erin Brockovich (2000)</td>\n",
       "    </tr>\n",
       "    <tr>\n",
       "      <th>4</th>\n",
       "      <td>1</td>\n",
       "      <td>2355</td>\n",
       "      <td>5</td>\n",
       "      <td>Bug's Life, A (1998)</td>\n",
       "    </tr>\n",
       "    <tr>\n",
       "      <th>...</th>\n",
       "      <td>...</td>\n",
       "      <td>...</td>\n",
       "      <td>...</td>\n",
       "      <td>...</td>\n",
       "    </tr>\n",
       "    <tr>\n",
       "      <th>1000203</th>\n",
       "      <td>6040</td>\n",
       "      <td>1090</td>\n",
       "      <td>3</td>\n",
       "      <td>Platoon (1986)</td>\n",
       "    </tr>\n",
       "    <tr>\n",
       "      <th>1000205</th>\n",
       "      <td>6040</td>\n",
       "      <td>1094</td>\n",
       "      <td>5</td>\n",
       "      <td>Crying Game, The (1992)</td>\n",
       "    </tr>\n",
       "    <tr>\n",
       "      <th>1000206</th>\n",
       "      <td>6040</td>\n",
       "      <td>562</td>\n",
       "      <td>5</td>\n",
       "      <td>Welcome to the Dollhouse (1995)</td>\n",
       "    </tr>\n",
       "    <tr>\n",
       "      <th>1000207</th>\n",
       "      <td>6040</td>\n",
       "      <td>1096</td>\n",
       "      <td>4</td>\n",
       "      <td>Sophie's Choice (1982)</td>\n",
       "    </tr>\n",
       "    <tr>\n",
       "      <th>1000208</th>\n",
       "      <td>6040</td>\n",
       "      <td>1097</td>\n",
       "      <td>4</td>\n",
       "      <td>E.T. the Extra-Terrestrial (1982)</td>\n",
       "    </tr>\n",
       "  </tbody>\n",
       "</table>\n",
       "<p>836478 rows × 4 columns</p>\n",
       "</div>"
      ],
      "text/plain": [
       "         user_id  movie_id  counts                                   title\n",
       "0              1      1193       5  One Flew Over the Cuckoo's Nest (1975)\n",
       "1              1       661       3        James and the Giant Peach (1996)\n",
       "2              1       914       3                     My Fair Lady (1964)\n",
       "3              1      3408       4                  Erin Brockovich (2000)\n",
       "4              1      2355       5                    Bug's Life, A (1998)\n",
       "...          ...       ...     ...                                     ...\n",
       "1000203     6040      1090       3                          Platoon (1986)\n",
       "1000205     6040      1094       5                 Crying Game, The (1992)\n",
       "1000206     6040       562       5         Welcome to the Dollhouse (1995)\n",
       "1000207     6040      1096       4                  Sophie's Choice (1982)\n",
       "1000208     6040      1097       4       E.T. the Extra-Terrestrial (1982)\n",
       "\n",
       "[836478 rows x 4 columns]"
      ]
     },
     "execution_count": 7,
     "metadata": {},
     "output_type": "execute_result"
    }
   ],
   "source": [
    "ratings.drop(['timestamp','genre'], axis = 1 , inplace= True )\n",
    "ratings"
   ]
  },
  {
   "cell_type": "markdown",
   "id": "79b17f1d",
   "metadata": {},
   "source": [
    "## 3) 데이터 탐색"
   ]
  },
  {
   "cell_type": "markdown",
   "id": "f3834703",
   "metadata": {},
   "source": [
    "- ratings에 있는 유니크한 영화 개수\n",
    "- ratings에 있는 유니크한 사용자 수\n",
    "- 가장 인기 있는 영화 30개(인기순)"
   ]
  },
  {
   "cell_type": "code",
   "execution_count": 8,
   "id": "a6dde272",
   "metadata": {},
   "outputs": [
    {
     "name": "stdout",
     "output_type": "stream",
     "text": [
      "영화 개수:  3628\n",
      "사용자 수:  6039\n"
     ]
    }
   ],
   "source": [
    "print('영화 개수: ', ratings['movie_id'].nunique())\n",
    "print('사용자 수: ', ratings['user_id'].nunique())"
   ]
  },
  {
   "cell_type": "code",
   "execution_count": 9,
   "id": "70253caf",
   "metadata": {},
   "outputs": [
    {
     "data": {
      "text/plain": [
       "title\n",
       "American Beauty (1999)                                   3211\n",
       "Star Wars: Episode IV - A New Hope (1977)                2910\n",
       "Star Wars: Episode V - The Empire Strikes Back (1980)    2885\n",
       "Star Wars: Episode VI - Return of the Jedi (1983)        2716\n",
       "Saving Private Ryan (1998)                               2561\n",
       "Terminator 2: Judgment Day (1991)                        2509\n",
       "Silence of the Lambs, The (1991)                         2498\n",
       "Raiders of the Lost Ark (1981)                           2473\n",
       "Back to the Future (1985)                                2460\n",
       "Matrix, The (1999)                                       2434\n",
       "Jurassic Park (1993)                                     2413\n",
       "Sixth Sense, The (1999)                                  2385\n",
       "Fargo (1996)                                             2371\n",
       "Braveheart (1995)                                        2314\n",
       "Men in Black (1997)                                      2297\n",
       "Schindler's List (1993)                                  2257\n",
       "Princess Bride, The (1987)                               2252\n",
       "Shakespeare in Love (1998)                               2213\n",
       "L.A. Confidential (1997)                                 2210\n",
       "Shawshank Redemption, The (1994)                         2194\n",
       "Godfather, The (1972)                                    2167\n",
       "Groundhog Day (1993)                                     2121\n",
       "E.T. the Extra-Terrestrial (1982)                        2102\n",
       "Being John Malkovich (1999)                              2066\n",
       "Ghostbusters (1984)                                      2051\n",
       "Pulp Fiction (1994)                                      2030\n",
       "Forrest Gump (1994)                                      2022\n",
       "Terminator, The (1984)                                   2019\n",
       "Toy Story (1995)                                         2000\n",
       "Fugitive, The (1993)                                     1941\n",
       "Name: user_id, dtype: int64"
      ]
     },
     "execution_count": 9,
     "metadata": {},
     "output_type": "execute_result"
    }
   ],
   "source": [
    "# 가장 인기 있는 영화 30개(인기순)\n",
    "movie_title_count = ratings.groupby('title')['user_id'].count()\n",
    "movie_title_count.sort_values(ascending=False).head(30)"
   ]
  },
  {
   "cell_type": "markdown",
   "id": "1cc6c260",
   "metadata": {},
   "source": [
    "### 검색하기 쉽게 영화 제목들을 소문자로 변경"
   ]
  },
  {
   "cell_type": "code",
   "execution_count": 10,
   "id": "f86c047b",
   "metadata": {},
   "outputs": [
    {
     "data": {
      "text/html": [
       "<div>\n",
       "<style scoped>\n",
       "    .dataframe tbody tr th:only-of-type {\n",
       "        vertical-align: middle;\n",
       "    }\n",
       "\n",
       "    .dataframe tbody tr th {\n",
       "        vertical-align: top;\n",
       "    }\n",
       "\n",
       "    .dataframe thead th {\n",
       "        text-align: right;\n",
       "    }\n",
       "</style>\n",
       "<table border=\"1\" class=\"dataframe\">\n",
       "  <thead>\n",
       "    <tr style=\"text-align: right;\">\n",
       "      <th></th>\n",
       "      <th>user_id</th>\n",
       "      <th>movie_id</th>\n",
       "      <th>counts</th>\n",
       "      <th>title</th>\n",
       "    </tr>\n",
       "  </thead>\n",
       "  <tbody>\n",
       "    <tr>\n",
       "      <th>0</th>\n",
       "      <td>1</td>\n",
       "      <td>1193</td>\n",
       "      <td>5</td>\n",
       "      <td>one flew over the cuckoo's nest (1975)</td>\n",
       "    </tr>\n",
       "    <tr>\n",
       "      <th>1</th>\n",
       "      <td>1</td>\n",
       "      <td>661</td>\n",
       "      <td>3</td>\n",
       "      <td>james and the giant peach (1996)</td>\n",
       "    </tr>\n",
       "    <tr>\n",
       "      <th>2</th>\n",
       "      <td>1</td>\n",
       "      <td>914</td>\n",
       "      <td>3</td>\n",
       "      <td>my fair lady (1964)</td>\n",
       "    </tr>\n",
       "    <tr>\n",
       "      <th>3</th>\n",
       "      <td>1</td>\n",
       "      <td>3408</td>\n",
       "      <td>4</td>\n",
       "      <td>erin brockovich (2000)</td>\n",
       "    </tr>\n",
       "    <tr>\n",
       "      <th>4</th>\n",
       "      <td>1</td>\n",
       "      <td>2355</td>\n",
       "      <td>5</td>\n",
       "      <td>bug's life, a (1998)</td>\n",
       "    </tr>\n",
       "  </tbody>\n",
       "</table>\n",
       "</div>"
      ],
      "text/plain": [
       "   user_id  movie_id  counts                                   title\n",
       "0        1      1193       5  one flew over the cuckoo's nest (1975)\n",
       "1        1       661       3        james and the giant peach (1996)\n",
       "2        1       914       3                     my fair lady (1964)\n",
       "3        1      3408       4                  erin brockovich (2000)\n",
       "4        1      2355       5                    bug's life, a (1998)"
      ]
     },
     "execution_count": 10,
     "metadata": {},
     "output_type": "execute_result"
    }
   ],
   "source": [
    "ratings['title'] = ratings['title'].str.lower()\n",
    "ratings.head()"
   ]
  },
  {
   "cell_type": "markdown",
   "id": "c0d20ba7",
   "metadata": {},
   "source": [
    "## 4) 내가 선호하는 영화 5가지 추가"
   ]
  },
  {
   "cell_type": "code",
   "execution_count": 11,
   "id": "2464d7a9",
   "metadata": {
    "scrolled": true
   },
   "outputs": [
    {
     "data": {
      "text/html": [
       "<div>\n",
       "<style scoped>\n",
       "    .dataframe tbody tr th:only-of-type {\n",
       "        vertical-align: middle;\n",
       "    }\n",
       "\n",
       "    .dataframe tbody tr th {\n",
       "        vertical-align: top;\n",
       "    }\n",
       "\n",
       "    .dataframe thead th {\n",
       "        text-align: right;\n",
       "    }\n",
       "</style>\n",
       "<table border=\"1\" class=\"dataframe\">\n",
       "  <thead>\n",
       "    <tr style=\"text-align: right;\">\n",
       "      <th></th>\n",
       "      <th>movie_id</th>\n",
       "      <th>title</th>\n",
       "      <th>genre</th>\n",
       "    </tr>\n",
       "  </thead>\n",
       "  <tbody>\n",
       "    <tr>\n",
       "      <th>360</th>\n",
       "      <td>364</td>\n",
       "      <td>Lion King, The (1994)</td>\n",
       "      <td>Animation|Children's|Musical</td>\n",
       "    </tr>\n",
       "    <tr>\n",
       "      <th>1980</th>\n",
       "      <td>2049</td>\n",
       "      <td>Happiest Millionaire, The (1967)</td>\n",
       "      <td>Comedy|Musical</td>\n",
       "    </tr>\n",
       "  </tbody>\n",
       "</table>\n",
       "</div>"
      ],
      "text/plain": [
       "      movie_id                             title                         genre\n",
       "360        364             Lion King, The (1994)  Animation|Children's|Musical\n",
       "1980      2049  Happiest Millionaire, The (1967)                Comedy|Musical"
      ]
     },
     "execution_count": 11,
     "metadata": {},
     "output_type": "execute_result"
    }
   ],
   "source": [
    "movies[movies['title'].str.lower().str.contains('lion', regex=False)]"
   ]
  },
  {
   "cell_type": "code",
   "execution_count": 12,
   "id": "5494c5da",
   "metadata": {},
   "outputs": [
    {
     "data": {
      "text/html": [
       "<div>\n",
       "<style scoped>\n",
       "    .dataframe tbody tr th:only-of-type {\n",
       "        vertical-align: middle;\n",
       "    }\n",
       "\n",
       "    .dataframe tbody tr th {\n",
       "        vertical-align: top;\n",
       "    }\n",
       "\n",
       "    .dataframe thead th {\n",
       "        text-align: right;\n",
       "    }\n",
       "</style>\n",
       "<table border=\"1\" class=\"dataframe\">\n",
       "  <thead>\n",
       "    <tr style=\"text-align: right;\">\n",
       "      <th></th>\n",
       "      <th>movie_id</th>\n",
       "      <th>title</th>\n",
       "      <th>genre</th>\n",
       "    </tr>\n",
       "  </thead>\n",
       "  <tbody>\n",
       "    <tr>\n",
       "      <th>1672</th>\n",
       "      <td>1721</td>\n",
       "      <td>Titanic (1997)</td>\n",
       "      <td>Drama|Romance</td>\n",
       "    </tr>\n",
       "    <tr>\n",
       "      <th>2088</th>\n",
       "      <td>2157</td>\n",
       "      <td>Chambermaid on the Titanic, The (1998)</td>\n",
       "      <td>Romance</td>\n",
       "    </tr>\n",
       "    <tr>\n",
       "      <th>3334</th>\n",
       "      <td>3403</td>\n",
       "      <td>Raise the Titanic (1980)</td>\n",
       "      <td>Drama|Thriller</td>\n",
       "    </tr>\n",
       "    <tr>\n",
       "      <th>3335</th>\n",
       "      <td>3404</td>\n",
       "      <td>Titanic (1953)</td>\n",
       "      <td>Action|Drama</td>\n",
       "    </tr>\n",
       "  </tbody>\n",
       "</table>\n",
       "</div>"
      ],
      "text/plain": [
       "      movie_id                                   title           genre\n",
       "1672      1721                          Titanic (1997)   Drama|Romance\n",
       "2088      2157  Chambermaid on the Titanic, The (1998)         Romance\n",
       "3334      3403                Raise the Titanic (1980)  Drama|Thriller\n",
       "3335      3404                          Titanic (1953)    Action|Drama"
      ]
     },
     "execution_count": 12,
     "metadata": {},
     "output_type": "execute_result"
    }
   ],
   "source": [
    "movies[movies['title'].str.lower().str.contains('titanic', regex=False)]"
   ]
  },
  {
   "cell_type": "code",
   "execution_count": 13,
   "id": "b0f775b7",
   "metadata": {},
   "outputs": [
    {
     "data": {
      "text/html": [
       "<div>\n",
       "<style scoped>\n",
       "    .dataframe tbody tr th:only-of-type {\n",
       "        vertical-align: middle;\n",
       "    }\n",
       "\n",
       "    .dataframe tbody tr th {\n",
       "        vertical-align: top;\n",
       "    }\n",
       "\n",
       "    .dataframe thead th {\n",
       "        text-align: right;\n",
       "    }\n",
       "</style>\n",
       "<table border=\"1\" class=\"dataframe\">\n",
       "  <thead>\n",
       "    <tr style=\"text-align: right;\">\n",
       "      <th></th>\n",
       "      <th>movie_id</th>\n",
       "      <th>title</th>\n",
       "      <th>genre</th>\n",
       "    </tr>\n",
       "  </thead>\n",
       "  <tbody>\n",
       "    <tr>\n",
       "      <th>2018</th>\n",
       "      <td>2087</td>\n",
       "      <td>Peter Pan (1953)</td>\n",
       "      <td>Animation|Children's|Fantasy|Musical</td>\n",
       "    </tr>\n",
       "    <tr>\n",
       "      <th>2976</th>\n",
       "      <td>3045</td>\n",
       "      <td>Peter's Friends (1992)</td>\n",
       "      <td>Comedy|Drama</td>\n",
       "    </tr>\n",
       "  </tbody>\n",
       "</table>\n",
       "</div>"
      ],
      "text/plain": [
       "      movie_id                   title                                 genre\n",
       "2018      2087        Peter Pan (1953)  Animation|Children's|Fantasy|Musical\n",
       "2976      3045  Peter's Friends (1992)                          Comedy|Drama"
      ]
     },
     "execution_count": 13,
     "metadata": {},
     "output_type": "execute_result"
    }
   ],
   "source": [
    "movies[movies['title'].str.lower().str.contains('peter', regex=False)]"
   ]
  },
  {
   "cell_type": "code",
   "execution_count": 14,
   "id": "90746d6a",
   "metadata": {},
   "outputs": [
    {
     "data": {
      "text/html": [
       "<div>\n",
       "<style scoped>\n",
       "    .dataframe tbody tr th:only-of-type {\n",
       "        vertical-align: middle;\n",
       "    }\n",
       "\n",
       "    .dataframe tbody tr th {\n",
       "        vertical-align: top;\n",
       "    }\n",
       "\n",
       "    .dataframe thead th {\n",
       "        text-align: right;\n",
       "    }\n",
       "</style>\n",
       "<table border=\"1\" class=\"dataframe\">\n",
       "  <thead>\n",
       "    <tr style=\"text-align: right;\">\n",
       "      <th></th>\n",
       "      <th>movie_id</th>\n",
       "      <th>title</th>\n",
       "      <th>genre</th>\n",
       "    </tr>\n",
       "  </thead>\n",
       "  <tbody>\n",
       "    <tr>\n",
       "      <th>585</th>\n",
       "      <td>589</td>\n",
       "      <td>Terminator 2: Judgment Day (1991)</td>\n",
       "      <td>Action|Sci-Fi|Thriller</td>\n",
       "    </tr>\n",
       "    <tr>\n",
       "      <th>1220</th>\n",
       "      <td>1240</td>\n",
       "      <td>Terminator, The (1984)</td>\n",
       "      <td>Action|Sci-Fi|Thriller</td>\n",
       "    </tr>\n",
       "  </tbody>\n",
       "</table>\n",
       "</div>"
      ],
      "text/plain": [
       "      movie_id                              title                   genre\n",
       "585        589  Terminator 2: Judgment Day (1991)  Action|Sci-Fi|Thriller\n",
       "1220      1240             Terminator, The (1984)  Action|Sci-Fi|Thriller"
      ]
     },
     "execution_count": 14,
     "metadata": {},
     "output_type": "execute_result"
    }
   ],
   "source": [
    "movies[movies['title'].str.lower().str.contains('terminator', regex=False)]"
   ]
  },
  {
   "cell_type": "code",
   "execution_count": 15,
   "id": "07bcfcaf",
   "metadata": {},
   "outputs": [
    {
     "data": {
      "text/plain": [
       "['Lion King, The (1994)',\n",
       " 'Titanic (1997)',\n",
       " 'Peter Pan (1953)',\n",
       " 'Terminator 2: Judgment Day (1991)',\n",
       " 'Terminator, The (1984)']"
      ]
     },
     "execution_count": 15,
     "metadata": {},
     "output_type": "execute_result"
    }
   ],
   "source": [
    "my_favorite = ['Lion King, The (1994)','Titanic (1997)','Peter Pan (1953)','Terminator 2: Judgment Day (1991)','Terminator, The (1984)']\n",
    "my_favorite"
   ]
  },
  {
   "cell_type": "code",
   "execution_count": 16,
   "id": "d22248f0",
   "metadata": {
    "scrolled": true
   },
   "outputs": [
    {
     "data": {
      "text/plain": [
       "['lion king, the (1994)',\n",
       " 'titanic (1997)',\n",
       " 'peter pan (1953)',\n",
       " 'terminator 2: judgment day (1991)',\n",
       " 'terminator, the (1984)']"
      ]
     },
     "execution_count": 16,
     "metadata": {},
     "output_type": "execute_result"
    }
   ],
   "source": [
    "for i in range(len(my_favorite)):\n",
    "    my_favorite[i] = my_favorite[i].lower()\n",
    "my_favorite"
   ]
  },
  {
   "cell_type": "code",
   "execution_count": 17,
   "id": "5bb8e2d8",
   "metadata": {},
   "outputs": [],
   "source": [
    "my_favorite_id = [364,1721,2087,589,1240]"
   ]
  },
  {
   "cell_type": "code",
   "execution_count": 18,
   "id": "dc07443a",
   "metadata": {
    "scrolled": true
   },
   "outputs": [
    {
     "data": {
      "text/html": [
       "<div>\n",
       "<style scoped>\n",
       "    .dataframe tbody tr th:only-of-type {\n",
       "        vertical-align: middle;\n",
       "    }\n",
       "\n",
       "    .dataframe tbody tr th {\n",
       "        vertical-align: top;\n",
       "    }\n",
       "\n",
       "    .dataframe thead th {\n",
       "        text-align: right;\n",
       "    }\n",
       "</style>\n",
       "<table border=\"1\" class=\"dataframe\">\n",
       "  <thead>\n",
       "    <tr style=\"text-align: right;\">\n",
       "      <th></th>\n",
       "      <th>user_id</th>\n",
       "      <th>movie_id</th>\n",
       "      <th>counts</th>\n",
       "      <th>title</th>\n",
       "    </tr>\n",
       "  </thead>\n",
       "  <tbody>\n",
       "    <tr>\n",
       "      <th>1000203</th>\n",
       "      <td>6040</td>\n",
       "      <td>1090</td>\n",
       "      <td>3</td>\n",
       "      <td>platoon (1986)</td>\n",
       "    </tr>\n",
       "    <tr>\n",
       "      <th>1000205</th>\n",
       "      <td>6040</td>\n",
       "      <td>1094</td>\n",
       "      <td>5</td>\n",
       "      <td>crying game, the (1992)</td>\n",
       "    </tr>\n",
       "    <tr>\n",
       "      <th>1000206</th>\n",
       "      <td>6040</td>\n",
       "      <td>562</td>\n",
       "      <td>5</td>\n",
       "      <td>welcome to the dollhouse (1995)</td>\n",
       "    </tr>\n",
       "    <tr>\n",
       "      <th>1000207</th>\n",
       "      <td>6040</td>\n",
       "      <td>1096</td>\n",
       "      <td>4</td>\n",
       "      <td>sophie's choice (1982)</td>\n",
       "    </tr>\n",
       "    <tr>\n",
       "      <th>1000208</th>\n",
       "      <td>6040</td>\n",
       "      <td>1097</td>\n",
       "      <td>4</td>\n",
       "      <td>e.t. the extra-terrestrial (1982)</td>\n",
       "    </tr>\n",
       "    <tr>\n",
       "      <th>0</th>\n",
       "      <td>hobin</td>\n",
       "      <td>364</td>\n",
       "      <td>5</td>\n",
       "      <td>lion king, the (1994)</td>\n",
       "    </tr>\n",
       "    <tr>\n",
       "      <th>1</th>\n",
       "      <td>hobin</td>\n",
       "      <td>1721</td>\n",
       "      <td>5</td>\n",
       "      <td>titanic (1997)</td>\n",
       "    </tr>\n",
       "    <tr>\n",
       "      <th>2</th>\n",
       "      <td>hobin</td>\n",
       "      <td>2087</td>\n",
       "      <td>5</td>\n",
       "      <td>peter pan (1953)</td>\n",
       "    </tr>\n",
       "    <tr>\n",
       "      <th>3</th>\n",
       "      <td>hobin</td>\n",
       "      <td>589</td>\n",
       "      <td>5</td>\n",
       "      <td>terminator 2: judgment day (1991)</td>\n",
       "    </tr>\n",
       "    <tr>\n",
       "      <th>4</th>\n",
       "      <td>hobin</td>\n",
       "      <td>1240</td>\n",
       "      <td>5</td>\n",
       "      <td>terminator, the (1984)</td>\n",
       "    </tr>\n",
       "  </tbody>\n",
       "</table>\n",
       "</div>"
      ],
      "text/plain": [
       "        user_id  movie_id  counts                              title\n",
       "1000203    6040      1090       3                     platoon (1986)\n",
       "1000205    6040      1094       5            crying game, the (1992)\n",
       "1000206    6040       562       5    welcome to the dollhouse (1995)\n",
       "1000207    6040      1096       4             sophie's choice (1982)\n",
       "1000208    6040      1097       4  e.t. the extra-terrestrial (1982)\n",
       "0         hobin       364       5              lion king, the (1994)\n",
       "1         hobin      1721       5                     titanic (1997)\n",
       "2         hobin      2087       5                   peter pan (1953)\n",
       "3         hobin       589       5  terminator 2: judgment day (1991)\n",
       "4         hobin      1240       5             terminator, the (1984)"
      ]
     },
     "execution_count": 18,
     "metadata": {},
     "output_type": "execute_result"
    }
   ],
   "source": [
    "my_movie_list = pd.DataFrame({'user_id': ['hobin']*5, 'movie_id': my_favorite_id ,'title': my_favorite, 'counts': [5]*5 })\n",
    "\n",
    "if not ratings.isin({'user_id': ['hobin']})['user_id'].any():\n",
    "    ratings = ratings.append(my_movie_list)\n",
    "    \n",
    "ratings.tail(10)"
   ]
  },
  {
   "cell_type": "markdown",
   "id": "d214bcd0",
   "metadata": {},
   "source": [
    "### 모델에 활용하기 위한 전처리"
   ]
  },
  {
   "cell_type": "markdown",
   "id": "60d3bd8f",
   "metadata": {},
   "source": [
    "#### indexing"
   ]
  },
  {
   "cell_type": "code",
   "execution_count": 19,
   "id": "b399201d",
   "metadata": {},
   "outputs": [],
   "source": [
    "# 고유한 유저, 아티스트를 찾아내는 코드\n",
    "user_unique = ratings['user_id'].unique()\n",
    "title_unique = ratings['title'].unique()\n",
    "\n",
    "# 유저, 아티스트 indexing 하는 코드 idx는 index의 약자입니다.\n",
    "user_to_idx = {v:k for k,v in enumerate(user_unique)}\n",
    "title_to_idx = {v:k for k,v in enumerate(title_unique)}"
   ]
  },
  {
   "cell_type": "code",
   "execution_count": 20,
   "id": "e196fa44",
   "metadata": {},
   "outputs": [
    {
     "name": "stdout",
     "output_type": "stream",
     "text": [
      "6039\n",
      "330\n"
     ]
    }
   ],
   "source": [
    "# 인덱싱이 잘 되었는지 확인해 봅니다. \n",
    "print(user_to_idx['hobin'])    # 6040명의 유저 중 마지막으로 추가된 유저이니 358868이 나와야 합니다. \n",
    "print(title_to_idx['lion king, the (1994)'])"
   ]
  },
  {
   "cell_type": "code",
   "execution_count": 21,
   "id": "c9136b37",
   "metadata": {},
   "outputs": [
    {
     "name": "stdout",
     "output_type": "stream",
     "text": [
      "user_id column indexing OK!!\n",
      "title column indexing OK!!\n"
     ]
    },
    {
     "data": {
      "text/html": [
       "<div>\n",
       "<style scoped>\n",
       "    .dataframe tbody tr th:only-of-type {\n",
       "        vertical-align: middle;\n",
       "    }\n",
       "\n",
       "    .dataframe tbody tr th {\n",
       "        vertical-align: top;\n",
       "    }\n",
       "\n",
       "    .dataframe thead th {\n",
       "        text-align: right;\n",
       "    }\n",
       "</style>\n",
       "<table border=\"1\" class=\"dataframe\">\n",
       "  <thead>\n",
       "    <tr style=\"text-align: right;\">\n",
       "      <th></th>\n",
       "      <th>user_id</th>\n",
       "      <th>movie_id</th>\n",
       "      <th>counts</th>\n",
       "      <th>title</th>\n",
       "    </tr>\n",
       "  </thead>\n",
       "  <tbody>\n",
       "    <tr>\n",
       "      <th>0</th>\n",
       "      <td>0</td>\n",
       "      <td>1193</td>\n",
       "      <td>5</td>\n",
       "      <td>0</td>\n",
       "    </tr>\n",
       "    <tr>\n",
       "      <th>1</th>\n",
       "      <td>0</td>\n",
       "      <td>661</td>\n",
       "      <td>3</td>\n",
       "      <td>1</td>\n",
       "    </tr>\n",
       "    <tr>\n",
       "      <th>2</th>\n",
       "      <td>0</td>\n",
       "      <td>914</td>\n",
       "      <td>3</td>\n",
       "      <td>2</td>\n",
       "    </tr>\n",
       "    <tr>\n",
       "      <th>3</th>\n",
       "      <td>0</td>\n",
       "      <td>3408</td>\n",
       "      <td>4</td>\n",
       "      <td>3</td>\n",
       "    </tr>\n",
       "    <tr>\n",
       "      <th>4</th>\n",
       "      <td>0</td>\n",
       "      <td>2355</td>\n",
       "      <td>5</td>\n",
       "      <td>4</td>\n",
       "    </tr>\n",
       "    <tr>\n",
       "      <th>...</th>\n",
       "      <td>...</td>\n",
       "      <td>...</td>\n",
       "      <td>...</td>\n",
       "      <td>...</td>\n",
       "    </tr>\n",
       "    <tr>\n",
       "      <th>0</th>\n",
       "      <td>6039</td>\n",
       "      <td>364</td>\n",
       "      <td>5</td>\n",
       "      <td>330</td>\n",
       "    </tr>\n",
       "    <tr>\n",
       "      <th>1</th>\n",
       "      <td>6039</td>\n",
       "      <td>1721</td>\n",
       "      <td>5</td>\n",
       "      <td>27</td>\n",
       "    </tr>\n",
       "    <tr>\n",
       "      <th>2</th>\n",
       "      <td>6039</td>\n",
       "      <td>2087</td>\n",
       "      <td>5</td>\n",
       "      <td>551</td>\n",
       "    </tr>\n",
       "    <tr>\n",
       "      <th>3</th>\n",
       "      <td>6039</td>\n",
       "      <td>589</td>\n",
       "      <td>5</td>\n",
       "      <td>92</td>\n",
       "    </tr>\n",
       "    <tr>\n",
       "      <th>4</th>\n",
       "      <td>6039</td>\n",
       "      <td>1240</td>\n",
       "      <td>5</td>\n",
       "      <td>200</td>\n",
       "    </tr>\n",
       "  </tbody>\n",
       "</table>\n",
       "<p>836483 rows × 4 columns</p>\n",
       "</div>"
      ],
      "text/plain": [
       "    user_id  movie_id  counts  title\n",
       "0         0      1193       5      0\n",
       "1         0       661       3      1\n",
       "2         0       914       3      2\n",
       "3         0      3408       4      3\n",
       "4         0      2355       5      4\n",
       "..      ...       ...     ...    ...\n",
       "0      6039       364       5    330\n",
       "1      6039      1721       5     27\n",
       "2      6039      2087       5    551\n",
       "3      6039       589       5     92\n",
       "4      6039      1240       5    200\n",
       "\n",
       "[836483 rows x 4 columns]"
      ]
     },
     "execution_count": 21,
     "metadata": {},
     "output_type": "execute_result"
    }
   ],
   "source": [
    "# indexing을 통해 데이터 컬럼 내 값을 바꾸는 코드\n",
    "# dictionary 자료형의 get 함수는 https://wikidocs.net/16 을 참고하세요.\n",
    "\n",
    "# user_to_idx.get을 통해 user_id 컬럼의 모든 값을 인덱싱한 Series를 구해 봅시다. \n",
    "# 혹시 정상적으로 인덱싱되지 않은 row가 있다면 인덱스가 NaN이 될 테니 dropna()로 제거합니다. \n",
    "temp_user_data = ratings['user_id'].map(user_to_idx.get).dropna()\n",
    "if len(temp_user_data) == len(ratings): # 모든 row가 정상적으로 인덱싱되었다면\n",
    "    print('user_id column indexing OK!!')\n",
    "    ratings['user_id'] = temp_user_data # data['user_id']을 인덱싱된 Series로 교체해 줍니다. \n",
    "else:\n",
    "    print('user_id column indexing Fail!!')\n",
    "# artist_to_idx을 통해 title 컬럼도 동일한 방식으로 인덱싱해 줍니다.\n",
    "temp_movie_data = ratings['title'].map(title_to_idx.get).dropna()\n",
    "if len(temp_movie_data) == len(ratings):\n",
    "    print('title column indexing OK!!')\n",
    "    ratings['title'] = temp_movie_data\n",
    "else:\n",
    "    print('title column indexing Fail!!')\n",
    "\n",
    "ratings\n"
   ]
  },
  {
   "cell_type": "markdown",
   "id": "cd74a53a",
   "metadata": {},
   "source": [
    "## 5) CSR matrix 만들기"
   ]
  },
  {
   "cell_type": "code",
   "execution_count": 22,
   "id": "cd5189a2",
   "metadata": {},
   "outputs": [
    {
     "data": {
      "text/plain": [
       "<6040x3628 sparse matrix of type '<class 'numpy.int64'>'\n",
       "\twith 836483 stored elements in Compressed Sparse Row format>"
      ]
     },
     "execution_count": 22,
     "metadata": {},
     "output_type": "execute_result"
    }
   ],
   "source": [
    "from scipy.sparse import csr_matrix\n",
    "\n",
    "num_user = ratings['user_id'].nunique()\n",
    "num_title = ratings['title'].nunique()\n",
    "\n",
    "csr_data = csr_matrix((ratings['counts'], (ratings.user_id, ratings.title)), shape= (num_user, num_title))\n",
    "csr_data"
   ]
  },
  {
   "cell_type": "markdown",
   "id": "253bc70e",
   "metadata": {},
   "source": [
    "## 6) als_model = AlternatingLeastSquares 모델을 직접 구성하여 훈련시켜 봅시다."
   ]
  },
  {
   "cell_type": "markdown",
   "id": "3011742f",
   "metadata": {},
   "source": [
    "AlternatingLeastSquares 클래스의 __init__ 파라미터를 살펴보겠습니다.\n",
    "\n",
    "- factors : 유저와 아이템의 벡터를 몇 차원으로 할 것인지\n",
    "- regularization : 과적합을 방지하기 위해 정규화 값을 얼마나 사용할 것인지\n",
    "- use_gpu : GPU를 사용할 것인지\n",
    "- iterations : epochs와 같은 의미입니다. 데이터를 몇 번 반복해서 학습할 것인지"
   ]
  },
  {
   "cell_type": "markdown",
   "id": "a382d55a",
   "metadata": {},
   "source": [
    "factors 와 iterations를 늘릴수록 학습 데이터를 잘 학습하게 되지만 과적합의 우려가 있으니 좋은 값을 찾아야한다."
   ]
  },
  {
   "cell_type": "markdown",
   "id": "9f5d7abc",
   "metadata": {},
   "source": [
    "- implicit 패키지는 이전 스텝에서 설명한 암묵적(implicit) dataset을 사용하는 다양한 모델을 굉장히 빠르게 학습할 수 있는 패키지입니다.  \n",
    "- 이 패키지에 구현된 als(AlternatingLeastSquares) 모델을 사용하겠습니다. Matrix Factorization에서 쪼개진 두 Feature Matrix를 한꺼번에 훈련하는 것은 잘 수렴하지 않기 때문에, 한쪽을 고정시키고 다른 쪽을 학습하는 방식을 번갈아 수행하는 AlternatingLeastSquares 방식이 효과적인 것으로 알려져 있습니다."
   ]
  },
  {
   "cell_type": "code",
   "execution_count": 23,
   "id": "a3265717",
   "metadata": {},
   "outputs": [],
   "source": [
    "from implicit.als import AlternatingLeastSquares\n",
    "import os\n",
    "import numpy as np\n",
    "\n",
    "# implicit 라이브러리에서 권장하고 있는 부분입니다. 학습 내용과는 무관합니다.\n",
    "os.environ['OPENBLAS_NUM_THREADS']='1'\n",
    "os.environ['KMP_DUPLICATE_LIB_OK']='True'\n",
    "os.environ['MKL_NUM_THREADS']='1'"
   ]
  },
  {
   "cell_type": "markdown",
   "id": "52bdd67c",
   "metadata": {},
   "source": [
    "### 1. factors = 100, iterations = 15"
   ]
  },
  {
   "cell_type": "code",
   "execution_count": 24,
   "id": "cbc1ad50",
   "metadata": {},
   "outputs": [],
   "source": [
    "# Implicit AlternatingLeastSquares 모델의 선언\n",
    "als_model = AlternatingLeastSquares(factors=100, regularization=0.01, use_gpu=False, iterations=15, dtype=np.float32)"
   ]
  },
  {
   "cell_type": "code",
   "execution_count": 25,
   "id": "b6d426fd",
   "metadata": {},
   "outputs": [
    {
     "data": {
      "text/plain": [
       "<3628x6040 sparse matrix of type '<class 'numpy.int64'>'\n",
       "\twith 836483 stored elements in Compressed Sparse Column format>"
      ]
     },
     "execution_count": 25,
     "metadata": {},
     "output_type": "execute_result"
    }
   ],
   "source": [
    "# als 모델은 input으로 (item X user 꼴의 matrix를 받기 때문에 Transpose해줍니다.)\n",
    "csr_data_transpose = csr_data.T\n",
    "csr_data_transpose"
   ]
  },
  {
   "cell_type": "code",
   "execution_count": 26,
   "id": "1713709d",
   "metadata": {},
   "outputs": [
    {
     "data": {
      "application/vnd.jupyter.widget-view+json": {
       "model_id": "cd1d2febcad64d48a6e8985769a3887b",
       "version_major": 2,
       "version_minor": 0
      },
      "text/plain": [
       "  0%|          | 0/15 [00:00<?, ?it/s]"
      ]
     },
     "metadata": {},
     "output_type": "display_data"
    }
   ],
   "source": [
    "# 모델 훈련\n",
    "als_model.fit(csr_data_transpose)"
   ]
  },
  {
   "cell_type": "markdown",
   "id": "1886959f",
   "metadata": {},
   "source": [
    "- hobin 벡터와 라이온킹의 벡터를 어떻게 만들고 있는지\n",
    "- 두 벡터를 곱하면 어떤 값이 나오는지"
   ]
  },
  {
   "cell_type": "code",
   "execution_count": 27,
   "id": "3a58b06f",
   "metadata": {},
   "outputs": [],
   "source": [
    "hobin, lion_king = user_to_idx['hobin'], title_to_idx['lion king, the (1994)']\n",
    "hobin_vector, lion_king_vector = als_model.user_factors[hobin], als_model.item_factors[lion_king]"
   ]
  },
  {
   "cell_type": "code",
   "execution_count": 28,
   "id": "cbac26e2",
   "metadata": {},
   "outputs": [
    {
     "data": {
      "text/plain": [
       "array([-0.55472255,  0.45733714, -0.4279555 ,  0.1718062 ,  0.49608222,\n",
       "       -0.7590066 ,  0.48033246,  0.7990463 ,  0.780116  , -0.6215163 ,\n",
       "        0.060273  ,  0.24206685, -0.07247522,  0.36215535, -0.2894614 ,\n",
       "        0.07764348, -0.20734382, -0.22625656,  0.05778775,  0.04374462,\n",
       "        1.0203581 , -0.7538405 , -0.07972892,  0.26529273,  0.13792379,\n",
       "        0.15132159, -0.52820575,  0.21021894,  0.02548573,  0.08505978,\n",
       "       -0.21448067,  0.12688291, -0.2290185 , -0.39569232,  0.01118926,\n",
       "       -1.271476  , -0.2775971 ,  0.46348676,  1.3073747 , -0.4777066 ,\n",
       "       -1.3555387 ,  0.12620948, -0.5438191 , -0.2707347 ,  0.16263807,\n",
       "        0.05516229, -0.10755005, -0.29717636,  0.3673155 ,  0.35799718,\n",
       "       -0.45930126,  0.6832188 , -0.37656575, -0.61012316, -0.30163845,\n",
       "        0.6640055 ,  0.15188597,  0.331414  , -0.42780003,  0.74579847,\n",
       "        0.6747533 ,  0.7066031 ,  0.1594745 , -0.01694552, -0.2043349 ,\n",
       "        0.78533953, -0.72479856,  0.57942444,  0.19184765,  0.05926023,\n",
       "       -0.8708606 , -0.22893804,  0.08122798,  0.41104153,  0.73949534,\n",
       "        0.57363665, -0.7906409 , -0.13898984, -0.15900543, -0.26799613,\n",
       "       -0.02058479,  0.87546444, -0.6224825 , -0.22046408,  0.00495305,\n",
       "        0.12385792, -0.15200768,  0.17541207,  0.22452834,  0.61836   ,\n",
       "        0.18616684, -0.17810814,  0.45896897, -1.0336998 ,  0.54299945,\n",
       "        0.668307  ,  0.00410172,  0.66123354,  0.02339816, -1.0398806 ],\n",
       "      dtype=float32)"
      ]
     },
     "execution_count": 28,
     "metadata": {},
     "output_type": "execute_result"
    }
   ],
   "source": [
    "hobin_vector"
   ]
  },
  {
   "cell_type": "code",
   "execution_count": 29,
   "id": "9e1cc64a",
   "metadata": {},
   "outputs": [
    {
     "data": {
      "text/plain": [
       "array([-0.00161203,  0.02215509,  0.00852306,  0.03692856,  0.01443036,\n",
       "       -0.03215155, -0.00688052,  0.03407206,  0.01249324, -0.00408475,\n",
       "        0.01096072, -0.00133426,  0.01226388,  0.03280609, -0.01621023,\n",
       "        0.02491633,  0.00895984,  0.00389363,  0.02484238,  0.01942519,\n",
       "        0.03192723, -0.00220057,  0.0147907 ,  0.00183811,  0.01336761,\n",
       "       -0.02951899,  0.00189081,  0.00697927, -0.02416416, -0.0108061 ,\n",
       "       -0.00829271, -0.00661916, -0.00430843, -0.00019967,  0.0050997 ,\n",
       "       -0.02144758,  0.01289811,  0.02710608,  0.02379449,  0.00643225,\n",
       "        0.00859246,  0.01464012, -0.01291889,  0.00596846,  0.0052227 ,\n",
       "       -0.01202434, -0.01870783,  0.0281225 ,  0.03374984,  0.01292805,\n",
       "       -0.01229784,  0.01794098, -0.0167413 ,  0.00063757, -0.00455761,\n",
       "        0.00490464,  0.03805896,  0.00180386, -0.02298776,  0.01966003,\n",
       "        0.00607101,  0.02009414,  0.01011961,  0.00431272,  0.01162998,\n",
       "        0.02708894, -0.01024291,  0.00611023,  0.01279618,  0.02292336,\n",
       "        0.00969946, -0.01400049,  0.01677881,  0.01735481,  0.00271144,\n",
       "       -0.00753018, -0.01075057, -0.01435158,  0.00647811,  0.01992729,\n",
       "        0.00282499,  0.02214273, -0.00572049, -0.00382111,  0.01292071,\n",
       "       -0.00828205,  0.01942609,  0.01490536, -0.00370384,  0.04542894,\n",
       "        0.02311314,  0.01589965,  0.01924924, -0.01168131,  0.01220299,\n",
       "        0.02982974,  0.0369482 ,  0.01789226, -0.00769603, -0.02829237],\n",
       "      dtype=float32)"
      ]
     },
     "execution_count": 29,
     "metadata": {},
     "output_type": "execute_result"
    }
   ],
   "source": [
    "lion_king_vector"
   ]
  },
  {
   "cell_type": "code",
   "execution_count": 30,
   "id": "652fce2c",
   "metadata": {},
   "outputs": [
    {
     "data": {
      "text/plain": [
       "0.45943338"
      ]
     },
     "execution_count": 30,
     "metadata": {},
     "output_type": "execute_result"
    }
   ],
   "source": [
    "# hobin과 lion_king를 내적하는 코드\n",
    "np.dot(hobin_vector,lion_king_vector)"
   ]
  },
  {
   "cell_type": "markdown",
   "id": "a5b14b32",
   "metadata": {},
   "source": [
    "### 내가 선호하지 않은 영화 선호도"
   ]
  },
  {
   "cell_type": "code",
   "execution_count": 31,
   "id": "db11bc79",
   "metadata": {
    "scrolled": true
   },
   "outputs": [
    {
     "data": {
      "text/plain": [
       "0.0752985"
      ]
     },
     "execution_count": 31,
     "metadata": {},
     "output_type": "execute_result"
    }
   ],
   "source": [
    "american_beauty = title_to_idx['american beauty (1999)']\n",
    "american_beauty_vector = als_model.item_factors[american_beauty]\n",
    "np.dot(hobin_vector, american_beauty_vector)"
   ]
  },
  {
   "cell_type": "markdown",
   "id": "6580168c",
   "metadata": {},
   "source": [
    "### 2. factors = 150, iterations = 20"
   ]
  },
  {
   "cell_type": "code",
   "execution_count": 32,
   "id": "40eb89ec",
   "metadata": {},
   "outputs": [],
   "source": [
    "# Implicit AlternatingLeastSquares 모델의 선언\n",
    "als_model = AlternatingLeastSquares(factors=150, regularization=0.01, use_gpu=False, iterations=20, dtype=np.float32)"
   ]
  },
  {
   "cell_type": "code",
   "execution_count": 33,
   "id": "347d219b",
   "metadata": {},
   "outputs": [
    {
     "data": {
      "text/plain": [
       "<3628x6040 sparse matrix of type '<class 'numpy.int64'>'\n",
       "\twith 836483 stored elements in Compressed Sparse Column format>"
      ]
     },
     "execution_count": 33,
     "metadata": {},
     "output_type": "execute_result"
    }
   ],
   "source": [
    "# als 모델은 input으로 (item X user 꼴의 matrix를 받기 때문에 Transpose해줍니다.)\n",
    "csr_data_transpose = csr_data.T\n",
    "csr_data_transpose"
   ]
  },
  {
   "cell_type": "code",
   "execution_count": 34,
   "id": "50aac4e7",
   "metadata": {},
   "outputs": [
    {
     "data": {
      "application/vnd.jupyter.widget-view+json": {
       "model_id": "a3d5e4fddc3744ef850a5ab92c769781",
       "version_major": 2,
       "version_minor": 0
      },
      "text/plain": [
       "  0%|          | 0/20 [00:00<?, ?it/s]"
      ]
     },
     "metadata": {},
     "output_type": "display_data"
    }
   ],
   "source": [
    "# 모델 훈련\n",
    "als_model.fit(csr_data_transpose)"
   ]
  },
  {
   "cell_type": "markdown",
   "id": "702d3614",
   "metadata": {},
   "source": [
    "- hobin 벡터와 라이온킹의 벡터를 어떻게 만들고 있는지\n",
    "- 두 벡터를 곱하면 어떤 값이 나오는지"
   ]
  },
  {
   "cell_type": "code",
   "execution_count": 35,
   "id": "6d274bbe",
   "metadata": {},
   "outputs": [],
   "source": [
    "hobin, lion_king = user_to_idx['hobin'], title_to_idx['lion king, the (1994)']\n",
    "hobin_vector, lion_king_vector = als_model.user_factors[hobin], als_model.item_factors[lion_king]"
   ]
  },
  {
   "cell_type": "code",
   "execution_count": 36,
   "id": "ded264f0",
   "metadata": {},
   "outputs": [
    {
     "data": {
      "text/plain": [
       "array([-0.23955983,  0.47754848, -1.1354696 ,  0.16628672,  0.2832987 ,\n",
       "        0.37694788,  0.83535093,  0.26804426, -0.5613626 , -0.13661169,\n",
       "        0.83457583,  0.80587745,  0.44893605, -0.16617349, -0.5013347 ,\n",
       "        0.06992405, -0.14950217, -0.34706578, -1.042501  ,  0.38847554,\n",
       "       -0.826115  ,  0.01129321, -0.6245959 , -0.1764752 , -0.23510493,\n",
       "       -0.47813502,  0.2743627 , -0.05217784,  0.14295706,  0.5244392 ,\n",
       "        0.2789682 ,  0.24556682, -0.15414062, -0.1655981 , -0.2164505 ,\n",
       "       -0.08545314, -0.618842  , -0.07637605, -0.11097969,  0.23718487,\n",
       "        1.0678276 ,  0.4247299 , -0.41123345,  0.32682395,  0.15715909,\n",
       "        0.01824251, -0.36569333,  0.74155784,  0.58693683,  0.3695818 ,\n",
       "       -0.19213967,  0.11727358, -0.14973821, -0.17185017,  0.92226607,\n",
       "        0.07887599, -0.41778204,  0.2939218 , -0.11222482,  0.0943589 ,\n",
       "        0.67799747,  0.03904625, -0.00904965, -0.05493079, -0.5715517 ,\n",
       "        0.11893825,  0.51459885, -0.16071175,  0.32380655, -0.20798971,\n",
       "        0.05125744, -0.25888216, -0.37852764, -0.0952711 ,  0.2679675 ,\n",
       "        0.44668347,  1.15092   ,  0.39949626, -0.3054303 , -0.46170706,\n",
       "        0.07649817,  0.11344895,  0.09839075,  0.11271478, -0.5742772 ,\n",
       "        0.8097462 ,  0.92745155,  0.05048984, -0.18389623, -0.4630537 ,\n",
       "       -0.52843285,  0.33589685, -0.02096792, -0.4737017 ,  0.0649534 ,\n",
       "       -0.14333862, -0.68838876, -0.74082136,  0.45632452,  0.34738508,\n",
       "       -0.26580626, -0.03464871,  0.1774749 , -0.41667268, -0.5881756 ,\n",
       "       -0.2713149 , -0.09722783,  0.46610752,  0.5736168 ,  0.638487  ,\n",
       "        0.33234364, -0.32554975, -0.29466063,  0.42187932,  0.54548717,\n",
       "        0.0486028 , -0.05934194, -0.33362764,  0.4881494 , -0.09679226,\n",
       "       -0.1744923 ,  0.23789693, -0.08010636,  0.10152661,  0.13045406,\n",
       "       -0.03279849, -0.09180024, -0.61517966, -0.3622432 , -0.70868963,\n",
       "        0.6349054 , -0.00572933, -0.27610984, -0.0687269 ,  0.09674626,\n",
       "        0.10363673,  0.10799719, -0.9477134 , -0.67123395,  0.7214938 ,\n",
       "        0.49528873, -0.10707696, -0.15336001,  0.20846447, -0.76278585,\n",
       "        0.151942  ,  0.15773965,  0.33108336,  0.0076639 , -0.49692217],\n",
       "      dtype=float32)"
      ]
     },
     "execution_count": 36,
     "metadata": {},
     "output_type": "execute_result"
    }
   ],
   "source": [
    "hobin_vector"
   ]
  },
  {
   "cell_type": "code",
   "execution_count": 37,
   "id": "2893be19",
   "metadata": {},
   "outputs": [
    {
     "data": {
      "text/plain": [
       "array([ 1.06168874e-02,  1.75339319e-02, -8.09989404e-03,  2.89467610e-02,\n",
       "       -2.10711529e-04,  2.27353051e-02,  9.83200502e-03, -3.68753634e-03,\n",
       "       -3.05939466e-02,  1.01456763e-02,  6.82614045e-03,  2.83115404e-03,\n",
       "        4.21444187e-03,  1.45475473e-03,  5.36311790e-03, -1.51209198e-02,\n",
       "       -5.69259457e-04,  1.83353468e-03, -7.31501635e-03,  9.30357259e-03,\n",
       "       -2.58432534e-02, -1.12522757e-02, -2.61068214e-02,  1.98905735e-04,\n",
       "       -1.35764815e-02,  1.96893830e-02,  9.64778941e-03, -1.51510853e-02,\n",
       "       -1.34167017e-03,  3.11765671e-02,  5.38829993e-03,  1.97290201e-02,\n",
       "       -5.09448862e-03,  2.92529669e-02,  8.10951833e-03, -3.09374672e-03,\n",
       "       -3.05831488e-02,  1.91823803e-02, -1.12227993e-02,  3.09517104e-02,\n",
       "        2.39442717e-02,  3.32973897e-02,  6.42406009e-03,  2.02336814e-02,\n",
       "       -8.69177189e-03,  2.06959564e-02, -1.14952419e-02,  3.29256337e-03,\n",
       "        1.42726051e-02,  5.37508354e-03,  1.10868486e-02, -4.69986256e-03,\n",
       "        8.80367309e-03,  9.45538003e-03,  1.41963298e-02,  1.22763319e-02,\n",
       "        8.13225110e-04,  3.96622904e-03,  1.04066348e-02, -4.07576980e-03,\n",
       "        2.40687393e-02, -1.82937011e-02,  2.65786126e-02, -3.97821423e-03,\n",
       "       -1.30059402e-02, -6.25725184e-03,  8.35080910e-03,  8.52704886e-03,\n",
       "        9.66285064e-04, -1.28282178e-02,  3.36350724e-02, -1.93132479e-02,\n",
       "       -6.72495225e-04,  3.41839306e-02,  1.97219122e-02,  1.11640189e-02,\n",
       "        3.09266336e-02, -6.61733281e-03, -1.15368450e-02, -4.84292395e-03,\n",
       "        5.46079036e-03,  2.34319214e-02,  2.85137780e-02,  1.39601976e-02,\n",
       "       -1.53810973e-03,  3.75236347e-02,  2.10943092e-02,  7.91629835e-04,\n",
       "        2.03235243e-02,  1.83607154e-02, -1.67765729e-02,  7.43092084e-03,\n",
       "       -2.05709832e-03,  1.63174756e-02,  1.29264407e-02, -2.90417913e-02,\n",
       "       -1.46306222e-02, -1.73542835e-02,  1.07619911e-02,  3.34537984e-03,\n",
       "        1.23323089e-05,  2.59193815e-02,  2.02540262e-03,  1.01329349e-02,\n",
       "        8.36720690e-03,  2.85891281e-03,  5.66792069e-03,  1.52438302e-02,\n",
       "        3.11696697e-02,  3.07207741e-02,  3.12801190e-02, -5.71068609e-04,\n",
       "       -2.73053963e-02,  1.37019972e-03, -1.07359849e-02,  2.26417393e-03,\n",
       "       -4.81068715e-03, -1.17955115e-02,  1.36880707e-02, -9.89427697e-03,\n",
       "       -1.46981068e-02,  4.59568687e-02, -6.93213893e-03,  2.40917150e-02,\n",
       "        4.77752136e-03, -2.08556908e-03, -1.18942221e-03, -3.65574583e-02,\n",
       "        9.20977816e-03,  1.60671826e-02,  1.46893347e-02,  1.47743395e-03,\n",
       "       -1.65075194e-02, -5.54057304e-03, -5.37607959e-03,  1.85246710e-02,\n",
       "       -2.36693025e-02,  1.03621511e-03, -5.62052522e-03,  2.86070686e-02,\n",
       "        1.26515944e-02,  1.12760179e-02, -4.17427067e-03,  1.86747983e-02,\n",
       "       -1.12803616e-02,  5.79574332e-03, -7.81545124e-04,  2.08378527e-02,\n",
       "        2.90978197e-02,  1.36598572e-02], dtype=float32)"
      ]
     },
     "execution_count": 37,
     "metadata": {},
     "output_type": "execute_result"
    }
   ],
   "source": [
    "lion_king_vector"
   ]
  },
  {
   "cell_type": "code",
   "execution_count": 38,
   "id": "5c0a411b",
   "metadata": {
    "scrolled": true
   },
   "outputs": [
    {
     "data": {
      "text/plain": [
       "0.51750183"
      ]
     },
     "execution_count": 38,
     "metadata": {},
     "output_type": "execute_result"
    }
   ],
   "source": [
    "# hobin과 lion_king를 내적하는 코드\n",
    "np.dot(hobin_vector,lion_king_vector)"
   ]
  },
  {
   "cell_type": "markdown",
   "id": "5fc834e5",
   "metadata": {},
   "source": [
    "### 내가 선호하지 않은 영화 선호도"
   ]
  },
  {
   "cell_type": "code",
   "execution_count": 39,
   "id": "c256884b",
   "metadata": {
    "scrolled": true
   },
   "outputs": [
    {
     "data": {
      "text/plain": [
       "-0.048276413"
      ]
     },
     "execution_count": 39,
     "metadata": {},
     "output_type": "execute_result"
    }
   ],
   "source": [
    "american_beauty = title_to_idx['american beauty (1999)']\n",
    "american_beauty_vector = als_model.item_factors[american_beauty]\n",
    "np.dot(hobin_vector, american_beauty_vector)"
   ]
  },
  {
   "cell_type": "markdown",
   "id": "96d74887",
   "metadata": {},
   "source": [
    "### 3. factors = 200, iterations = 30"
   ]
  },
  {
   "cell_type": "code",
   "execution_count": 40,
   "id": "50500e84",
   "metadata": {},
   "outputs": [],
   "source": [
    "# Implicit AlternatingLeastSquares 모델의 선언\n",
    "als_model = AlternatingLeastSquares(factors=200, regularization=0.01, use_gpu=False, iterations=30, dtype=np.float32)"
   ]
  },
  {
   "cell_type": "code",
   "execution_count": 41,
   "id": "869c72e5",
   "metadata": {},
   "outputs": [
    {
     "data": {
      "text/plain": [
       "<3628x6040 sparse matrix of type '<class 'numpy.int64'>'\n",
       "\twith 836483 stored elements in Compressed Sparse Column format>"
      ]
     },
     "execution_count": 41,
     "metadata": {},
     "output_type": "execute_result"
    }
   ],
   "source": [
    "# als 모델은 input으로 (item X user 꼴의 matrix를 받기 때문에 Transpose해줍니다.)\n",
    "csr_data_transpose = csr_data.T\n",
    "csr_data_transpose"
   ]
  },
  {
   "cell_type": "code",
   "execution_count": 42,
   "id": "697c533c",
   "metadata": {},
   "outputs": [
    {
     "data": {
      "application/vnd.jupyter.widget-view+json": {
       "model_id": "1b530c0273bd478ca7a9ee88ea8813a1",
       "version_major": 2,
       "version_minor": 0
      },
      "text/plain": [
       "  0%|          | 0/30 [00:00<?, ?it/s]"
      ]
     },
     "metadata": {},
     "output_type": "display_data"
    }
   ],
   "source": [
    "# 모델 훈련\n",
    "als_model.fit(csr_data_transpose)"
   ]
  },
  {
   "cell_type": "markdown",
   "id": "cd980b22",
   "metadata": {},
   "source": [
    "- hobin 벡터와 라이온킹의 벡터를 어떻게 만들고 있는지\n",
    "- 두 벡터를 곱하면 어떤 값이 나오는지"
   ]
  },
  {
   "cell_type": "code",
   "execution_count": 43,
   "id": "952d2206",
   "metadata": {},
   "outputs": [],
   "source": [
    "hobin, lion_king = user_to_idx['hobin'], title_to_idx['lion king, the (1994)']\n",
    "hobin_vector, lion_king_vector = als_model.user_factors[hobin], als_model.item_factors[lion_king]"
   ]
  },
  {
   "cell_type": "code",
   "execution_count": 44,
   "id": "b10dfd65",
   "metadata": {},
   "outputs": [
    {
     "data": {
      "text/plain": [
       "array([ 0.05554899,  0.3645162 , -0.14574447, -0.32353082, -0.22610828,\n",
       "       -0.25146782,  0.2809954 , -0.51348925, -0.27409464,  0.29799348,\n",
       "       -0.02910691,  0.18648876,  0.02334903, -0.06709758, -0.41714337,\n",
       "       -0.97314304, -0.79069585,  0.23593485,  0.1147014 , -0.13290809,\n",
       "        0.20091644,  0.44387963,  0.6800429 ,  0.18645178, -0.3524605 ,\n",
       "       -0.39997765,  0.226996  , -0.4002479 ,  0.15000425, -0.06574223,\n",
       "        0.48543987,  0.38686007, -0.3122691 ,  0.2171271 ,  0.576458  ,\n",
       "        0.62514406,  0.05924992, -0.2386114 ,  0.24721025, -0.01153212,\n",
       "       -0.09728526, -0.19819105,  0.15390769, -0.15259014,  0.58941436,\n",
       "        0.20947963,  0.14895763, -0.08134786, -0.3078983 , -0.16195111,\n",
       "        0.30493635, -0.602417  , -0.24489172,  0.6611892 ,  0.12210327,\n",
       "       -0.31097016,  0.76262873, -0.46201447, -0.2121455 , -0.24555884,\n",
       "        0.520442  , -0.4125938 , -0.2911986 , -0.08597346, -0.29136893,\n",
       "       -0.2695653 ,  0.01516703, -0.07082234, -0.2872676 , -0.1176183 ,\n",
       "       -0.13081849,  0.10195581,  0.26220003,  0.2689488 , -0.31363994,\n",
       "        0.30442137,  0.1842046 ,  0.27216536, -0.20061715, -0.47158417,\n",
       "       -0.2630943 , -0.23611005,  0.68523026, -0.13993295, -0.86708486,\n",
       "       -0.07605917,  0.5678957 ,  0.24225111,  0.36991963, -0.48746255,\n",
       "       -0.00795184, -0.5812297 ,  0.06534137, -0.2045504 , -0.19589286,\n",
       "        0.16045493, -0.16502176, -0.01777136, -0.28182417, -0.25607052,\n",
       "       -0.12934421,  0.8108917 , -0.01926733,  0.4236711 , -0.26469517,\n",
       "        0.12942839, -0.53709966, -0.1865659 ,  0.37430906,  0.3021175 ,\n",
       "        0.40327793, -0.11591467, -0.08439562,  0.02023631, -0.27098575,\n",
       "        0.62331384,  0.40274674, -0.39170334,  0.12726793, -0.12504664,\n",
       "        0.6018353 , -0.34057456, -0.16081479,  0.49999177,  0.00661015,\n",
       "        0.2085945 , -0.39374992,  0.19045176,  0.18893297,  0.04204157,\n",
       "        0.33014154, -0.24613318, -0.20016961,  0.06211833,  0.16315775,\n",
       "        0.52308214,  0.14623328,  0.12086283, -0.23617938,  0.7097241 ,\n",
       "        0.79600817,  0.05528399, -0.04313992, -0.32751554,  0.46889716,\n",
       "        0.37936985, -0.24163227,  0.03031583, -0.3991528 , -0.16704476,\n",
       "       -0.9153654 , -0.07167378,  0.01358755, -0.5856972 , -0.24234988,\n",
       "        0.2532316 ,  0.46140552, -0.4527666 , -0.09384964,  0.8461698 ,\n",
       "       -0.02053911,  0.1974861 ,  0.24271874,  0.04734463,  0.52881247,\n",
       "       -0.27359796,  0.3374304 ,  0.02607132,  0.32234088,  0.00157484,\n",
       "        0.4276834 ,  0.19200581,  0.06405887, -0.3839662 ,  0.31840536,\n",
       "       -0.44746038, -0.32325143,  0.5663282 ,  0.7245444 , -0.3228104 ,\n",
       "        0.6616336 , -0.22590503, -0.38710883, -0.04746062,  0.12087941,\n",
       "        0.5334039 , -0.7439213 ,  0.12204039, -0.10728659,  0.07014885,\n",
       "       -0.49860904,  0.754803  , -0.2878911 ,  0.18521583,  0.02853299,\n",
       "        0.07282453, -0.23881859,  0.16763996, -0.78323925, -0.3273062 ],\n",
       "      dtype=float32)"
      ]
     },
     "execution_count": 44,
     "metadata": {},
     "output_type": "execute_result"
    }
   ],
   "source": [
    "hobin_vector"
   ]
  },
  {
   "cell_type": "code",
   "execution_count": 45,
   "id": "5fd8b33f",
   "metadata": {},
   "outputs": [
    {
     "data": {
      "text/plain": [
       "array([ 0.00320075,  0.00398505,  0.00103908,  0.00412419,  0.0037981 ,\n",
       "       -0.00197777,  0.02719373, -0.01735177, -0.00928479,  0.03318682,\n",
       "        0.01316135, -0.00632572,  0.00172531,  0.00069103,  0.00630551,\n",
       "       -0.0090883 , -0.00280754,  0.02073678, -0.00018513,  0.04011541,\n",
       "       -0.00383117,  0.0114989 ,  0.01273317,  0.02314411,  0.00081946,\n",
       "        0.01669025,  0.02354991, -0.01514659,  0.00798282,  0.00056663,\n",
       "        0.02599023,  0.01678187,  0.00518211,  0.02076403,  0.00959884,\n",
       "        0.0081941 ,  0.00835491,  0.0077666 , -0.00571992, -0.01237257,\n",
       "        0.024343  ,  0.01798096,  0.00069599, -0.02357939,  0.01500432,\n",
       "        0.01137678,  0.00246768, -0.01171164, -0.02261705, -0.01512164,\n",
       "        0.01524682,  0.00403986,  0.00669145,  0.00489102,  0.00024124,\n",
       "       -0.00436171,  0.04819167,  0.010043  , -0.00242692,  0.00192307,\n",
       "        0.03099991, -0.03227696,  0.01643553,  0.00927514, -0.00406159,\n",
       "        0.0013751 , -0.00065084,  0.00534812,  0.02448274,  0.00541737,\n",
       "        0.01627397, -0.02565106,  0.00103622, -0.0200379 ,  0.01120311,\n",
       "        0.03630889,  0.00667295,  0.00761317,  0.01072248, -0.00380042,\n",
       "        0.01047904, -0.01325195,  0.00840774,  0.00031195,  0.00038102,\n",
       "       -0.01950577,  0.03679816,  0.00759414,  0.03644313, -0.03042033,\n",
       "       -0.0085193 ,  0.02211774, -0.00239223, -0.01187788,  0.00584484,\n",
       "        0.01198475,  0.01351908,  0.00130437, -0.00634377, -0.01408231,\n",
       "       -0.00579349,  0.03181392, -0.01353163,  0.01564721,  0.00601405,\n",
       "       -0.00835458, -0.02375951, -0.00280239,  0.0002744 ,  0.00851239,\n",
       "        0.01036196,  0.00367788,  0.00471761, -0.01771037, -0.01579879,\n",
       "        0.03969277,  0.02066308, -0.00174315,  0.00748447, -0.00010256,\n",
       "        0.01852202, -0.0020502 , -0.00921016, -0.00371996, -0.0148017 ,\n",
       "        0.01496107,  0.00184365, -0.01969752, -0.00318211,  0.00672594,\n",
       "       -0.00193335,  0.02115017,  0.0045995 ,  0.01096043,  0.03389064,\n",
       "        0.02945073,  0.01068056,  0.0157016 , -0.00966213,  0.01339965,\n",
       "        0.03963974,  0.01415567, -0.00610039, -0.00654655,  0.00302104,\n",
       "       -0.00391913, -0.0175056 ,  0.02101824, -0.00960499,  0.00759565,\n",
       "       -0.00433845, -0.01055863,  0.00466975, -0.01673401, -0.00687958,\n",
       "       -0.02622559,  0.00905717, -0.00455308,  0.00649845,  0.03770502,\n",
       "       -0.0018137 , -0.00498418,  0.01951861,  0.02079851,  0.00021139,\n",
       "        0.00546314,  0.01373688, -0.00379755,  0.01235839, -0.00730451,\n",
       "        0.01634921,  0.00164116,  0.01956966,  0.01540317,  0.04314784,\n",
       "       -0.01645537,  0.01523617,  0.01610041,  0.02776412, -0.01835147,\n",
       "        0.0335228 ,  0.02070869, -0.00818183, -0.0048305 ,  0.00491897,\n",
       "        0.03706935,  0.00092299,  0.00928975, -0.01461107,  0.00226242,\n",
       "       -0.00882217,  0.017314  ,  0.01485414, -0.0121132 ,  0.00982588,\n",
       "       -0.0101665 , -0.00416059,  0.00146743, -0.01732661, -0.00958919],\n",
       "      dtype=float32)"
      ]
     },
     "execution_count": 45,
     "metadata": {},
     "output_type": "execute_result"
    }
   ],
   "source": [
    "lion_king_vector"
   ]
  },
  {
   "cell_type": "code",
   "execution_count": 46,
   "id": "211fa884",
   "metadata": {
    "scrolled": true
   },
   "outputs": [
    {
     "data": {
      "text/plain": [
       "0.5696552"
      ]
     },
     "execution_count": 46,
     "metadata": {},
     "output_type": "execute_result"
    }
   ],
   "source": [
    "# hobin과 lion_king를 내적하는 코드\n",
    "np.dot(hobin_vector,lion_king_vector)"
   ]
  },
  {
   "cell_type": "markdown",
   "id": "e3fd3f95",
   "metadata": {},
   "source": [
    "### 내가 선호하지 않은 영화 선호도"
   ]
  },
  {
   "cell_type": "code",
   "execution_count": 47,
   "id": "7631f98f",
   "metadata": {
    "scrolled": false
   },
   "outputs": [
    {
     "data": {
      "text/plain": [
       "-0.032157067"
      ]
     },
     "execution_count": 47,
     "metadata": {},
     "output_type": "execute_result"
    }
   ],
   "source": [
    "american_beauty = title_to_idx['american beauty (1999)']\n",
    "american_beauty_vector = als_model.item_factors[american_beauty]\n",
    "np.dot(hobin_vector, american_beauty_vector)"
   ]
  },
  {
   "cell_type": "markdown",
   "id": "91624f67",
   "metadata": {},
   "source": [
    "## 7) 내가 선호하는 5가지 영화 중 하나와 그 외의 영화 하나를 골라 훈련된 모델이 예측한 나의 선호도를 파악"
   ]
  },
  {
   "cell_type": "markdown",
   "id": "cf6d8d8e",
   "metadata": {},
   "source": [
    "| |선호하는 영화 선호도|선호하지 않는 영화 선호도|\n",
    "|----|------|---|\n",
    "|100,15|0.46|0.08|\n",
    "|150,20|0.52|0.05|\n",
    "|200,30|0.57|-0.32|"
   ]
  },
  {
   "cell_type": "markdown",
   "id": "cf0c9735",
   "metadata": {},
   "source": [
    "## 8) 내가 좋아하는 영화와 비슷한 영화를 추천받아 봅시다."
   ]
  },
  {
   "cell_type": "code",
   "execution_count": 49,
   "id": "3e05839f",
   "metadata": {
    "scrolled": true
   },
   "outputs": [
    {
     "data": {
      "text/plain": [
       "[(330, 0.9999999),\n",
       " (10, 0.7155579),\n",
       " (33, 0.66811115),\n",
       " (35, 0.5001754),\n",
       " (34, 0.49506488),\n",
       " (329, 0.4777461),\n",
       " (30, 0.45349503),\n",
       " (32, 0.4494569),\n",
       " (191, 0.44415727),\n",
       " (16, 0.43798313),\n",
       " (37, 0.4233991),\n",
       " (25, 0.39437878),\n",
       " (8, 0.39351866),\n",
       " (46, 0.38764527),\n",
       " (40, 0.3412886)]"
      ]
     },
     "execution_count": 49,
     "metadata": {},
     "output_type": "execute_result"
    }
   ],
   "source": [
    "favorite_movie = 'lion king, the (1994)'\n",
    "movie_id = title_to_idx[favorite_movie]\n",
    "similar_movie = als_model.similar_items(movie_id, N=15)\n",
    "similar_movie "
   ]
  },
  {
   "cell_type": "code",
   "execution_count": 50,
   "id": "01846980",
   "metadata": {},
   "outputs": [
    {
     "data": {
      "text/plain": [
       "['lion king, the (1994)',\n",
       " 'beauty and the beast (1991)',\n",
       " 'aladdin (1992)',\n",
       " 'hunchback of notre dame, the (1996)',\n",
       " 'mulan (1998)',\n",
       " 'anastasia (1997)',\n",
       " 'antz (1998)',\n",
       " 'hercules (1997)',\n",
       " 'little mermaid, the (1989)',\n",
       " 'tarzan (1999)',\n",
       " 'cinderella (1950)',\n",
       " 'pocahontas (1995)',\n",
       " 'snow white and the seven dwarfs (1937)',\n",
       " 'dumbo (1941)',\n",
       " 'toy story (1995)']"
      ]
     },
     "execution_count": 50,
     "metadata": {},
     "output_type": "execute_result"
    }
   ],
   "source": [
    "idx_to_movie = {v:k for k,v in title_to_idx.items()}\n",
    "[idx_to_movie[i[0]] for i in similar_movie]"
   ]
  },
  {
   "cell_type": "code",
   "execution_count": 51,
   "id": "d8a3d43b",
   "metadata": {},
   "outputs": [],
   "source": [
    "def get_similar_movie(movie_title: str):\n",
    "    movie_id = title_to_idx[movie_title]\n",
    "    similar_movie = als_model.similar_items(movie_id, N=15)\n",
    "    similar_movie = [idx_to_movie[i[0]] for i in similar_movie]\n",
    "    return similar_movie"
   ]
  },
  {
   "cell_type": "code",
   "execution_count": 52,
   "id": "25978fd5",
   "metadata": {
    "scrolled": true
   },
   "outputs": [
    {
     "data": {
      "text/plain": [
       "['titanic (1997)',\n",
       " 'ever after: a cinderella story (1998)',\n",
       " \"you've got mail (1998)\",\n",
       " 'ghost (1990)',\n",
       " 'jerry maguire (1996)',\n",
       " 'walking dead, the (1995)',\n",
       " 'piano, the (1993)',\n",
       " 'fried green tomatoes (1991)',\n",
       " 'pump up the volume (1990)',\n",
       " 'city of angels (1998)',\n",
       " 'far and away (1992)',\n",
       " 'gay deceivers, the (1969)',\n",
       " 'train of life (train de vie) (1998)',\n",
       " 'dirty dancing (1987)',\n",
       " 'paris, france (1993)']"
      ]
     },
     "execution_count": 52,
     "metadata": {},
     "output_type": "execute_result"
    }
   ],
   "source": [
    "get_similar_movie('titanic (1997)')"
   ]
  },
  {
   "cell_type": "markdown",
   "id": "3532407d",
   "metadata": {},
   "source": [
    "## 9) 내가 가장 좋아할 만한 영화들을 추천"
   ]
  },
  {
   "cell_type": "code",
   "execution_count": 53,
   "id": "3f9bd81b",
   "metadata": {},
   "outputs": [
    {
     "data": {
      "text/plain": [
       "[(124, 0.45856565),\n",
       " (10, 0.35195404),\n",
       " (651, 0.3346375),\n",
       " (8, 0.30662674),\n",
       " (33, 0.2980238),\n",
       " (37, 0.2919738),\n",
       " (191, 0.24970613),\n",
       " (62, 0.24809846),\n",
       " (547, 0.22570777),\n",
       " (194, 0.22352067),\n",
       " (46, 0.22272587),\n",
       " (236, 0.22044423),\n",
       " (107, 0.20257254),\n",
       " (34, 0.20234816),\n",
       " (572, 0.20031679)]"
      ]
     },
     "execution_count": 53,
     "metadata": {},
     "output_type": "execute_result"
    }
   ],
   "source": [
    "user = user_to_idx['hobin']\n",
    "\n",
    "movie_recommended = als_model.recommend(user, csr_data, N=15, filter_already_liked_items=True)\n",
    "movie_recommended"
   ]
  },
  {
   "cell_type": "code",
   "execution_count": 54,
   "id": "05dfe904",
   "metadata": {
    "scrolled": true
   },
   "outputs": [
    {
     "data": {
      "text/plain": [
       "['matrix, the (1999)',\n",
       " 'beauty and the beast (1991)',\n",
       " 'aliens (1986)',\n",
       " 'snow white and the seven dwarfs (1937)',\n",
       " 'aladdin (1992)',\n",
       " 'cinderella (1950)',\n",
       " 'little mermaid, the (1989)',\n",
       " 'total recall (1990)',\n",
       " 'lady and the tramp (1955)',\n",
       " 'die hard (1988)',\n",
       " 'dumbo (1941)',\n",
       " 'speed (1994)',\n",
       " 'jurassic park (1993)',\n",
       " 'mulan (1998)',\n",
       " 'sleeping beauty (1959)']"
      ]
     },
     "execution_count": 54,
     "metadata": {},
     "output_type": "execute_result"
    }
   ],
   "source": [
    "[idx_to_movie[i[0]] for i in movie_recommended]"
   ]
  },
  {
   "cell_type": "markdown",
   "id": "d8210e1b",
   "metadata": {},
   "source": [
    "### 영화들을 추천하기 위힌 내 선호 영화들의 기여도"
   ]
  },
  {
   "cell_type": "code",
   "execution_count": 55,
   "id": "14f419df",
   "metadata": {},
   "outputs": [
    {
     "data": {
      "text/plain": [
       "[('terminator 2: judgment day (1991)', 0.3143127330417084),\n",
       " ('terminator, the (1984)', 0.10182598830151213),\n",
       " ('peter pan (1953)', 0.015631110894192224),\n",
       " ('titanic (1997)', 0.014244244832544823),\n",
       " ('lion king, the (1994)', 0.007715538110634232)]"
      ]
     },
     "execution_count": 55,
     "metadata": {},
     "output_type": "execute_result"
    }
   ],
   "source": [
    "recommended = title_to_idx['matrix, the (1999)']\n",
    "explain = als_model.explain(user, csr_data, itemid=recommended)\n",
    "\n",
    "[(idx_to_movie[i[0]], i[1]) for i in explain[1]]"
   ]
  },
  {
   "cell_type": "markdown",
   "id": "9d928177",
   "metadata": {},
   "source": [
    "터미네이터 1,2로 인해 메트릭스를 추천해줬다."
   ]
  },
  {
   "cell_type": "markdown",
   "id": "1257231e",
   "metadata": {},
   "source": [
    "## 회고"
   ]
  },
  {
   "cell_type": "markdown",
   "id": "955a24ca",
   "metadata": {},
   "source": [
    "- 가장 아쉬웠던 점은 영화 데이터들이 년도를 보면 1900년도대의 영화들이 대부분이라 정말 유명한 영화가 아니면 모른다는 것이다. 그래서 이 데이터셋 안에 있는 영화들로 선호하는 영화를 선택할 때에 어려움이 있었다.\n",
    "- 이 프로젝트를 진행하면서 데이터프레임을 합치는 과정이 있어 함수 join과 수 많은 데이터들 속에서 포함하는 문자열을 찾기 위한 cotain 함수를 더욱 알게되고 공부하는 시간이였다.\n",
    "- 선호도를 높이기 위해 factors는 50씩 iterations는 5, 10 증가로 값을 증가시켰지만 선호도를 높이는데에 성공하였고 더욱 값을 높인다면 과적합 발생 위험때문에 3번의 테스트를 진행하였다. "
   ]
  },
  {
   "cell_type": "code",
   "execution_count": null,
   "id": "911bac8a",
   "metadata": {},
   "outputs": [],
   "source": []
  }
 ],
 "metadata": {
  "kernelspec": {
   "display_name": "Python 3 (ipykernel)",
   "language": "python",
   "name": "python3"
  },
  "language_info": {
   "codemirror_mode": {
    "name": "ipython",
    "version": 3
   },
   "file_extension": ".py",
   "mimetype": "text/x-python",
   "name": "python",
   "nbconvert_exporter": "python",
   "pygments_lexer": "ipython3",
   "version": "3.9.7"
  }
 },
 "nbformat": 4,
 "nbformat_minor": 5
}
