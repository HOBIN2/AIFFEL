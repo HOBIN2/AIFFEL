{
 "cells": [
  {
   "cell_type": "markdown",
   "id": "62f5c94b",
   "metadata": {},
   "source": [
    "# [E-04] 멋진 작사가 만들기"
   ]
  },
  {
   "cell_type": "markdown",
   "id": "99224b96",
   "metadata": {},
   "source": [
    "## (1) 필요한 라이브러리 불러오기"
   ]
  },
  {
   "cell_type": "code",
   "execution_count": 1,
   "id": "d6d88678",
   "metadata": {},
   "outputs": [],
   "source": [
    "import glob\n",
    "import os\n",
    "import re\n",
    "import numpy as np\n",
    "import tensorflow as tf\n",
    "from sklearn.model_selection import train_test_split"
   ]
  },
  {
   "cell_type": "markdown",
   "id": "a8bbb109",
   "metadata": {},
   "source": [
    "## (2) 데이터 읽어오기"
   ]
  },
  {
   "cell_type": "code",
   "execution_count": 2,
   "id": "ffc97949",
   "metadata": {},
   "outputs": [
    {
     "name": "stdout",
     "output_type": "stream",
     "text": [
      "데이터 크기: 187088\n",
      "Examples:\n",
      " [\"Now I've heard there was a secret chord\", 'That David played, and it pleased the Lord', \"But you don't really care for music, do you?\", 'It goes like this', 'The fourth, the fifth', 'The minor fall, the major lift', 'The baffled king composing Hallelujah Hallelujah', 'Hallelujah', 'Hallelujah', 'Hallelujah Your faith was strong but you needed proof']\n"
     ]
    }
   ],
   "source": [
    "txt_file_path = os.getenv('HOME')+'/aiffel/lyricist/data/lyrics/*'\n",
    "\n",
    "txt_list = glob.glob(txt_file_path)\n",
    "\n",
    "raw_corpus = []\n",
    "\n",
    "# 여러개의 txt 파일을 모두 읽어서 raw_corpus 에 담습니다.\n",
    "for txt_file in txt_list:\n",
    "    with open(txt_file, \"r\") as f:\n",
    "        raw = f.read().splitlines()\n",
    "        raw_corpus.extend(raw)\n",
    "\n",
    "print(\"데이터 크기:\", len(raw_corpus))\n",
    "print(\"Examples:\\n\", raw_corpus[:10])"
   ]
  },
  {
   "cell_type": "markdown",
   "id": "acd934f6",
   "metadata": {},
   "source": [
    "## (3) 데이터 정제"
   ]
  },
  {
   "cell_type": "code",
   "execution_count": 8,
   "id": "fc6520ab",
   "metadata": {},
   "outputs": [],
   "source": [
    "# 입력된 문장을\n",
    "#     1. 소문자로 바꾸고, 양쪽 공백을 지웁니다\n",
    "#     2. 특수문자 양쪽에 공백을 넣고\n",
    "#     3. 여러개의 공백은 하나의 공백으로 바꿉니다\n",
    "#     4. a-zA-Z?.!,¿가 아닌 모든 문자를 하나의 공백으로 바꿉니다\n",
    "#     5. 다시 양쪽 공백을 지웁니다\n",
    "#     6. 문장 시작에는 <start>, 끝에는 <end>를 추가합니다\n",
    "# 이 순서로 처리해주면 문제가 되는 상황을 방지할 수 있겠네요!\n",
    "# r은 문자 그대로 하겠다는 의미 예를들어 \"/today\"라는 글자를 찾을 때 /t 라고 인식하는 것을 방지하기 위함\n",
    "def preprocess_sentence(sentence):\n",
    "    sentence = sentence.lower().strip() # 1\n",
    "    sentence = re.sub(r\"([?.!,¿])\", r\" \\1 \", sentence) # 2\n",
    "    sentence = re.sub(r'[\" \"]+', \" \", sentence) # 3\n",
    "    sentence = re.sub(r\"[^a-zA-Z?.!,¿]+\", \" \", sentence) # 4\n",
    "    sentence = sentence.strip() # 5\n",
    "    sentence = '<start> ' + sentence + ' <end>' # 6\n",
    "    return sentence\n"
   ]
  },
  {
   "cell_type": "code",
   "execution_count": 9,
   "id": "8f7f47f2",
   "metadata": {},
   "outputs": [
    {
     "name": "stdout",
     "output_type": "stream",
     "text": [
      "<start> this is sample sentence . <end>\n"
     ]
    }
   ],
   "source": [
    "print(preprocess_sentence(\"This @_is ;;;sample        sentence.\"))"
   ]
  },
  {
   "cell_type": "code",
   "execution_count": 10,
   "id": "4f1b377c",
   "metadata": {},
   "outputs": [
    {
     "data": {
      "text/plain": [
       "['<start> now i ve heard there was a secret chord <end>',\n",
       " '<start> that david played , and it pleased the lord <end>',\n",
       " '<start> but you don t really care for music , do you ? <end>',\n",
       " '<start> it goes like this <end>',\n",
       " '<start> the fourth , the fifth <end>',\n",
       " '<start> the minor fall , the major lift <end>',\n",
       " '<start> the baffled king composing hallelujah hallelujah <end>',\n",
       " '<start> hallelujah <end>',\n",
       " '<start> hallelujah <end>',\n",
       " '<start> hallelujah your faith was strong but you needed proof <end>']"
      ]
     },
     "execution_count": 10,
     "metadata": {},
     "output_type": "execute_result"
    }
   ],
   "source": [
    "corpus = []\n",
    "\n",
    "for sentence in raw_corpus:\n",
    "    if len(sentence) == 0: continue\n",
    "    \n",
    "    preprocessed_sentence = preprocess_sentence(sentence)\n",
    "    corpus.append(preprocessed_sentence)\n",
    "\n",
    "corpus[:10]\n",
    "    "
   ]
  },
  {
   "cell_type": "code",
   "execution_count": 13,
   "id": "eafe3179",
   "metadata": {},
   "outputs": [
    {
     "name": "stdout",
     "output_type": "stream",
     "text": [
      "[[   2   50    5 ...    0    0    0]\n",
      " [   2   17 2643 ...    0    0    0]\n",
      " [   2   35    7 ...   43    3    0]\n",
      " ...\n",
      " [   5   22    9 ...   10 1014    3]\n",
      " [  37   15 9061 ...  878  644    3]\n",
      " [   2    7   34 ...    0    0    0]] <keras_preprocessing.text.Tokenizer object at 0x7fb3d4a8bf10>\n"
     ]
    }
   ],
   "source": [
    "# 토큰화 할 때 텐서플로우의 Tokenizer와 pad_sequences를 사용합니다\n",
    "# 더 잘 알기 위해 아래 문서들을 참고하면 좋습니다\n",
    "# https://www.tensorflow.org/api_docs/python/tf/keras/preprocessing/text/Tokenizer\n",
    "# https://www.tensorflow.org/api_docs/python/tf/keras/preprocessing/sequence/pad_sequences\n",
    "def tokenize(corpus):\n",
    "    # 7000단어를 기억할 수 있는 tokenizer를 만들겁니다\n",
    "    # 우리는 이미 문장을 정제했으니 filters가 필요없어요\n",
    "    # 7000단어에 포함되지 못한 단어는 '<unk>'로 바꿀거에요\n",
    "    tokenizer = tf.keras.preprocessing.text.Tokenizer(\n",
    "        num_words=12000, \n",
    "        filters=' ',\n",
    "        oov_token=\"<unk>\"\n",
    "    )\n",
    "    # corpus를 이용해 tokenizer 내부의 단어장을 완성합니다\n",
    "    tokenizer.fit_on_texts(corpus)\n",
    "    # 준비한 tokenizer를 이용해 corpus를 Tensor로 변환합니다\n",
    "    tensor = tokenizer.texts_to_sequences(corpus)   \n",
    "    # 입력 데이터의 시퀀스 길이를 일정하게 맞춰줍니다\n",
    "    # 만약 시퀀스가 짧다면 문장 뒤에 패딩을 붙여 길이를 맞춰줍니다.\n",
    "    # 문장 앞에 패딩을 붙여 길이를 맞추고 싶다면 padding='pre'를 사용합니다\n",
    "    tensor = tf.keras.preprocessing.sequence.pad_sequences(tensor, padding='post', maxlen=15)  \n",
    "    \n",
    "    print(tensor,tokenizer)\n",
    "    return tensor, tokenizer\n",
    "\n",
    "tensor, tokenizer = tokenize(corpus)"
   ]
  },
  {
   "cell_type": "code",
   "execution_count": 19,
   "id": "8e9fb10b",
   "metadata": {},
   "outputs": [
    {
     "name": "stdout",
     "output_type": "stream",
     "text": [
      "[[   2   50    5   91  297   64   57    9  970 6048    3    0    0    0\n",
      "     0]\n",
      " [   2   17 2643  873    4    8   11 6049    6  330    3    0    0    0\n",
      "     0]\n",
      " [   2   35    7   37   15  164  283   28  299    4   47    7   43    3\n",
      "     0]]\n"
     ]
    }
   ],
   "source": [
    "print(tensor[:3,:15])"
   ]
  },
  {
   "cell_type": "code",
   "execution_count": 20,
   "id": "ad1c3032",
   "metadata": {},
   "outputs": [
    {
     "name": "stdout",
     "output_type": "stream",
     "text": [
      "1 : <unk>\n",
      "2 : <start>\n",
      "3 : <end>\n",
      "4 : ,\n",
      "5 : i\n",
      "6 : the\n",
      "7 : you\n",
      "8 : and\n",
      "9 : a\n",
      "10 : to\n",
      "11 : it\n",
      "12 : me\n",
      "13 : my\n",
      "14 : in\n",
      "15 : t\n"
     ]
    }
   ],
   "source": [
    "for idx in tokenizer.index_word:\n",
    "    print(idx, \":\", tokenizer.index_word[idx])\n",
    "    \n",
    "    if idx >= 15:break"
   ]
  },
  {
   "cell_type": "code",
   "execution_count": 21,
   "id": "a12762cd",
   "metadata": {
    "scrolled": true
   },
   "outputs": [
    {
     "name": "stdout",
     "output_type": "stream",
     "text": [
      "[   2   50    5   91  297   64   57    9  970 6048    3    0    0    0]\n",
      "[  50    5   91  297   64   57    9  970 6048    3    0    0    0    0]\n"
     ]
    }
   ],
   "source": [
    "# tensor에서 마지막 토큰을 잘라내서 소스 문장을 생성합니다\n",
    "# 마지막 토큰은 <end>가 아니라 <pad>일 가능성이 높습니다.\n",
    "src_input = tensor[:, :-1]  \n",
    "# tensor에서 <start>를 잘라내서 타겟 문장을 생성합니다.\n",
    "tgt_input = tensor[:, 1:]    \n",
    "\n",
    "print(src_input[0])\n",
    "print(tgt_input[0])"
   ]
  },
  {
   "cell_type": "markdown",
   "id": "2dac18d2",
   "metadata": {},
   "source": [
    "## (4) 평가 데이터셋 분리"
   ]
  },
  {
   "cell_type": "code",
   "execution_count": 25,
   "id": "e0317b79",
   "metadata": {},
   "outputs": [
    {
     "name": "stdout",
     "output_type": "stream",
     "text": [
      "Source Train: (140788, 14)\n",
      "Target Train: (140788, 14)\n"
     ]
    }
   ],
   "source": [
    "enc_train, enc_val, dec_train, dec_val = train_test_split(src_input, tgt_input, test_size = 0.2)\n",
    "print(\"Source Train:\", enc_train.shape)\n",
    "print(\"Target Train:\", dec_train.shape)"
   ]
  },
  {
   "cell_type": "code",
   "execution_count": 26,
   "id": "5239e942",
   "metadata": {},
   "outputs": [
    {
     "data": {
      "text/plain": [
       "<BatchDataset shapes: ((256, 14), (256, 14)), types: (tf.int32, tf.int32)>"
      ]
     },
     "execution_count": 26,
     "metadata": {},
     "output_type": "execute_result"
    }
   ],
   "source": [
    "BUFFER_SIZE = len(src_input)\n",
    "BATCH_SIZE = 256\n",
    "steps_per_epoch = len(src_input) // BATCH_SIZE\n",
    "\n",
    " # tokenizer가 구축한 단어사전 내 12000개와, 여기 포함되지 않은 0:<pad>를 포함하여 12001개\n",
    "VOCAB_SIZE = tokenizer.num_words + 1   \n",
    "\n",
    "# 준비한 데이터 소스로부터 데이터셋을 만듭니다\n",
    "# 데이터셋에 대해서는 아래 문서를 참고하세요\n",
    "# 자세히 알아둘수록 도움이 많이 되는 중요한 문서입니다\n",
    "# https://www.tensorflow.org/api_docs/python/tf/data/Dataset\n",
    "dataset = tf.data.Dataset.from_tensor_slices((src_input, tgt_input))\n",
    "dataset = dataset.shuffle(BUFFER_SIZE)\n",
    "dataset = dataset.batch(BATCH_SIZE, drop_remainder=True)\n",
    "dataset"
   ]
  },
  {
   "cell_type": "code",
   "execution_count": 27,
   "id": "43889ed1",
   "metadata": {},
   "outputs": [],
   "source": [
    "class TextGenerator(tf.keras.Model):\n",
    "    def __init__(self, vocab_size, embedding_size, hidden_size):\n",
    "        super().__init__()\n",
    "        \n",
    "        self.embedding = tf.keras.layers.Embedding(vocab_size, embedding_size)\n",
    "        self.rnn_1 = tf.keras.layers.LSTM(hidden_size, return_sequences=True)\n",
    "        self.rnn_2 = tf.keras.layers.LSTM(hidden_size, return_sequences=True)\n",
    "        self.linear = tf.keras.layers.Dense(vocab_size)\n",
    "        \n",
    "    def call(self, x):\n",
    "        out = self.embedding(x)\n",
    "        out = self.rnn_1(out)\n",
    "        out = self.rnn_2(out)\n",
    "        out = self.linear(out)\n",
    "        \n",
    "        return out\n",
    "    \n",
    "embedding_size = 256\n",
    "hidden_size = 1024\n",
    "model = TextGenerator(tokenizer.num_words + 1, embedding_size , hidden_size)"
   ]
  },
  {
   "cell_type": "code",
   "execution_count": 28,
   "id": "4d3ecec6",
   "metadata": {},
   "outputs": [
    {
     "data": {
      "text/plain": [
       "<tf.Tensor: shape=(256, 14, 12001), dtype=float32, numpy=\n",
       "array([[[-2.3774541e-04, -1.6248548e-04, -6.7211920e-05, ...,\n",
       "          3.5522655e-05, -1.2428571e-04,  1.6526844e-04],\n",
       "        [-2.1180797e-04, -3.7763303e-04, -3.9419936e-04, ...,\n",
       "          2.6242234e-04, -1.8108803e-04,  1.8289530e-04],\n",
       "        [-1.7158101e-04, -3.9240177e-04, -4.9475656e-04, ...,\n",
       "          2.5514988e-04, -4.3065348e-04,  1.9336968e-04],\n",
       "        ...,\n",
       "        [ 1.6319474e-03, -2.3398011e-03, -8.4916281e-04, ...,\n",
       "          1.3794071e-03, -1.8778098e-03,  1.0656733e-03],\n",
       "        [ 1.8233046e-03, -2.6531226e-03, -8.7012065e-04, ...,\n",
       "          1.6153344e-03, -2.0568368e-03,  1.1648829e-03],\n",
       "        [ 1.9893043e-03, -2.9433356e-03, -8.8815804e-04, ...,\n",
       "          1.8251884e-03, -2.2229033e-03,  1.2538575e-03]],\n",
       "\n",
       "       [[-2.3774541e-04, -1.6248548e-04, -6.7211920e-05, ...,\n",
       "          3.5522655e-05, -1.2428571e-04,  1.6526844e-04],\n",
       "        [-3.2771908e-04, -4.4291734e-04,  1.4953528e-04, ...,\n",
       "          9.0239337e-05, -2.1563946e-04,  4.0005700e-04],\n",
       "        [-5.1246118e-04, -5.4565235e-04,  1.6889352e-04, ...,\n",
       "          1.6100463e-04, -3.8391195e-04,  4.7022325e-04],\n",
       "        ...,\n",
       "        [ 9.0949429e-04, -2.0666978e-04,  4.7875414e-04, ...,\n",
       "         -1.6841330e-04, -3.0245120e-04,  4.0662239e-04],\n",
       "        [ 9.1607840e-04, -4.5385613e-04,  3.3902097e-04, ...,\n",
       "         -3.9939533e-04, -4.4525773e-04,  4.0663235e-04],\n",
       "        [ 1.1641217e-03, -5.5177644e-04,  2.5968935e-04, ...,\n",
       "         -6.4619322e-04, -4.8501333e-04,  2.6776001e-04]],\n",
       "\n",
       "       [[-2.3774541e-04, -1.6248548e-04, -6.7211920e-05, ...,\n",
       "          3.5522655e-05, -1.2428571e-04,  1.6526844e-04],\n",
       "        [-2.7985926e-04, -4.9200060e-04, -4.5780511e-05, ...,\n",
       "          2.8190490e-05, -2.1303542e-05,  3.6523442e-04],\n",
       "        [-1.5796845e-04, -9.1245398e-04, -1.5064716e-04, ...,\n",
       "          1.2389064e-04, -2.4135131e-04,  5.6832680e-04],\n",
       "        ...,\n",
       "        [ 1.8878524e-03, -3.0612748e-03, -1.0454704e-03, ...,\n",
       "          1.9161918e-03, -1.9326076e-03,  1.6883578e-03],\n",
       "        [ 2.0389883e-03, -3.2831223e-03, -1.0622890e-03, ...,\n",
       "          2.1175318e-03, -2.1162522e-03,  1.7595930e-03],\n",
       "        [ 2.1616532e-03, -3.4858522e-03, -1.0720917e-03, ...,\n",
       "          2.2877110e-03, -2.2811452e-03,  1.8112033e-03]],\n",
       "\n",
       "       ...,\n",
       "\n",
       "       [[-2.3774541e-04, -1.6248548e-04, -6.7211920e-05, ...,\n",
       "          3.5522655e-05, -1.2428571e-04,  1.6526844e-04],\n",
       "        [-4.3143012e-04, -3.3550159e-04, -3.8446200e-05, ...,\n",
       "         -3.5497600e-05,  5.2434825e-05,  2.0300917e-04],\n",
       "        [-4.7107739e-04, -9.1650285e-04, -1.4235340e-04, ...,\n",
       "         -1.2389418e-04,  3.6923491e-04,  3.1677340e-04],\n",
       "        ...,\n",
       "        [ 1.2982734e-03, -2.6238670e-03, -1.0286066e-03, ...,\n",
       "          4.7369424e-04, -6.0241720e-05,  1.1339388e-03],\n",
       "        [ 1.5056188e-03, -2.8016721e-03, -1.0938625e-03, ...,\n",
       "          8.6415681e-04, -4.4723845e-04,  1.2627319e-03],\n",
       "        [ 1.6859403e-03, -2.9790096e-03, -1.1216225e-03, ...,\n",
       "          1.2218256e-03, -8.0980995e-04,  1.3762653e-03]],\n",
       "\n",
       "       [[-2.3774541e-04, -1.6248548e-04, -6.7211920e-05, ...,\n",
       "          3.5522655e-05, -1.2428571e-04,  1.6526844e-04],\n",
       "        [-4.6686747e-04, -3.7501613e-04, -4.6776855e-05, ...,\n",
       "          8.6254426e-05, -7.9580874e-05,  2.8083628e-04],\n",
       "        [-7.1256253e-04, -6.7471532e-04, -1.2482927e-04, ...,\n",
       "          3.3597462e-04, -1.6007212e-04,  1.6147508e-04],\n",
       "        ...,\n",
       "        [-9.8459386e-05, -7.2183629e-04, -1.2054421e-03, ...,\n",
       "          5.9489318e-04, -3.8579665e-04, -6.0842122e-04],\n",
       "        [ 9.5144504e-05, -4.1906524e-04, -1.2201123e-03, ...,\n",
       "          4.4458563e-04, -3.5085098e-04, -6.8771013e-04],\n",
       "        [ 3.5897471e-04, -4.0898420e-04, -1.3205423e-03, ...,\n",
       "          5.1671965e-04, -4.7299516e-04, -6.4089784e-04]],\n",
       "\n",
       "       [[-2.3774541e-04, -1.6248548e-04, -6.7211920e-05, ...,\n",
       "          3.5522655e-05, -1.2428571e-04,  1.6526844e-04],\n",
       "        [-3.2005677e-04, -3.2886385e-04, -2.9134226e-04, ...,\n",
       "          1.6900303e-04, -7.0956929e-05,  1.8004856e-04],\n",
       "        [-5.2295835e-04, -4.7008504e-04, -5.3751672e-04, ...,\n",
       "          1.6467688e-04,  2.3937038e-05,  5.5742241e-04],\n",
       "        ...,\n",
       "        [ 1.3105541e-03, -2.2827866e-03, -1.0962251e-03, ...,\n",
       "          7.7353790e-04, -1.3373307e-03,  8.7103603e-04],\n",
       "        [ 1.6126429e-03, -2.6119612e-03, -1.1496546e-03, ...,\n",
       "          1.1021104e-03, -1.5664210e-03,  9.5871754e-04],\n",
       "        [ 1.8650193e-03, -2.9205186e-03, -1.1796976e-03, ...,\n",
       "          1.3963053e-03, -1.7819355e-03,  1.0479963e-03]]], dtype=float32)>"
      ]
     },
     "execution_count": 28,
     "metadata": {},
     "output_type": "execute_result"
    }
   ],
   "source": [
    "# 데이터셋에서 데이터 한 배치만 불러오는 방법입니다.\n",
    "# 지금은 동작 원리에 너무 빠져들지 마세요~\n",
    "for src_sample, tgt_sample in dataset.take(1): break\n",
    "\n",
    "# 한 배치만 불러온 데이터를 모델에 넣어봅니다\n",
    "model(src_sample)"
   ]
  },
  {
   "cell_type": "code",
   "execution_count": 30,
   "id": "1782e816",
   "metadata": {
    "scrolled": true
   },
   "outputs": [
    {
     "name": "stdout",
     "output_type": "stream",
     "text": [
      "Model: \"text_generator\"\n",
      "_________________________________________________________________\n",
      "Layer (type)                 Output Shape              Param #   \n",
      "=================================================================\n",
      "embedding (Embedding)        multiple                  3072256   \n",
      "_________________________________________________________________\n",
      "lstm (LSTM)                  multiple                  5246976   \n",
      "_________________________________________________________________\n",
      "lstm_1 (LSTM)                multiple                  8392704   \n",
      "_________________________________________________________________\n",
      "dense (Dense)                multiple                  12301025  \n",
      "=================================================================\n",
      "Total params: 29,012,961\n",
      "Trainable params: 29,012,961\n",
      "Non-trainable params: 0\n",
      "_________________________________________________________________\n"
     ]
    }
   ],
   "source": [
    "model.summary()"
   ]
  },
  {
   "cell_type": "markdown",
   "id": "901dabe0",
   "metadata": {},
   "source": [
    "## (5) 인공지능 만들기"
   ]
  },
  {
   "cell_type": "code",
   "execution_count": 31,
   "id": "f8a011e5",
   "metadata": {},
   "outputs": [
    {
     "name": "stdout",
     "output_type": "stream",
     "text": [
      "Epoch 1/30\n",
      "687/687 [==============================] - 118s 165ms/step - loss: 3.6502\n",
      "Epoch 2/30\n",
      "687/687 [==============================] - 114s 165ms/step - loss: 3.1489\n",
      "Epoch 3/30\n",
      "687/687 [==============================] - 114s 165ms/step - loss: 2.9470\n",
      "Epoch 4/30\n",
      "687/687 [==============================] - 114s 165ms/step - loss: 2.7941\n",
      "Epoch 5/30\n",
      "687/687 [==============================] - 114s 165ms/step - loss: 2.6640\n",
      "Epoch 6/30\n",
      "687/687 [==============================] - 114s 165ms/step - loss: 2.5463\n",
      "Epoch 7/30\n",
      "687/687 [==============================] - 114s 165ms/step - loss: 2.4370\n",
      "Epoch 8/30\n",
      "687/687 [==============================] - 114s 165ms/step - loss: 2.3366\n",
      "Epoch 9/30\n",
      "687/687 [==============================] - 114s 165ms/step - loss: 2.2422\n",
      "Epoch 10/30\n",
      "687/687 [==============================] - 114s 165ms/step - loss: 2.1525\n",
      "Epoch 11/30\n",
      "687/687 [==============================] - 114s 166ms/step - loss: 2.0675\n",
      "Epoch 12/30\n",
      "687/687 [==============================] - 114s 165ms/step - loss: 1.9840\n",
      "Epoch 13/30\n",
      "687/687 [==============================] - 114s 165ms/step - loss: 1.9040\n",
      "Epoch 14/30\n",
      "687/687 [==============================] - 114s 165ms/step - loss: 1.8259\n",
      "Epoch 15/30\n",
      "687/687 [==============================] - 114s 165ms/step - loss: 1.7498\n",
      "Epoch 16/30\n",
      "687/687 [==============================] - 114s 165ms/step - loss: 1.6765\n",
      "Epoch 17/30\n",
      "687/687 [==============================] - 114s 166ms/step - loss: 1.6059\n",
      "Epoch 18/30\n",
      "687/687 [==============================] - 114s 165ms/step - loss: 1.5391\n",
      "Epoch 19/30\n",
      "687/687 [==============================] - 114s 165ms/step - loss: 1.4752\n",
      "Epoch 20/30\n",
      "687/687 [==============================] - 114s 165ms/step - loss: 1.4153\n",
      "Epoch 21/30\n",
      "687/687 [==============================] - 114s 166ms/step - loss: 1.3594\n",
      "Epoch 22/30\n",
      "687/687 [==============================] - 114s 165ms/step - loss: 1.3070\n",
      "Epoch 23/30\n",
      "687/687 [==============================] - 114s 165ms/step - loss: 1.2582\n",
      "Epoch 24/30\n",
      "687/687 [==============================] - 114s 165ms/step - loss: 1.2140\n",
      "Epoch 25/30\n",
      "687/687 [==============================] - 114s 165ms/step - loss: 1.1727\n",
      "Epoch 26/30\n",
      "687/687 [==============================] - 114s 165ms/step - loss: 1.1351\n",
      "Epoch 27/30\n",
      "687/687 [==============================] - 114s 165ms/step - loss: 1.1016\n",
      "Epoch 28/30\n",
      "687/687 [==============================] - 114s 165ms/step - loss: 1.0709\n",
      "Epoch 29/30\n",
      "687/687 [==============================] - 114s 165ms/step - loss: 1.0434\n",
      "Epoch 30/30\n",
      "687/687 [==============================] - 114s 165ms/step - loss: 1.0185\n"
     ]
    },
    {
     "data": {
      "text/plain": [
       "<keras.callbacks.History at 0x7fb338419580>"
      ]
     },
     "execution_count": 31,
     "metadata": {},
     "output_type": "execute_result"
    }
   ],
   "source": [
    "# optimizer와 loss등은 차차 배웁니다\n",
    "# 혹시 미리 알고 싶다면 아래 문서를 참고하세요\n",
    "# https://www.tensorflow.org/api_docs/python/tf/keras/optimizers\n",
    "# https://www.tensorflow.org/api_docs/python/tf/keras/losses\n",
    "# 양이 상당히 많은 편이니 지금 보는 것은 추천하지 않습니다\n",
    "optimizer = tf.keras.optimizers.Adam()\n",
    "loss = tf.keras.losses.SparseCategoricalCrossentropy(\n",
    "    from_logits=True,\n",
    "    reduction='none'\n",
    ")\n",
    "\n",
    "model.compile(loss=loss, optimizer=optimizer)\n",
    "model.fit(dataset, epochs=30)"
   ]
  },
  {
   "cell_type": "code",
   "execution_count": 48,
   "id": "5cce2f2f",
   "metadata": {},
   "outputs": [],
   "source": [
    "def generate_text(model, tokenizer, init_sentence=\"<start>\", max_len=20):\n",
    "    # 테스트를 위해서 입력받은 init_sentence도 텐서로 변환합니다\n",
    "    test_input = tokenizer.texts_to_sequences([init_sentence])\n",
    "    test_tensor = tf.convert_to_tensor(test_input, dtype=tf.int64)\n",
    "    end_token = tokenizer.word_index[\"<end>\"]\n",
    "\n",
    "    # 단어 하나씩 예측해 문장을 만듭니다\n",
    "    #    1. 입력받은 문장의 텐서를 입력합니다\n",
    "    #    2. 예측된 값 중 가장 높은 확률인 word index를 뽑아냅니다\n",
    "    #    3. 2에서 예측된 word index를 문장 뒤에 붙입니다\n",
    "    #    4. 모델이 <end>를 예측했거나, max_len에 도달했다면 문장 생성을 마칩니다\n",
    "    while True:\n",
    "        # 1\n",
    "        predict = model(test_tensor) \n",
    "        # 2\n",
    "        predict_word = tf.argmax(tf.nn.softmax(predict, axis=-1), axis=-1)[:, -1] \n",
    "        # 3 \n",
    "        test_tensor = tf.concat([test_tensor, tf.expand_dims(predict_word, axis=0)], axis=-1)\n",
    "        # 4\n",
    "        if predict_word.numpy()[0] == end_token: break\n",
    "        if test_tensor.shape[1] >= max_len: break\n",
    "\n",
    "    generated = \"\"\n",
    "    # tokenizer를 이용해 word index를 단어로 하나씩 변환합니다 \n",
    "    for word_index in test_tensor[0].numpy():\n",
    "        generated += tokenizer.index_word[word_index] + \" \"\n",
    "\n",
    "    return generated"
   ]
  },
  {
   "cell_type": "code",
   "execution_count": 57,
   "id": "abdcafe9",
   "metadata": {
    "scrolled": true
   },
   "outputs": [
    {
     "data": {
      "text/plain": [
       "'<start> i learn to talk to him <end> '"
      ]
     },
     "execution_count": 57,
     "metadata": {},
     "output_type": "execute_result"
    }
   ],
   "source": [
    "generate_text(model, tokenizer, init_sentence=\"<start>  i learn\", max_len=20)"
   ]
  },
  {
   "cell_type": "markdown",
   "id": "ef89cad8",
   "metadata": {},
   "source": [
    "---"
   ]
  },
  {
   "cell_type": "markdown",
   "id": "aa971e11",
   "metadata": {},
   "source": [
    "토큰화파트 부터 코드의 이해가 안되는 부분이 많아 다시 제대로 공부를 해서 볼 필요가 있다. "
   ]
  },
  {
   "cell_type": "code",
   "execution_count": null,
   "id": "d1fc7d56",
   "metadata": {},
   "outputs": [],
   "source": []
  }
 ],
 "metadata": {
  "kernelspec": {
   "display_name": "Python 3 (ipykernel)",
   "language": "python",
   "name": "python3"
  },
  "language_info": {
   "codemirror_mode": {
    "name": "ipython",
    "version": 3
   },
   "file_extension": ".py",
   "mimetype": "text/x-python",
   "name": "python",
   "nbconvert_exporter": "python",
   "pygments_lexer": "ipython3",
   "version": "3.9.7"
  }
 },
 "nbformat": 4,
 "nbformat_minor": 5
}
